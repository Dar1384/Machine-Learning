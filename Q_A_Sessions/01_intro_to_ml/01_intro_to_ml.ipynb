{
 "cells": [
  {
   "cell_type": "markdown",
   "metadata": {},
   "source": [
    "# Live-Tutorial DSML01 Part I"
   ]
  },
  {
   "cell_type": "markdown",
   "metadata": {},
   "source": [
    "**Aim:** In this notebook we discuss an end-to-end machine learning project looks. It is not important that you understand already all concepts presented here, but this notebook is more like an appetizer for the machine learning module."
   ]
  },
  {
   "cell_type": "markdown",
   "metadata": {},
   "source": [
    "# Sources"
   ]
  },
  {
   "cell_type": "markdown",
   "metadata": {},
   "source": [
    "*    We closely follow Chapter 5 Supervised Learning from *Igual & Segui \"Introduction to data science\"* (see: Reading List - Required Reading Unit 1). The data set can be found at https://github.com/DataScienceUB/introduction-datascience-python-book/tree/master/files/ch05."
   ]
  },
  {
   "cell_type": "markdown",
   "metadata": {},
   "source": [
    "# Preambel"
   ]
  },
  {
   "cell_type": "markdown",
   "metadata": {},
   "source": [
    "Here all useful imports and paths to the data are provided."
   ]
  },
  {
   "cell_type": "code",
   "execution_count": 1,
   "metadata": {
    "ExecuteTime": {
     "end_time": "2021-04-20T16:36:02.748435Z",
     "start_time": "2021-04-20T16:36:01.241577Z"
    }
   },
   "outputs": [],
   "source": [
    "# Common imports\n",
    "import numpy as np # numpy is THE toolbox for scientific computing with python\n",
    "import pandas as pd # pandas provides THE data structure and data analysis tools for data scientists \n",
    "import pickle # we have to import a pickle file\n",
    "import os \n",
    "# from datetime import timedelta, datetime\n",
    "\n",
    "# maximum number of columns\n",
    "pd.set_option(\"display.max_rows\", 101)\n",
    "pd.set_option(\"display.max_columns\", 101)\n",
    "\n",
    "# To plot pretty figures\n",
    "%matplotlib inline\n",
    "import matplotlib as mpl\n",
    "import matplotlib.pyplot as plt\n",
    "mpl.rc('axes', labelsize=14)\n",
    "mpl.rc('xtick', labelsize=12)\n",
    "mpl.rc('ytick', labelsize=12)"
   ]
  },
  {
   "cell_type": "markdown",
   "metadata": {},
   "source": [
    "# Load the data"
   ]
  },
  {
   "cell_type": "markdown",
   "metadata": {},
   "source": [
    "Data can be extracted from many different sources, either from simple .csv or .xlsx files, but also from databases. \n",
    "\n",
    "Most important commands for loading data are: \n",
    "\n",
    "```python\n",
    "pd.read_csv()\n",
    "pd.read_excel()\n",
    "pd.read_sql()\n",
    "pd.read_pickle()\n",
    "```"
   ]
  },
  {
   "cell_type": "code",
   "execution_count": 5,
   "metadata": {
    "ExecuteTime": {
     "end_time": "2021-03-09T16:26:01.122293Z",
     "start_time": "2021-03-09T16:26:01.088332Z"
    }
   },
   "outputs": [],
   "source": [
    "# (x,y) = pd.read_pickle('../../../introduction-datascience-python-book-master/files/ch05/dataset_small.pkl')\n",
    "# # x stores input data and y target values\n",
    "# df = pd.concat([pd.DataFrame(x), pd.DataFrame(y)], axis = 1)\n",
    "# flatten = lambda l: [item for sublist in l for item in sublist]\n",
    "# # cols = flatten([['col_' + str(i) for i in range(df.shape[1]-1)], ['loan funded']])\n",
    "# df.columns = cols"
   ]
  },
  {
   "cell_type": "code",
   "execution_count": 7,
   "metadata": {
    "ExecuteTime": {
     "end_time": "2021-04-20T16:37:30.282653Z",
     "start_time": "2021-04-20T16:37:30.262660Z"
    }
   },
   "outputs": [],
   "source": [
    "df = pd.read_pickle('./data/dataset_new_pickle.pkl')"
   ]
  },
  {
   "cell_type": "code",
   "execution_count": 8,
   "metadata": {
    "ExecuteTime": {
     "end_time": "2021-04-20T16:37:38.693007Z",
     "start_time": "2021-04-20T16:37:38.666964Z"
    }
   },
   "outputs": [
    {
     "data": {
      "text/html": [
       "<div>\n",
       "<style scoped>\n",
       "    .dataframe tbody tr th:only-of-type {\n",
       "        vertical-align: middle;\n",
       "    }\n",
       "\n",
       "    .dataframe tbody tr th {\n",
       "        vertical-align: top;\n",
       "    }\n",
       "\n",
       "    .dataframe thead th {\n",
       "        text-align: right;\n",
       "    }\n",
       "</style>\n",
       "<table border=\"1\" class=\"dataframe\">\n",
       "  <thead>\n",
       "    <tr style=\"text-align: right;\">\n",
       "      <th></th>\n",
       "      <th>col_0</th>\n",
       "      <th>col_1</th>\n",
       "      <th>col_2</th>\n",
       "      <th>col_3</th>\n",
       "      <th>col_4</th>\n",
       "      <th>col_5</th>\n",
       "      <th>col_6</th>\n",
       "      <th>col_7</th>\n",
       "      <th>col_8</th>\n",
       "      <th>col_9</th>\n",
       "      <th>col_10</th>\n",
       "      <th>col_11</th>\n",
       "      <th>col_12</th>\n",
       "      <th>col_13</th>\n",
       "      <th>col_14</th>\n",
       "      <th>loan funded</th>\n",
       "    </tr>\n",
       "  </thead>\n",
       "  <tbody>\n",
       "    <tr>\n",
       "      <th>0</th>\n",
       "      <td>3600.0</td>\n",
       "      <td>2375.0</td>\n",
       "      <td>76.31</td>\n",
       "      <td>30000.0</td>\n",
       "      <td>15.04</td>\n",
       "      <td>0.0</td>\n",
       "      <td>27.0</td>\n",
       "      <td>0.0970</td>\n",
       "      <td>1.0</td>\n",
       "      <td>10.0</td>\n",
       "      <td>-1.0</td>\n",
       "      <td>-1.0</td>\n",
       "      <td>-1.0</td>\n",
       "      <td>-1.0</td>\n",
       "      <td>1.0</td>\n",
       "      <td>1.0</td>\n",
       "    </tr>\n",
       "    <tr>\n",
       "      <th>1</th>\n",
       "      <td>23000.0</td>\n",
       "      <td>23000.0</td>\n",
       "      <td>767.89</td>\n",
       "      <td>95000.0</td>\n",
       "      <td>16.07</td>\n",
       "      <td>0.0</td>\n",
       "      <td>20.0</td>\n",
       "      <td>0.1236</td>\n",
       "      <td>1.0</td>\n",
       "      <td>3.0</td>\n",
       "      <td>-1.0</td>\n",
       "      <td>-1.0</td>\n",
       "      <td>-1.0</td>\n",
       "      <td>-1.0</td>\n",
       "      <td>1.0</td>\n",
       "      <td>1.0</td>\n",
       "    </tr>\n",
       "    <tr>\n",
       "      <th>2</th>\n",
       "      <td>7000.0</td>\n",
       "      <td>7000.0</td>\n",
       "      <td>225.84</td>\n",
       "      <td>66000.0</td>\n",
       "      <td>6.58</td>\n",
       "      <td>0.0</td>\n",
       "      <td>6.0</td>\n",
       "      <td>0.0999</td>\n",
       "      <td>1.0</td>\n",
       "      <td>0.0</td>\n",
       "      <td>-1.0</td>\n",
       "      <td>-1.0</td>\n",
       "      <td>-1.0</td>\n",
       "      <td>-1.0</td>\n",
       "      <td>1.0</td>\n",
       "      <td>1.0</td>\n",
       "    </tr>\n",
       "  </tbody>\n",
       "</table>\n",
       "</div>"
      ],
      "text/plain": [
       "     col_0    col_1   col_2    col_3  col_4  col_5  col_6   col_7  col_8  \\\n",
       "0   3600.0   2375.0   76.31  30000.0  15.04    0.0   27.0  0.0970    1.0   \n",
       "1  23000.0  23000.0  767.89  95000.0  16.07    0.0   20.0  0.1236    1.0   \n",
       "2   7000.0   7000.0  225.84  66000.0   6.58    0.0    6.0  0.0999    1.0   \n",
       "\n",
       "   col_9  col_10  col_11  col_12  col_13  col_14  loan funded  \n",
       "0   10.0    -1.0    -1.0    -1.0    -1.0     1.0          1.0  \n",
       "1    3.0    -1.0    -1.0    -1.0    -1.0     1.0          1.0  \n",
       "2    0.0    -1.0    -1.0    -1.0    -1.0     1.0          1.0  "
      ]
     },
     "execution_count": 8,
     "metadata": {},
     "output_type": "execute_result"
    }
   ],
   "source": [
    "df.head(3)"
   ]
  },
  {
   "cell_type": "code",
   "execution_count": 9,
   "metadata": {
    "ExecuteTime": {
     "end_time": "2021-04-20T16:37:41.203509Z",
     "start_time": "2021-04-20T16:37:41.198515Z"
    }
   },
   "outputs": [],
   "source": [
    "cols = ['loan_amnt','funded_amnt', 'installment',\n",
    "        'annual_inc', 'dti',\n",
    "        'delinq_2yrs',  \n",
    "        'total_acc',\n",
    "        'int_rate_clean', 'term_clean', 'emp_length_clean', \n",
    "        'home_ownership=MORTGAGE', 'home_ownership=NONE', 'home_ownership=OTHER', \n",
    "        'home_ownership=OWN','home_ownership=RENT', 'loan_funded']\n",
    "len(cols)\n",
    "df.columns = cols"
   ]
  },
  {
   "cell_type": "code",
   "execution_count": 87,
   "metadata": {
    "ExecuteTime": {
     "end_time": "2021-03-09T18:10:51.984029Z",
     "start_time": "2021-03-09T18:10:51.915028Z"
    }
   },
   "outputs": [
    {
     "data": {
      "text/html": [
       "<div>\n",
       "<style scoped>\n",
       "    .dataframe tbody tr th:only-of-type {\n",
       "        vertical-align: middle;\n",
       "    }\n",
       "\n",
       "    .dataframe tbody tr th {\n",
       "        vertical-align: top;\n",
       "    }\n",
       "\n",
       "    .dataframe thead th {\n",
       "        text-align: right;\n",
       "    }\n",
       "</style>\n",
       "<table border=\"1\" class=\"dataframe\">\n",
       "  <thead>\n",
       "    <tr style=\"text-align: right;\">\n",
       "      <th></th>\n",
       "      <th>loan_amnt</th>\n",
       "      <th>funded_amnt</th>\n",
       "      <th>installment</th>\n",
       "      <th>annual_inc</th>\n",
       "      <th>dti</th>\n",
       "      <th>delinq_2yrs</th>\n",
       "      <th>total_acc</th>\n",
       "      <th>int_rate_clean</th>\n",
       "      <th>term_clean</th>\n",
       "      <th>emp_length_clean</th>\n",
       "      <th>home_ownership=MORTGAGE</th>\n",
       "      <th>home_ownership=NONE</th>\n",
       "      <th>home_ownership=OTHER</th>\n",
       "      <th>home_ownership=OWN</th>\n",
       "      <th>home_ownership=RENT</th>\n",
       "      <th>loan_funded</th>\n",
       "    </tr>\n",
       "  </thead>\n",
       "  <tbody>\n",
       "    <tr>\n",
       "      <th>0</th>\n",
       "      <td>3600.0</td>\n",
       "      <td>2375.0</td>\n",
       "      <td>76.31</td>\n",
       "      <td>30000.0</td>\n",
       "      <td>15.04</td>\n",
       "      <td>0.0</td>\n",
       "      <td>27.0</td>\n",
       "      <td>0.0970</td>\n",
       "      <td>1.0</td>\n",
       "      <td>10.0</td>\n",
       "      <td>-1.0</td>\n",
       "      <td>-1.0</td>\n",
       "      <td>-1.0</td>\n",
       "      <td>-1.0</td>\n",
       "      <td>1.0</td>\n",
       "      <td>1.0</td>\n",
       "    </tr>\n",
       "    <tr>\n",
       "      <th>1</th>\n",
       "      <td>23000.0</td>\n",
       "      <td>23000.0</td>\n",
       "      <td>767.89</td>\n",
       "      <td>95000.0</td>\n",
       "      <td>16.07</td>\n",
       "      <td>0.0</td>\n",
       "      <td>20.0</td>\n",
       "      <td>0.1236</td>\n",
       "      <td>1.0</td>\n",
       "      <td>3.0</td>\n",
       "      <td>-1.0</td>\n",
       "      <td>-1.0</td>\n",
       "      <td>-1.0</td>\n",
       "      <td>-1.0</td>\n",
       "      <td>1.0</td>\n",
       "      <td>1.0</td>\n",
       "    </tr>\n",
       "    <tr>\n",
       "      <th>2</th>\n",
       "      <td>7000.0</td>\n",
       "      <td>7000.0</td>\n",
       "      <td>225.84</td>\n",
       "      <td>66000.0</td>\n",
       "      <td>6.58</td>\n",
       "      <td>0.0</td>\n",
       "      <td>6.0</td>\n",
       "      <td>0.0999</td>\n",
       "      <td>1.0</td>\n",
       "      <td>0.0</td>\n",
       "      <td>-1.0</td>\n",
       "      <td>-1.0</td>\n",
       "      <td>-1.0</td>\n",
       "      <td>-1.0</td>\n",
       "      <td>1.0</td>\n",
       "      <td>1.0</td>\n",
       "    </tr>\n",
       "  </tbody>\n",
       "</table>\n",
       "</div>"
      ],
      "text/plain": [
       "   loan_amnt  funded_amnt  installment  annual_inc    dti  delinq_2yrs  \\\n",
       "0     3600.0       2375.0        76.31     30000.0  15.04          0.0   \n",
       "1    23000.0      23000.0       767.89     95000.0  16.07          0.0   \n",
       "2     7000.0       7000.0       225.84     66000.0   6.58          0.0   \n",
       "\n",
       "   total_acc  int_rate_clean  term_clean  emp_length_clean  \\\n",
       "0       27.0          0.0970         1.0              10.0   \n",
       "1       20.0          0.1236         1.0               3.0   \n",
       "2        6.0          0.0999         1.0               0.0   \n",
       "\n",
       "   home_ownership=MORTGAGE  home_ownership=NONE  home_ownership=OTHER  \\\n",
       "0                     -1.0                 -1.0                  -1.0   \n",
       "1                     -1.0                 -1.0                  -1.0   \n",
       "2                     -1.0                 -1.0                  -1.0   \n",
       "\n",
       "   home_ownership=OWN  home_ownership=RENT  loan_funded  \n",
       "0                -1.0                  1.0          1.0  \n",
       "1                -1.0                  1.0          1.0  \n",
       "2                -1.0                  1.0          1.0  "
      ]
     },
     "execution_count": 87,
     "metadata": {},
     "output_type": "execute_result"
    }
   ],
   "source": [
    "df.head(3)"
   ]
  },
  {
   "cell_type": "markdown",
   "metadata": {},
   "source": [
    "# Initital Analysis of Data"
   ]
  },
  {
   "cell_type": "markdown",
   "metadata": {},
   "source": [
    "Important commands to start analyzing a dataset:\n",
    "    \n",
    "```python\n",
    "df.head()\n",
    "df.tail()\n",
    "df.dtypes\n",
    "df.info()\n",
    "df.describe()\n",
    "``` \n",
    "\n",
    "Important for finding aggregated info:\n",
    "```python\n",
    "df[col].value_counts()\n",
    "```\n",
    "\n",
    "Plotting histograms:\n",
    "```python\n",
    "df[col].hist()\n",
    "```"
   ]
  },
  {
   "cell_type": "code",
   "execution_count": null,
   "metadata": {},
   "outputs": [],
   "source": [
    "Supervised Models - Regression, Classification\n",
    "Unsupervised Models "
   ]
  },
  {
   "cell_type": "code",
   "execution_count": 20,
   "metadata": {
    "ExecuteTime": {
     "end_time": "2021-03-09T16:43:00.349353Z",
     "start_time": "2021-03-09T16:43:00.334356Z"
    }
   },
   "outputs": [
    {
     "data": {
      "text/html": [
       "<div>\n",
       "<style scoped>\n",
       "    .dataframe tbody tr th:only-of-type {\n",
       "        vertical-align: middle;\n",
       "    }\n",
       "\n",
       "    .dataframe tbody tr th {\n",
       "        vertical-align: top;\n",
       "    }\n",
       "\n",
       "    .dataframe thead th {\n",
       "        text-align: right;\n",
       "    }\n",
       "</style>\n",
       "<table border=\"1\" class=\"dataframe\">\n",
       "  <thead>\n",
       "    <tr style=\"text-align: right;\">\n",
       "      <th></th>\n",
       "      <th>loan_amnt</th>\n",
       "      <th>funded_amnt</th>\n",
       "      <th>installment</th>\n",
       "      <th>annual_inc</th>\n",
       "      <th>dti</th>\n",
       "      <th>delinq_2yrs</th>\n",
       "      <th>total_acc</th>\n",
       "      <th>int_rate_clean</th>\n",
       "      <th>term_clean</th>\n",
       "      <th>emp_length_clean</th>\n",
       "      <th>home_ownership=MORTGAGE</th>\n",
       "      <th>home_ownership=NONE</th>\n",
       "      <th>home_ownership=OTHER</th>\n",
       "      <th>home_ownership=OWN</th>\n",
       "      <th>home_ownership=RENT</th>\n",
       "      <th>loan_funded</th>\n",
       "    </tr>\n",
       "  </thead>\n",
       "  <tbody>\n",
       "    <tr>\n",
       "      <th>0</th>\n",
       "      <td>3600.0</td>\n",
       "      <td>2375.0</td>\n",
       "      <td>76.31</td>\n",
       "      <td>30000.0</td>\n",
       "      <td>15.04</td>\n",
       "      <td>0.0</td>\n",
       "      <td>27.0</td>\n",
       "      <td>0.0970</td>\n",
       "      <td>1.0</td>\n",
       "      <td>10.0</td>\n",
       "      <td>-1.0</td>\n",
       "      <td>-1.0</td>\n",
       "      <td>-1.0</td>\n",
       "      <td>-1.0</td>\n",
       "      <td>1.0</td>\n",
       "      <td>1.0</td>\n",
       "    </tr>\n",
       "    <tr>\n",
       "      <th>1</th>\n",
       "      <td>23000.0</td>\n",
       "      <td>23000.0</td>\n",
       "      <td>767.89</td>\n",
       "      <td>95000.0</td>\n",
       "      <td>16.07</td>\n",
       "      <td>0.0</td>\n",
       "      <td>20.0</td>\n",
       "      <td>0.1236</td>\n",
       "      <td>1.0</td>\n",
       "      <td>3.0</td>\n",
       "      <td>-1.0</td>\n",
       "      <td>-1.0</td>\n",
       "      <td>-1.0</td>\n",
       "      <td>-1.0</td>\n",
       "      <td>1.0</td>\n",
       "      <td>1.0</td>\n",
       "    </tr>\n",
       "    <tr>\n",
       "      <th>2</th>\n",
       "      <td>7000.0</td>\n",
       "      <td>7000.0</td>\n",
       "      <td>225.84</td>\n",
       "      <td>66000.0</td>\n",
       "      <td>6.58</td>\n",
       "      <td>0.0</td>\n",
       "      <td>6.0</td>\n",
       "      <td>0.0999</td>\n",
       "      <td>1.0</td>\n",
       "      <td>0.0</td>\n",
       "      <td>-1.0</td>\n",
       "      <td>-1.0</td>\n",
       "      <td>-1.0</td>\n",
       "      <td>-1.0</td>\n",
       "      <td>1.0</td>\n",
       "      <td>1.0</td>\n",
       "    </tr>\n",
       "  </tbody>\n",
       "</table>\n",
       "</div>"
      ],
      "text/plain": [
       "   loan_amnt  funded_amnt  installment  annual_inc    dti  delinq_2yrs  \\\n",
       "0     3600.0       2375.0        76.31     30000.0  15.04          0.0   \n",
       "1    23000.0      23000.0       767.89     95000.0  16.07          0.0   \n",
       "2     7000.0       7000.0       225.84     66000.0   6.58          0.0   \n",
       "\n",
       "   total_acc  int_rate_clean  term_clean  emp_length_clean  \\\n",
       "0       27.0          0.0970         1.0              10.0   \n",
       "1       20.0          0.1236         1.0               3.0   \n",
       "2        6.0          0.0999         1.0               0.0   \n",
       "\n",
       "   home_ownership=MORTGAGE  home_ownership=NONE  home_ownership=OTHER  \\\n",
       "0                     -1.0                 -1.0                  -1.0   \n",
       "1                     -1.0                 -1.0                  -1.0   \n",
       "2                     -1.0                 -1.0                  -1.0   \n",
       "\n",
       "   home_ownership=OWN  home_ownership=RENT  loan_funded  \n",
       "0                -1.0                  1.0          1.0  \n",
       "1                -1.0                  1.0          1.0  \n",
       "2                -1.0                  1.0          1.0  "
      ]
     },
     "execution_count": 20,
     "metadata": {},
     "output_type": "execute_result"
    }
   ],
   "source": [
    "df.head(3)"
   ]
  },
  {
   "cell_type": "code",
   "execution_count": 7,
   "metadata": {
    "ExecuteTime": {
     "end_time": "2021-03-09T16:30:02.355795Z",
     "start_time": "2021-03-09T16:30:02.350803Z"
    }
   },
   "outputs": [
    {
     "data": {
      "text/plain": [
       "(4140, 16)"
      ]
     },
     "execution_count": 7,
     "metadata": {},
     "output_type": "execute_result"
    }
   ],
   "source": [
    "df.shape"
   ]
  },
  {
   "cell_type": "markdown",
   "metadata": {},
   "source": [
    "we want to predict based on the information filled by the customer asking for a loan if it will be granted or not up to a certain threshold $thr$. We are using data from the Lending Club. Not all information is relevant to our interest, thus we detail in the following the fields we will base our prediction on:\n",
    "\n",
    "+ annual_inc\tThe annual income provided by the borrower during registration.\n",
    "+ delinq_2yrs\tThe number of 30+ days past-due incidences of delinquency in the borrower's credit file for the past 2 years\n",
    "+ dti\tA ratio calculated using the borrower’s total monthly debt payments on the total debt obligations, excluding mortgage and the requested LC loan, divided by the borrower’s self-reported monthly income.\n",
    "+ earliest_cr_line\tThe month the borrower's earliest reported credit line was opened\n",
    "+ emp_length\tEmployment length in years. Possible values are between 0 and 10 where 0 means less than one year and 10 means ten or more years. \n",
    "+ home_ownership\tThe home ownership status provided by the borrower during registration. Our values are: RENT, OWN, MORTGAGE, OTHER.\n",
    "+ installment\tThe monthly payment owed by the borrower if the loan originates.\n",
    "+ int_rate\tInterest Rate on the loan\n",
    "+ is_inc_v\tIndicates if income was verified by LC, not verified, or if the income source was verified\n",
    "+ last_fico_range_high\tThe last upper boundary of range the borrower’s FICO belongs to pulled.\n",
    "+ last_fico_range_low\tThe last lower boundary of range the borrower’s FICO belongs to pulled.\n",
    "+ fico_range_high\tThe upper boundary of range the borrower’s FICO belongs to.\n",
    "+ fico_range_low\tThe lower boundary of range the borrower’s FICO belongs to.\n",
    "+ mths_since_last_delinq\tThe number of months since the borrower's last delinquency.\n",
    "+ mths_since_last_major_derog\tMonths since most recent 90-day or worse rating\n",
    "+ open_acc\tThe number of open credit lines in the borrower's credit file.\n",
    "+ term\tThe number of payments on the loan. Values are in months and can be either 36 or 60.\n",
    "+ total_acc\tThe total number of credit lines currently in the borrower's credit file\n",
    "+ loan_amnt\tThe listed amount of the loan applied for by the borrower. If at some point in time, the credit department reduces the loan amount, then it will be reflected in this value.\n",
    "\n",
    "A loan applicaiton is successful if the funded amount (funded_amnt) or the funded amount by investors (funded_amnt_inv) is close to the loan amount (loan_amnt) requested. In this sense we could put a threshold in which the acceptance is based on \n",
    "$$\\frac{loan - funded}{loan}\\geq 0.9$$"
   ]
  },
  {
   "cell_type": "code",
   "execution_count": null,
   "metadata": {},
   "outputs": [],
   "source": [
    "# features: explanatory variables\n",
    "# target: variable one wants to forecast"
   ]
  },
  {
   "cell_type": "markdown",
   "metadata": {
    "ExecuteTime": {
     "end_time": "2020-07-27T09:01:26.368557Z",
     "start_time": "2020-07-27T09:01:26.322704Z"
    }
   },
   "source": [
    "Considering the accepted loans which ones are successful and can we derive some rules for success?"
   ]
  },
  {
   "cell_type": "code",
   "execution_count": 21,
   "metadata": {
    "ExecuteTime": {
     "end_time": "2021-03-09T16:50:47.323333Z",
     "start_time": "2021-03-09T16:50:47.313333Z"
    }
   },
   "outputs": [
    {
     "data": {
      "text/plain": [
       "loan_amnt                  float64\n",
       "funded_amnt                float64\n",
       "installment                float64\n",
       "annual_inc                 float64\n",
       "dti                        float64\n",
       "delinq_2yrs                float64\n",
       "total_acc                  float64\n",
       "int_rate_clean             float64\n",
       "term_clean                 float64\n",
       "emp_length_clean           float64\n",
       "home_ownership=MORTGAGE    float64\n",
       "home_ownership=NONE        float64\n",
       "home_ownership=OTHER       float64\n",
       "home_ownership=OWN         float64\n",
       "home_ownership=RENT        float64\n",
       "loan_funded                float64\n",
       "dtype: object"
      ]
     },
     "execution_count": 21,
     "metadata": {},
     "output_type": "execute_result"
    }
   ],
   "source": [
    "df.dtypes\n",
    "# int, float, objects..."
   ]
  },
  {
   "cell_type": "code",
   "execution_count": 22,
   "metadata": {
    "ExecuteTime": {
     "end_time": "2021-03-09T16:50:50.556074Z",
     "start_time": "2021-03-09T16:50:50.529080Z"
    }
   },
   "outputs": [
    {
     "name": "stdout",
     "output_type": "stream",
     "text": [
      "<class 'pandas.core.frame.DataFrame'>\n",
      "RangeIndex: 4140 entries, 0 to 4139\n",
      "Data columns (total 16 columns):\n",
      " #   Column                   Non-Null Count  Dtype  \n",
      "---  ------                   --------------  -----  \n",
      " 0   loan_amnt                4140 non-null   float64\n",
      " 1   funded_amnt              4140 non-null   float64\n",
      " 2   installment              4140 non-null   float64\n",
      " 3   annual_inc               4140 non-null   float64\n",
      " 4   dti                      4140 non-null   float64\n",
      " 5   delinq_2yrs              4140 non-null   float64\n",
      " 6   total_acc                4140 non-null   float64\n",
      " 7   int_rate_clean           4140 non-null   float64\n",
      " 8   term_clean               4140 non-null   float64\n",
      " 9   emp_length_clean         4140 non-null   float64\n",
      " 10  home_ownership=MORTGAGE  4140 non-null   float64\n",
      " 11  home_ownership=NONE      4140 non-null   float64\n",
      " 12  home_ownership=OTHER     4140 non-null   float64\n",
      " 13  home_ownership=OWN       4140 non-null   float64\n",
      " 14  home_ownership=RENT      4140 non-null   float64\n",
      " 15  loan_funded              4140 non-null   float64\n",
      "dtypes: float64(16)\n",
      "memory usage: 517.6 KB\n"
     ]
    }
   ],
   "source": [
    "df.info()"
   ]
  },
  {
   "cell_type": "code",
   "execution_count": 23,
   "metadata": {
    "ExecuteTime": {
     "end_time": "2021-03-09T16:51:01.619116Z",
     "start_time": "2021-03-09T16:51:01.276865Z"
    }
   },
   "outputs": [
    {
     "data": {
      "image/png": "[encoded data removed]",
      "text/plain": [
       "<Figure size 1440x1080 with 1 Axes>"
      ]
     },
     "metadata": {
      "needs_background": "light"
     },
     "output_type": "display_data"
    }
   ],
   "source": [
    "%matplotlib inline\n",
    "import matplotlib.pyplot as plt\n",
    "df['loan_amnt'].hist(bins=50, figsize=(20,15))\n",
    "plt.show()"
   ]
  },
  {
   "cell_type": "code",
   "execution_count": 25,
   "metadata": {
    "ExecuteTime": {
     "end_time": "2021-03-09T16:51:37.322660Z",
     "start_time": "2021-03-09T16:51:37.265483Z"
    }
   },
   "outputs": [
    {
     "data": {
      "text/plain": [
       "-1.0    0.8157\n",
       " 1.0    0.1843\n",
       "Name: loan_funded, dtype: float64"
      ]
     },
     "execution_count": 25,
     "metadata": {},
     "output_type": "execute_result"
    }
   ],
   "source": [
    "df['loan_funded'].value_counts(normalize = True, dropna = False)"
   ]
  },
  {
   "cell_type": "code",
   "execution_count": null,
   "metadata": {},
   "outputs": [],
   "source": [
    "# 50%, 50%\n",
    "# 80%, 20%\n",
    "\n",
    "# 90%, 10%\n",
    "# credit card fraud classification: 99% 1% imbalanced data set "
   ]
  },
  {
   "cell_type": "code",
   "execution_count": 29,
   "metadata": {
    "ExecuteTime": {
     "end_time": "2021-03-09T16:52:34.247420Z",
     "start_time": "2021-03-09T16:52:34.243457Z"
    }
   },
   "outputs": [
    {
     "name": "stdout",
     "output_type": "stream",
     "text": [
      "features: 15, samples: 4140\n"
     ]
    }
   ],
   "source": [
    "# number of columns (features + target) and rows (samples)\n",
    "print('features: ' + str(df.shape[1]-1) + ', samples: ' + str(df.shape[0]))"
   ]
  },
  {
   "cell_type": "markdown",
   "metadata": {},
   "source": [
    "Check out pandas-profiling for more details on the data set: https://github.com/pandas-profiling/pandas-profiling "
   ]
  },
  {
   "cell_type": "markdown",
   "metadata": {},
   "source": [
    "# Forecasting successful loans"
   ]
  },
  {
   "cell_type": "markdown",
   "metadata": {},
   "source": [
    "## Scikit-Learn"
   ]
  },
  {
   "cell_type": "markdown",
   "metadata": {},
   "source": [
    "**Scikit-learn** is a machine learning library built from NumPy, SciPy, and Matplotlib. It offers efficient tools for common tasks in data science like classification, regression, clustering, model selection, preprocessing and so on.\n",
    "\n",
    "All objects in Scikit-learn share a uniform API consisting of three\n",
    "complementary interfaces:\n",
    "\n",
    "*    an instance to initialize the model (e.g. LinearRegression()),\n",
    "*    an estimator interface for building and fitting models (fit()),\n",
    "*    a predictor interface for making predictions (predict())."
   ]
  },
  {
   "cell_type": "markdown",
   "metadata": {},
   "source": [
    "## First Simple Example "
   ]
  },
  {
   "cell_type": "markdown",
   "metadata": {},
   "source": [
    "Evaluating a model consists of the following three steps:\n",
    "```python\n",
    "model = sklearn.model.instance() \n",
    "model.fit()\n",
    "model.predict()\n",
    "```\n",
    "The model is neightbors-based classification: https://scikit-learn.org/stable/modules/generated/sklearn.neighbors.KNeighborsClassifier.html#sklearn.neighbors.KNeighborsClassifier: \n",
    "\n",
    "*sklearn: Classification is computed from a simple majority vote of the nearest neighbors of each point: a query point is assigned the data class which has the most representatives within the nearest neighbors of the point.*"
   ]
  },
  {
   "cell_type": "code",
   "execution_count": 31,
   "metadata": {
    "ExecuteTime": {
     "end_time": "2021-03-09T17:06:57.608065Z",
     "start_time": "2021-03-09T17:06:57.430038Z"
    }
   },
   "outputs": [],
   "source": [
    "from sklearn import neighbors\n",
    "\n",
    "# feature matrix/design matrix \n",
    "X = df.drop('loan_funded', axis = 1)\n",
    "# target\n",
    "y = np.array(df['loan_funded'])\n",
    "\n",
    "# Create an instance of K-nearest neighbor classifier\n",
    "knn = neighbors.KNeighborsClassifier(n_neighbors = 11)\n",
    "# Train the classifier\n",
    "knn.fit(X, y)\n",
    "# Compute the prediction according to the model\n",
    "yhat = knn.predict(X)"
   ]
  },
  {
   "cell_type": "code",
   "execution_count": 90,
   "metadata": {
    "ExecuteTime": {
     "end_time": "2021-03-09T18:33:14.968000Z",
     "start_time": "2021-03-09T18:33:14.963001Z"
    }
   },
   "outputs": [
    {
     "data": {
      "text/plain": [
       "1.0"
      ]
     },
     "execution_count": 90,
     "metadata": {},
     "output_type": "execute_result"
    }
   ],
   "source": [
    "y[1]"
   ]
  },
  {
   "cell_type": "markdown",
   "metadata": {
    "ExecuteTime": {
     "end_time": "2021-03-09T17:07:37.813600Z",
     "start_time": "2021-03-09T17:07:37.808600Z"
    }
   },
   "source": [
    "The residual error of our model is given as $ \\varepsilon = y - \\hat{y} \\; . $"
   ]
  },
  {
   "cell_type": "code",
   "execution_count": 47,
   "metadata": {
    "ExecuteTime": {
     "end_time": "2021-03-09T17:13:08.604212Z",
     "start_time": "2021-03-09T17:13:08.559213Z"
    }
   },
   "outputs": [
    {
     "name": "stdout",
     "output_type": "stream",
     "text": [
      "Predicted value :  -1.0  with probability for successfull loan  0.18181818181818182  and  real target:  1.0\n"
     ]
    }
   ],
   "source": [
    "# Check the result on the last example\n",
    "print('Predicted value : ',  yhat[1], ' with probability for successfull loan ', knn.predict_proba(X)[1][1], ' and  real target: ',  y[1])"
   ]
  },
  {
   "cell_type": "code",
   "execution_count": 11,
   "metadata": {
    "ExecuteTime": {
     "end_time": "2020-07-28T16:30:19.949118Z",
     "start_time": "2020-07-28T16:30:19.822078Z"
    }
   },
   "outputs": [
    {
     "name": "stdout",
     "output_type": "stream",
     "text": [
      "With knn we receive an accuracy score of  0.8316425120772947\n"
     ]
    }
   ],
   "source": [
    "print('With knn we receive an accuracy score of ', knn.score(X,y))"
   ]
  },
  {
   "cell_type": "code",
   "execution_count": 91,
   "metadata": {
    "ExecuteTime": {
     "end_time": "2021-03-09T18:33:48.299591Z",
     "start_time": "2021-03-09T18:33:48.274591Z"
    }
   },
   "outputs": [],
   "source": [
    "?knn.score"
   ]
  },
  {
   "cell_type": "code",
   "execution_count": 48,
   "metadata": {
    "ExecuteTime": {
     "end_time": "2021-03-09T17:13:32.131411Z",
     "start_time": "2021-03-09T17:13:32.126413Z"
    }
   },
   "outputs": [
    {
     "data": {
      "text/plain": [
       "0.8316425120772947"
      ]
     },
     "execution_count": 48,
     "metadata": {},
     "output_type": "execute_result"
    }
   ],
   "source": [
    "(yhat == y).sum()/len(yhat)"
   ]
  },
  {
   "cell_type": "markdown",
   "metadata": {},
   "source": [
    "Is this a good result?\n",
    "\n",
    "In our problem, always predicting\n",
    "that the loan will be fully funded correctly predicts 81.57% of the samples. Observe\n",
    "that this value is very close to that obtained score using the classifier."
   ]
  },
  {
   "cell_type": "markdown",
   "metadata": {},
   "source": [
    "Data Science Model Development: Always create a baseline model before you start creating a sophisticatated machine learning model."
   ]
  },
  {
   "cell_type": "markdown",
   "metadata": {},
   "source": [
    "## Confusion Matrix"
   ]
  },
  {
   "cell_type": "markdown",
   "metadata": {},
   "source": [
    "The most important quantity is the so-called **metric**. In business it is also called a **KPI (key performance indicator)**. https://github.com/iubh/DLMDSML01/blob/main/Q_A_Sessions/AM1_performance_metrics/11_performance_metrics.ipynb "
   ]
  },
  {
   "cell_type": "markdown",
   "metadata": {},
   "source": [
    "*    True positives (TP): When the classifier predicts a sample as positive and it really\n",
    "is positive.\n",
    "*    False positives (FP): When the classifier predicts a sample as positive but in fact\n",
    "it is negative.\n",
    "*    True negatives (TN): When the classifier predicts a sample as negative and it really\n",
    "is negative.\n",
    "*    False negatives (FN): When the classifier predicts a sample as negative but in fact\n",
    "it is positive."
   ]
  },
  {
   "cell_type": "code",
   "execution_count": 49,
   "metadata": {
    "ExecuteTime": {
     "end_time": "2021-03-09T17:20:00.292588Z",
     "start_time": "2021-03-09T17:20:00.150591Z"
    }
   },
   "outputs": [
    {
     "name": "stdout",
     "output_type": "stream",
     "text": [
      "TP: 73 , FP: 7\n",
      "FN: 690 , TN: 3370\n"
     ]
    }
   ],
   "source": [
    "yhat = knn.predict(X)\n",
    "TP = np.sum(np.logical_and(yhat == 1, y == 1))\n",
    "TN = np.sum(np.logical_and(yhat == -1, y == -1))\n",
    "FP = np.sum(np.logical_and(yhat == 1, y == -1))\n",
    "FN = np.sum(np.logical_and(yhat == -1, y == 1))\n",
    "print('TP: '+ str(TP), ', FP: ' + str(FP))\n",
    "print('FN: '+ str(FN), ', TN: ' + str(TN))"
   ]
  },
  {
   "cell_type": "code",
   "execution_count": 50,
   "metadata": {
    "ExecuteTime": {
     "end_time": "2021-03-09T17:20:02.563093Z",
     "start_time": "2021-03-09T17:20:02.549055Z"
    }
   },
   "outputs": [
    {
     "data": {
      "text/plain": [
       "array([[3370,    7],\n",
       "       [ 690,   73]], dtype=int64)"
      ]
     },
     "execution_count": 50,
     "metadata": {},
     "output_type": "execute_result"
    }
   ],
   "source": [
    "from sklearn import metrics\n",
    "metrics.confusion_matrix(y, yhat)"
   ]
  },
  {
   "cell_type": "code",
   "execution_count": 52,
   "metadata": {
    "ExecuteTime": {
     "end_time": "2021-03-09T17:20:31.378686Z",
     "start_time": "2021-03-09T17:20:31.373687Z"
    }
   },
   "outputs": [
    {
     "data": {
      "text/plain": [
       "0.8316425120772947"
      ]
     },
     "execution_count": 52,
     "metadata": {},
     "output_type": "execute_result"
    }
   ],
   "source": [
    "(3370+73)/(3370+73+690+7)"
   ]
  },
  {
   "cell_type": "markdown",
   "metadata": {},
   "source": [
    "## Problem of Overfitting"
   ]
  },
  {
   "cell_type": "code",
   "execution_count": 53,
   "metadata": {
    "ExecuteTime": {
     "end_time": "2021-03-09T17:20:38.471483Z",
     "start_time": "2021-03-09T17:20:38.313488Z"
    }
   },
   "outputs": [
    {
     "name": "stdout",
     "output_type": "stream",
     "text": [
      "classification accuracy: 1.0\n",
      "confusion matrix: \n",
      "[[3377    0]\n",
      " [   0  763]]\n"
     ]
    }
   ],
   "source": [
    "# Train a classifier using .fit()\n",
    "knn = neighbors.KNeighborsClassifier(n_neighbors = 1)\n",
    "knn.fit(X, y)\n",
    "yhat = knn.predict(x)\n",
    "print(\"classification accuracy: \" + str(metrics.accuracy_score(yhat , y)))\n",
    "print(\"confusion matrix: \\n\" + str(metrics.confusion_matrix(yhat , y)))"
   ]
  },
  {
   "cell_type": "markdown",
   "metadata": {
    "ExecuteTime": {
     "end_time": "2021-03-09T17:20:43.746262Z",
     "start_time": "2021-03-09T17:20:43.741259Z"
    }
   },
   "source": [
    "Training date: the subset of data which are used for learning\n",
    "\n",
    "Testing : Apply the model to (new) unseen data"
   ]
  },
  {
   "cell_type": "markdown",
   "metadata": {},
   "source": [
    "## Train-Test Split"
   ]
  },
  {
   "cell_type": "markdown",
   "metadata": {},
   "source": [
    "Sklearn's train-test splitting: https://scikit-learn.org/stable/modules/generated/sklearn.model_selection.train_test_split.html."
   ]
  },
  {
   "cell_type": "code",
   "execution_count": 56,
   "metadata": {
    "ExecuteTime": {
     "end_time": "2021-03-09T17:23:00.671526Z",
     "start_time": "2021-03-09T17:23:00.662527Z"
    }
   },
   "outputs": [],
   "source": [
    "from sklearn.model_selection import train_test_split\n",
    "train_set, test_set = train_test_split(df, test_size=0.2, random_state=42)\n",
    "\n",
    "X_train = train_set.drop('loan_funded', axis = 1)\n",
    "y_train = train_set['loan_funded'].copy()\n",
    "X_test  = test_set.drop('loan_funded', axis = 1)\n",
    "y_test  = test_set['loan_funded'].copy()"
   ]
  },
  {
   "cell_type": "code",
   "execution_count": 59,
   "metadata": {
    "ExecuteTime": {
     "end_time": "2021-03-09T17:24:08.480344Z",
     "start_time": "2021-03-09T17:24:08.341346Z"
    }
   },
   "outputs": [
    {
     "name": "stdout",
     "output_type": "stream",
     "text": [
      "TRAINING STATS:\n",
      "classification accuracy:  1.0\n",
      "confusion matrix: \n",
      " [[2719    0]\n",
      " [   0  593]]\n",
      "==================\n",
      "TESTING STATS:\n",
      "classification accuracy:  0.7560386473429952\n",
      "confusion matrix: \n",
      " [[573 117]\n",
      " [ 85  53]]\n"
     ]
    }
   ],
   "source": [
    "#Train a classifier on training data\n",
    "knn = neighbors.KNeighborsClassifier(n_neighbors = 1)\n",
    "knn.fit(X_train , y_train)\n",
    "yhat = knn.predict(X_train)\n",
    "print(\"TRAINING STATS:\")\n",
    "print(\"classification accuracy: \", (metrics.accuracy_score(yhat , y_train)))\n",
    "print(\"confusion matrix: \\n\", metrics.confusion_matrix(y_train , yhat))\n",
    "print(\"==================\")\n",
    "#Check on the test set\n",
    "yhat = knn.predict(X_test)\n",
    "print(\"TESTING STATS:\")\n",
    "print(\"classification accuracy: \", metrics.accuracy_score(yhat , y_test))\n",
    "print(\"confusion matrix: \\n\", metrics.confusion_matrix(yhat , y_test))"
   ]
  },
  {
   "cell_type": "markdown",
   "metadata": {},
   "source": [
    "Our baseline model with always predicting -1 gives an accuracy of 81.5%"
   ]
  },
  {
   "cell_type": "markdown",
   "metadata": {},
   "source": [
    "Observe that each time we run the process of randomly splitting the dataset and\n",
    "train a classifier we obtain a different performance. \n",
    "\n",
    "A good simulation for approximating the test error is to run this process many times and average the performances."
   ]
  },
  {
   "cell_type": "code",
   "execution_count": 78,
   "metadata": {
    "ExecuteTime": {
     "end_time": "2021-03-09T17:26:21.440727Z",
     "start_time": "2021-03-09T17:26:21.388724Z"
    }
   },
   "outputs": [
    {
     "name": "stdout",
     "output_type": "stream",
     "text": [
      "Run : 0  accuracy :  0.7246376811594203\n",
      "Run : 1  accuracy :  0.7125603864734299\n",
      "Run : 2  accuracy :  0.716183574879227\n",
      "Run : 3  accuracy :  0.717391304347826\n",
      "Run : 4  accuracy :  0.7318840579710145\n",
      "Run : 5  accuracy :  0.717391304347826\n",
      "Run : 6  accuracy :  0.716183574879227\n",
      "Run : 7  accuracy :  0.717391304347826\n",
      "Run : 8  accuracy :  0.714975845410628\n",
      "Run : 9  accuracy :  0.7185990338164251\n",
      "\n",
      "Mean expected error:0.718719806763285\n"
     ]
    }
   ],
   "source": [
    "# Spitting done by using the tools provided by sklearn:\n",
    "acc = []\n",
    "for i in range(10):\n",
    "    train_set, test_set = train_test_split(df, test_size=0.2)\n",
    "\n",
    "    X_train = train_set.drop('loan_funded', axis = 1)\n",
    "    y_train = train_set['loan_funded'].copy()\n",
    "    X_test  = test_set.drop('loan_funded', axis = 1)\n",
    "    y_test  = test_set['loan_funded'].copy()\n",
    "    \n",
    "    print('Run :', i, ' accuracy : ', metrics.accuracy_score(yhat , y_test))\n",
    "    acc.append(metrics.accuracy_score(yhat, y_test))\n",
    "\n",
    "print()\n",
    "print(\"Mean expected error:\" + str(np.mean(acc)))"
   ]
  },
  {
   "cell_type": "markdown",
   "metadata": {},
   "source": [
    "## Train-Test Error"
   ]
  },
  {
   "cell_type": "markdown",
   "metadata": {
    "ExecuteTime": {
     "end_time": "2020-07-21T11:19:33.760060Z",
     "start_time": "2020-07-21T11:19:33.755055Z"
    }
   },
   "source": [
    "**Train error $E_{train}$**: The training error is the error measured over all the samples in the training set\n",
    "\n",
    "**Test error $E_{test}$**: The test error or generalization error measures the expected error on unseen data."
   ]
  },
  {
   "cell_type": "markdown",
   "metadata": {},
   "source": [
    "The aim of any machine learning model is $E_{test} \\approx E_{train}$."
   ]
  },
  {
   "cell_type": "markdown",
   "metadata": {},
   "source": [
    "## Comparing different classifiers"
   ]
  },
  {
   "cell_type": "code",
   "execution_count": 79,
   "metadata": {
    "ExecuteTime": {
     "end_time": "2021-03-09T17:27:09.909095Z",
     "start_time": "2021-03-09T17:27:06.674520Z"
    }
   },
   "outputs": [],
   "source": [
    "from sklearn import tree\n",
    "from sklearn import svm\n",
    "\n",
    "acc_nn1 = [];\n",
    "acc_nn3 = [];\n",
    "acc_svc = [];\n",
    "acc_dt  = [];\n",
    "for i in range(10):\n",
    "    X_train , X_test , y_train , y_test = train_test_split(X, y, test_size = 0.2)\n",
    "    \n",
    "    nn1 = neighbors.KNeighborsClassifier(n_neighbors = 1)\n",
    "    nn3 = neighbors.KNeighborsClassifier(n_neighbors = 3)\n",
    "    svc = svm.SVC() # support vector classifier\n",
    "    dt = tree.DecisionTreeClassifier () # decision trees\n",
    "    \n",
    "    nn1.fit(X_train , y_train)\n",
    "    nn3.fit(X_train , y_train)\n",
    "    svc.fit(X_train , y_train)\n",
    "    dt.fit(X_train , y_train)\n",
    "    \n",
    "    # always compare on the test set\n",
    "    yhat_nn1 = nn1.predict(X_test)\n",
    "    yhat_nn3 = nn3.predict(X_test)\n",
    "    yhat_svc = svc.predict(X_test)\n",
    "    yhat_dt  = dt.predict(X_test)\n",
    "    \n",
    "    acc_nn1.append(metrics.accuracy_score(yhat_nn1 , y_test))\n",
    "    acc_nn3.append(metrics.accuracy_score(yhat_nn3 , y_test))\n",
    "    acc_svc.append(metrics.accuracy_score(yhat_svc , y_test))\n",
    "    acc_dt.append(metrics.accuracy_score(yhat_dt , y_test))"
   ]
  },
  {
   "cell_type": "code",
   "execution_count": 80,
   "metadata": {
    "ExecuteTime": {
     "end_time": "2021-03-09T17:27:11.503929Z",
     "start_time": "2021-03-09T17:27:11.498964Z"
    }
   },
   "outputs": [],
   "source": [
    "compare_acc = pd.DataFrame({\n",
    "    \"nn1\": acc_nn1,\n",
    "    \"nn3\": acc_nn3,\n",
    "    \"svc\": acc_svc,\n",
    "    \"dt\" : acc_dt})"
   ]
  },
  {
   "cell_type": "code",
   "execution_count": 81,
   "metadata": {
    "ExecuteTime": {
     "end_time": "2021-03-09T17:27:15.261675Z",
     "start_time": "2021-03-09T17:27:15.245679Z"
    }
   },
   "outputs": [
    {
     "data": {
      "text/html": [
       "<div>\n",
       "<style scoped>\n",
       "    .dataframe tbody tr th:only-of-type {\n",
       "        vertical-align: middle;\n",
       "    }\n",
       "\n",
       "    .dataframe tbody tr th {\n",
       "        vertical-align: top;\n",
       "    }\n",
       "\n",
       "    .dataframe thead th {\n",
       "        text-align: right;\n",
       "    }\n",
       "</style>\n",
       "<table border=\"1\" class=\"dataframe\">\n",
       "  <thead>\n",
       "    <tr style=\"text-align: right;\">\n",
       "      <th></th>\n",
       "      <th>nn1</th>\n",
       "      <th>nn3</th>\n",
       "      <th>svc</th>\n",
       "      <th>dt</th>\n",
       "    </tr>\n",
       "  </thead>\n",
       "  <tbody>\n",
       "    <tr>\n",
       "      <th>0</th>\n",
       "      <td>0.748792</td>\n",
       "      <td>0.794686</td>\n",
       "      <td>0.809179</td>\n",
       "      <td>0.757246</td>\n",
       "    </tr>\n",
       "    <tr>\n",
       "      <th>1</th>\n",
       "      <td>0.741546</td>\n",
       "      <td>0.775362</td>\n",
       "      <td>0.807971</td>\n",
       "      <td>0.763285</td>\n",
       "    </tr>\n",
       "    <tr>\n",
       "      <th>2</th>\n",
       "      <td>0.758454</td>\n",
       "      <td>0.787440</td>\n",
       "      <td>0.794686</td>\n",
       "      <td>0.765700</td>\n",
       "    </tr>\n",
       "    <tr>\n",
       "      <th>3</th>\n",
       "      <td>0.747585</td>\n",
       "      <td>0.798309</td>\n",
       "      <td>0.822464</td>\n",
       "      <td>0.759662</td>\n",
       "    </tr>\n",
       "    <tr>\n",
       "      <th>4</th>\n",
       "      <td>0.757246</td>\n",
       "      <td>0.791063</td>\n",
       "      <td>0.821256</td>\n",
       "      <td>0.760870</td>\n",
       "    </tr>\n",
       "    <tr>\n",
       "      <th>5</th>\n",
       "      <td>0.771739</td>\n",
       "      <td>0.826087</td>\n",
       "      <td>0.849034</td>\n",
       "      <td>0.759662</td>\n",
       "    </tr>\n",
       "    <tr>\n",
       "      <th>6</th>\n",
       "      <td>0.736715</td>\n",
       "      <td>0.774155</td>\n",
       "      <td>0.810386</td>\n",
       "      <td>0.753623</td>\n",
       "    </tr>\n",
       "    <tr>\n",
       "      <th>7</th>\n",
       "      <td>0.778986</td>\n",
       "      <td>0.823671</td>\n",
       "      <td>0.840580</td>\n",
       "      <td>0.785024</td>\n",
       "    </tr>\n",
       "    <tr>\n",
       "      <th>8</th>\n",
       "      <td>0.766908</td>\n",
       "      <td>0.818841</td>\n",
       "      <td>0.836957</td>\n",
       "      <td>0.769324</td>\n",
       "    </tr>\n",
       "    <tr>\n",
       "      <th>9</th>\n",
       "      <td>0.759662</td>\n",
       "      <td>0.807971</td>\n",
       "      <td>0.824879</td>\n",
       "      <td>0.771739</td>\n",
       "    </tr>\n",
       "  </tbody>\n",
       "</table>\n",
       "</div>"
      ],
      "text/plain": [
       "        nn1       nn3       svc        dt\n",
       "0  0.748792  0.794686  0.809179  0.757246\n",
       "1  0.741546  0.775362  0.807971  0.763285\n",
       "2  0.758454  0.787440  0.794686  0.765700\n",
       "3  0.747585  0.798309  0.822464  0.759662\n",
       "4  0.757246  0.791063  0.821256  0.760870\n",
       "5  0.771739  0.826087  0.849034  0.759662\n",
       "6  0.736715  0.774155  0.810386  0.753623\n",
       "7  0.778986  0.823671  0.840580  0.785024\n",
       "8  0.766908  0.818841  0.836957  0.769324\n",
       "9  0.759662  0.807971  0.824879  0.771739"
      ]
     },
     "execution_count": 81,
     "metadata": {},
     "output_type": "execute_result"
    }
   ],
   "source": [
    "compare_acc"
   ]
  },
  {
   "cell_type": "markdown",
   "metadata": {},
   "source": [
    "Evaluating the model several times on different training and test instances is called \n",
    "**cross-validation**: https://scikit-learn.org/stable/modules/cross_validation.html."
   ]
  },
  {
   "cell_type": "markdown",
   "metadata": {},
   "source": [
    "## Hyperparameter Search on the Validation Set"
   ]
  },
  {
   "cell_type": "markdown",
   "metadata": {},
   "source": [
    "Find for a given algorihm the best parameters"
   ]
  },
  {
   "cell_type": "code",
   "execution_count": 82,
   "metadata": {
    "ExecuteTime": {
     "end_time": "2021-03-09T17:35:03.190367Z",
     "start_time": "2021-03-09T17:35:00.353271Z"
    }
   },
   "outputs": [],
   "source": [
    "from sklearn.model_selection import KFold\n",
    "# Create a 10-fold cross -validation set\n",
    "X  = np.array(X)\n",
    "kf = KFold(n_splits = 10, shuffle = True , random_state = 0)\n",
    "\n",
    "# Search for the parameter among the following:\n",
    "C   = np.arange(2, 20,)\n",
    "\n",
    "acc = np.zeros ((10, len(C)))\n",
    "i = 0\n",
    "for train_index , val_index in kf.split(X):\n",
    "    # print(\"TRAIN:\", train_index, \"VAL:\", val_index)\n",
    "    X_train , X_val = X[train_index], X[val_index]\n",
    "    y_train , y_val = y[train_index], y[val_index]\n",
    "    j = 0\n",
    "    for c in C:\n",
    "        dt = tree.DecisionTreeClassifier(min_samples_leaf = 1, max_depth = c)\n",
    "        dt.fit(X_train, y_train)\n",
    "        yhat = dt.predict(X_val)\n",
    "        acc[i][j] = metrics.accuracy_score(yhat , y_val)\n",
    "        j = j + 1\n",
    "    i = i + 1"
   ]
  },
  {
   "cell_type": "code",
   "execution_count": 83,
   "metadata": {
    "ExecuteTime": {
     "end_time": "2021-03-09T17:35:09.103114Z",
     "start_time": "2021-03-09T17:35:09.099114Z"
    }
   },
   "outputs": [
    {
     "data": {
      "text/plain": [
       "array([0.81884058, 0.8236715 , 0.83091787, 0.83574879, 0.83091787,\n",
       "       0.83091787, 0.81642512, 0.82125604, 0.80917874, 0.82608696,\n",
       "       0.81884058, 0.81400966, 0.81642512, 0.8115942 , 0.80917874,\n",
       "       0.79710145, 0.79951691, 0.80917874])"
      ]
     },
     "execution_count": 83,
     "metadata": {},
     "output_type": "execute_result"
    }
   ],
   "source": [
    "acc[0]"
   ]
  },
  {
   "cell_type": "code",
   "execution_count": 84,
   "metadata": {
    "ExecuteTime": {
     "end_time": "2021-03-09T17:35:16.945897Z",
     "start_time": "2021-03-09T17:35:16.939856Z"
    }
   },
   "outputs": [
    {
     "name": "stdout",
     "output_type": "stream",
     "text": [
      "Mean accuracy: [0.82536232 0.8263285  0.83188406 0.83429952 0.83502415 0.83333333\n",
      " 0.82777778 0.82487923 0.82077295 0.82004831 0.81304348 0.80821256\n",
      " 0.80434783 0.8        0.80169082 0.78574879 0.7826087  0.78019324]\n",
      "Selected model index: 4\n"
     ]
    }
   ],
   "source": [
    "print('Mean accuracy: ' + str(np.mean(acc , axis = 0)))\n",
    "print('Selected model index: ' + str(np.argmax(np.mean(acc , axis = 0))))"
   ]
  },
  {
   "cell_type": "markdown",
   "metadata": {
    "ExecuteTime": {
     "end_time": "2020-07-28T15:18:07.313526Z",
     "start_time": "2020-07-28T15:18:07.306575Z"
    }
   },
   "source": [
    "The best average accuracy is obtained by the fifth model, a maximum depth of 6. Although we can report that the best accuracy is estimated to be found with a complexity value of 6, we cannot say anything about\n",
    "the value it will achieve. Therefore we need to test it on a held-out **test set**."
   ]
  },
  {
   "cell_type": "code",
   "execution_count": 85,
   "metadata": {
    "ExecuteTime": {
     "end_time": "2021-03-09T17:35:29.429263Z",
     "start_time": "2021-03-09T17:35:29.410263Z"
    }
   },
   "outputs": [
    {
     "name": "stdout",
     "output_type": "stream",
     "text": [
      "Test accuracy: 0.8586956521739131\n"
     ]
    }
   ],
   "source": [
    "# Train the model with the complete training set with the selected complexity\n",
    "dt = tree.DecisionTreeClassifier(min_samples_leaf = 1, max_depth = C[np.argmax(np.mean(acc , axis = 0))])\n",
    "dt.fit(X_train ,y_train)\n",
    "# Test the model with the test set\n",
    "yhat = dt.predict(X_test)\n",
    "print('Test accuracy: ' + str(metrics.accuracy_score(yhat , y_test)))"
   ]
  },
  {
   "cell_type": "markdown",
   "metadata": {},
   "source": [
    "## Nested Cross-Validation"
   ]
  },
  {
   "cell_type": "markdown",
   "metadata": {},
   "source": [
    "This is something which is not very common, but best practice."
   ]
  },
  {
   "cell_type": "code",
   "execution_count": 86,
   "metadata": {
    "ExecuteTime": {
     "end_time": "2021-03-09T17:37:20.189182Z",
     "start_time": "2021-03-09T17:36:00.523768Z"
    }
   },
   "outputs": [
    {
     "name": "stdout",
     "output_type": "stream",
     "text": [
      "0\n",
      "Fitting 2 folds for each of 4 candidates, totalling 8 fits\n"
     ]
    },
    {
     "name": "stderr",
     "output_type": "stream",
     "text": [
      "[Parallel(n_jobs=-1)]: Using backend LokyBackend with 8 concurrent workers.\n",
      "[Parallel(n_jobs=-1)]: Done   3 out of   8 | elapsed:    2.5s remaining:    4.3s\n",
      "[Parallel(n_jobs=-1)]: Done   5 out of   8 | elapsed:    3.6s remaining:    2.1s\n",
      "[Parallel(n_jobs=-1)]: Done   8 out of   8 | elapsed:    5.1s finished\n"
     ]
    },
    {
     "name": "stdout",
     "output_type": "stream",
     "text": [
      "1\n",
      "Fitting 2 folds for each of 4 candidates, totalling 8 fits\n"
     ]
    },
    {
     "name": "stderr",
     "output_type": "stream",
     "text": [
      "[Parallel(n_jobs=-1)]: Using backend LokyBackend with 8 concurrent workers.\n",
      "[Parallel(n_jobs=-1)]: Done   3 out of   8 | elapsed:    0.5s remaining:    0.9s\n",
      "[Parallel(n_jobs=-1)]: Done   5 out of   8 | elapsed:    1.5s remaining:    0.8s\n",
      "[Parallel(n_jobs=-1)]: Done   8 out of   8 | elapsed:    3.2s finished\n"
     ]
    },
    {
     "name": "stdout",
     "output_type": "stream",
     "text": [
      "2\n",
      "Fitting 2 folds for each of 4 candidates, totalling 8 fits\n"
     ]
    },
    {
     "name": "stderr",
     "output_type": "stream",
     "text": [
      "[Parallel(n_jobs=-1)]: Using backend LokyBackend with 8 concurrent workers.\n",
      "[Parallel(n_jobs=-1)]: Done   3 out of   8 | elapsed:    0.6s remaining:    1.0s\n",
      "[Parallel(n_jobs=-1)]: Done   5 out of   8 | elapsed:    1.7s remaining:    1.0s\n",
      "[Parallel(n_jobs=-1)]: Done   8 out of   8 | elapsed:    3.6s finished\n"
     ]
    },
    {
     "name": "stdout",
     "output_type": "stream",
     "text": [
      "3\n",
      "Fitting 2 folds for each of 4 candidates, totalling 8 fits\n"
     ]
    },
    {
     "name": "stderr",
     "output_type": "stream",
     "text": [
      "[Parallel(n_jobs=-1)]: Using backend LokyBackend with 8 concurrent workers.\n",
      "[Parallel(n_jobs=-1)]: Done   3 out of   8 | elapsed:    0.7s remaining:    1.2s\n",
      "[Parallel(n_jobs=-1)]: Done   5 out of   8 | elapsed:    1.3s remaining:    0.7s\n",
      "[Parallel(n_jobs=-1)]: Done   8 out of   8 | elapsed:    3.6s finished\n"
     ]
    },
    {
     "name": "stdout",
     "output_type": "stream",
     "text": [
      "4\n",
      "Fitting 2 folds for each of 4 candidates, totalling 8 fits\n"
     ]
    },
    {
     "name": "stderr",
     "output_type": "stream",
     "text": [
      "[Parallel(n_jobs=-1)]: Using backend LokyBackend with 8 concurrent workers.\n",
      "[Parallel(n_jobs=-1)]: Done   3 out of   8 | elapsed:    1.2s remaining:    2.0s\n",
      "[Parallel(n_jobs=-1)]: Done   5 out of   8 | elapsed:    3.2s remaining:    1.9s\n",
      "[Parallel(n_jobs=-1)]: Done   8 out of   8 | elapsed:    6.3s finished\n"
     ]
    },
    {
     "name": "stdout",
     "output_type": "stream",
     "text": [
      "0.8557971014492753\n",
      "[[3375    2]\n",
      " [ 595  168]]\n"
     ]
    }
   ],
   "source": [
    "from sklearn.preprocessing import StandardScaler\n",
    "from sklearn.model_selection import GridSearchCV # hyperparameter search as a parallel process \n",
    "\n",
    "parameters = {'C': [1e4, 1e5],\n",
    "              'gamma': [1e-5, 1e-4]}\n",
    "\n",
    "N_splits = 5\n",
    "kf      = KFold(n_splits = N_splits, shuffle = True, random_state = 0)\n",
    "acc     = np.zeros((N_splits,))\n",
    "\n",
    "i = 0\n",
    "\n",
    "# We will build the predicted y from the partial predictions on the test of each of the folds\n",
    "yhat = y.copy()\n",
    "\n",
    "for train_index, test_index in kf.split(X):\n",
    "    print(i)\n",
    "    X_train , X_test = X[train_index ,:], X[test_index ,:]\n",
    "    y_train , y_test = y[train_index], y[test_index]\n",
    "    scaler = StandardScaler()\n",
    "    X_train = scaler.fit_transform(X_train)\n",
    "    \n",
    "    clf = svm.SVC(kernel = 'rbf')\n",
    "    clf = GridSearchCV(clf, parameters , cv = 2, n_jobs = -1, verbose=5)\n",
    "    clf.fit(X_train, y_train)\n",
    "    X_test = scaler.transform(X_test)\n",
    "    yhat[test_index] = clf.predict(X_test)\n",
    "    i += 1\n",
    "    \n",
    "print(metrics.accuracy_score(y, yhat))\n",
    "print(metrics.confusion_matrix(y, yhat))"
   ]
  }
 ],
 "metadata": {
  "hide_input": false,
  "kernelspec": {
   "display_name": "Python 3",
   "language": "python",
   "name": "python3"
  },
  "language_info": {
   "codemirror_mode": {
    "name": "ipython",
    "version": 3
   },
   "file_extension": ".py",
   "mimetype": "text/x-python",
   "name": "python",
   "nbconvert_exporter": "python",
   "pygments_lexer": "ipython3",
   "version": "3.7.1"
  },
  "toc": {
   "base_numbering": 1,
   "nav_menu": {},
   "number_sections": true,
   "sideBar": true,
   "skip_h1_title": false,
   "title_cell": "Table of Contents",
   "title_sidebar": "Contents",
   "toc_cell": false,
   "toc_position": {
    "height": "calc(100% - 180px)",
    "left": "10px",
    "top": "150px",
    "width": "229.25px"
   },
   "toc_section_display": true,
   "toc_window_display": true
  }
 },
 "nbformat": 4,
 "nbformat_minor": 4
}
