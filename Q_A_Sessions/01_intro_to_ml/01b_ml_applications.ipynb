{
 "cells": [
  {
   "cell_type": "markdown",
   "metadata": {},
   "source": [
    "# Machine Learning Applications"
   ]
  },
  {
   "cell_type": "markdown",
   "metadata": {},
   "source": [
    "Before we go into detail about how a concrete (toy) machine learning project is performed, we give an overview on some products and solutions, where machine learning plays a central role. *Collecting ML applications is work in progress. If you find interesting applications, I am happy to add it to the (incomplete) list.* "
   ]
  },
  {
   "cell_type": "markdown",
   "metadata": {},
   "source": [
    "# Roles and Skills of a Machine Learning Team"
   ]
  },
  {
   "cell_type": "markdown",
   "metadata": {},
   "source": [
    "Skills: \n",
    "\n",
    "* coding, software engineering\n",
    "* maths, statistics (transforming a business objective into a mathematical problem)\n",
    "* business understanding, creativity\n",
    "* data engineering, infrastructural components\n",
    "\n",
    "Roles:\n",
    "\n",
    "* Data Scientist\n",
    "* Data Engineer\n",
    "* Software Engineer\n",
    "* Machine Learning Developer\n",
    "* Business Analyst\n",
    "* Cloud Architect\n",
    "* Project Manager"
   ]
  },
  {
   "cell_type": "markdown",
   "metadata": {},
   "source": [
    "# Phases of a Machine Learning Project"
   ]
  },
  {
   "cell_type": "markdown",
   "metadata": {},
   "source": [
    "*   Understanding the Business Objective\n",
    "*   Data Exploration\n",
    "*   Modeling\n",
    "*   Workflow Automation"
   ]
  },
  {
   "cell_type": "markdown",
   "metadata": {},
   "source": [
    "# Industry Sectors and Machine Learning"
   ]
  },
  {
   "cell_type": "markdown",
   "metadata": {},
   "source": [
    "In each and every industry sector data science aims at **increasing revenue** or **reducing costs**, so **optimization**. Let us go through some industries and collect possible Machine Learning applications.\n",
    "\n",
    "We can divide applications into **customer analytics/revenue management** and **daily operations**.\n",
    "\n",
    "Very often it is between a **decision support tool** or a tool doing **automated decisions**."
   ]
  },
  {
   "cell_type": "markdown",
   "metadata": {},
   "source": [
    "## Banking Sector\n",
    "\n",
    "Here chaning customer behavior is one of the main challenges of the business models for traditional banking institutions. There is a huge competion with new fintech companies. \n",
    "\n",
    "In addtion, to the huge number of real-time transactions, daily operations can benefit from AI and ML applications.\n",
    "\n",
    "*    Investment banking: It is a transaction heavy industry, so a lot of data is stored. **algorithmic trading** or to predict certain anomalies in the behavior of shares in order to develop **trading strategies**. Think of natural language processing of news that generates indicators for traders.\n",
    "*    Retail banking: Here **customer journey data** are of interest, in order to predict customer churn, online conversions; with cookie data **personalized services**, or **real-time offerings**; **customer segmentation** or also to provide customers with real-time analytics. Here the **customer lifetime value (CLV)**, being the value of the future revenues by a customer, plays an important role. \n",
    "\n",
    "In modeling, **recommendation systems** and **clustering** play important parts.\n",
    "\n",
    "For operations **credit scoring model** within a so-called **scorecard**. Also predict development of **mortgages**. In fact, these applications can be summarized as **risk modeling**."
   ]
  },
  {
   "cell_type": "markdown",
   "metadata": {
    "ExecuteTime": {
     "end_time": "2021-12-07T16:55:03.736696Z",
     "start_time": "2021-12-07T16:55:03.732732Z"
    }
   },
   "source": [
    "# Applications of ML "
   ]
  },
  {
   "cell_type": "markdown",
   "metadata": {},
   "source": [
    "## Application 1: Virtual Personal Assistants like Alexa"
   ]
  },
  {
   "cell_type": "markdown",
   "metadata": {},
   "source": [
    ">Amazon Alexa is a voice-controlled digital or virtual assistant program that accepts voice commands to create to-do lists, order items online, set reminders, and answer questions (via internet searches)."
   ]
  },
  {
   "cell_type": "markdown",
   "metadata": {},
   "source": [
    "Machine learning is an important part of a personal assistant as it collects and refines the information on the basis of your previous interaction with the personal assistant. Later, this set of data is utilized to render results that are tailored to your preferences."
   ]
  },
  {
   "cell_type": "markdown",
   "metadata": {},
   "source": [
    "*    When you ask Alexa, “What’s the weather going to be like today, ” the device records your voice. \n",
    "\n",
    "*    So the first task is **signal processing**. The idea is to improve the target signal, which means being able to identify ambient noise like the TV and minimize them.\n",
    "\n",
    "*    The next task is **Wake Word Detection**.\n",
    "\n",
    "*    Then that recording is sent over to the Amazon’s Alexa Voice Services which parses the recording into commands it understands. So it takes the audio and converts it to text format. \n",
    "\n",
    "*    Think the Alexa Voice Service as the brain of Alexa enabled devices and perform all the complex operations such as Automatic Speech Recognition (ASR) and Natural Language Understanding (NLU).\n",
    "\n",
    "*    Then semi-supervised learning is used to answer the question. Here **natural language processling (NLP) comes into play. It converts speech into words.**\n",
    "\n",
    "*    It identifies important words to make sense of the tasks. For instance, if Alexa notices *weather* it would open the weather app.\n",
    "\n",
    "*    Then, the system sends the relevant output back to your device. When you ask about the weather, an audio file is sent back and Alexa tells you the weather forecast all without you having any idea there was any back and forth between systems.\n"
   ]
  },
  {
   "cell_type": "markdown",
   "metadata": {},
   "source": [
    "> As a subset of artificial intelligence, natural language generation (NLG) is the ability to get natural sounding written and verbal responses back based on data that’s input into a computer system. Human language is quite complex, but today’s natural language generation capabilities are becoming very sophisticated. Think of NLG as a writer that turns data into language that can be communicated.\n",
    "\n",
    "> Natural language processing (NLP) is the reader that takes the language created by NLG and consumes it. Advances in this technology have allowed dramatic growth in intelligent personal assistants such as Alexa."
   ]
  },
  {
   "cell_type": "markdown",
   "metadata": {},
   "source": [
    "## Application 2: Google Maps "
   ]
  },
  {
   "cell_type": "markdown",
   "metadata": {},
   "source": [
    "The Google Maps ETA (estimated time of arrival) prediction have a high accuracy, which is consistently accurate for over 97 percent of trips. Google Maps is one of the most accurate and detailed maps available today. \n",
    "\n",
    "Google Maps analyzes historical traffic patterns for roads over time. For example, one pattern may show that the 280 freeway in Northern California typically has vehicles traveling at a speed of 65mph between 6-7am, but only at 15-20mph in the late afternoon. It then combines this database of historical traffic patterns with live traffic conditions, using machine learning to generate predictions based on both sets of data.\n",
    "\n",
    "In addition it uses authoritative data from local governments and real-time feedback from users. Authoritative data lets Google Maps know about speed limits, tolls, or if certain roads are restricted. \"And incident reports from drivers let Google Maps quickly show if a road or lane is closed, if there's construction nearby, or if there's a disabled vehicle or an object on the road,\" Google added. \n",
    "\n",
    "Data is collected from various sources, like data from a local municipality, a housing developer, a business owner, or the local government.\n",
    "\n",
    "It uses a specific kind of neural network called ‘Graph Neural Network’. Google considers this as the most suitable AI algorithm for traffic prediction.\n",
    "\n",
    "https://deepmind.com/blog/article/traffic-prediction-with-advanced-graph-neural-networks\n",
    "\n",
    "![](google_maps_supersegmets.png)"
   ]
  },
  {
   "cell_type": "markdown",
   "metadata": {},
   "source": [
    "## Application 3: Amazon Recommendation System"
   ]
  },
  {
   "cell_type": "markdown",
   "metadata": {},
   "source": [
    "> In June 2019, during a keynote address at Amazon’s first re:MARS conference, Jeff Wilke, the CEO of Amazon’s consumer division, highlighted one particular advance, in the algorithm for recommending movies to Amazon’s Prime Video customers. Amazon researchers’ innovations led to a twofold improvement in that algorithm’s performance, which Wilke described as a “once-in-a-decade leap”."
   ]
  },
  {
   "cell_type": "markdown",
   "metadata": {},
   "source": [
    "> They still used an autoencoder, but they trained it on movie-viewing data that had been sorted chronologically. During training, the autoencoder saw data on movies that customers had watched before some cutoff time. But it was evaluated on how well it predicted the movies they had watched in the two-week period after the cutoff time.\n",
    "\n",
    "> Because Prime Video’s Web interface displays six movie recommendations on the page associated with each title in its catalogue, the researchers evaluated their system on whether at least one of its top six recommendations for a given customer was in fact a movie that that customer watched in the two-week period after the cutoff date. By that measure, not only did the autoencoder outperform the bestseller list, but it also outperformed item-to-item collaborative filtering, two to one. As Wilke put it at re:MARS, “We had a winner.”"
   ]
  },
  {
   "cell_type": "markdown",
   "metadata": {},
   "source": [
    "https://www.amazon.science/the-history-of-amazons-recommendation-algorithm"
   ]
  },
  {
   "cell_type": "markdown",
   "metadata": {},
   "source": [
    "## Application 4: Netflix Research"
   ]
  },
  {
   "cell_type": "markdown",
   "metadata": {},
   "source": [
    "https://research.netflix.com/research-area/machine-learning  \n",
    "    \n",
    "> Machine learning impacts many exciting areas throughout our company. Historically, personalization has been the most well-known area, where machine learning powers our recommendation algorithms. We’re also using machine learning to help shape our catalog of movies and TV shows by learning characteristics that make content successful. We use it to optimize the production of original movies and TV shows in Netflix’s rapidly growing studio. Machine learning also enables us to optimize video and audio encoding, adaptive bitrate selection, and our in-house Content Delivery Network that accounts for more than a third of North American internet traffic. It also powers our advertising spend, channel mix, and advertising creative so that we can find new members who will enjoy Netflix.\n",
    "\n",
    "> Using machine learning pervasively across Netflix brings many new challenges where we need to push forward the state-of-the-art. This means coming up with new ideas and testing them out, be it new models and algorithms or improvements to existing ones, better metrics or evaluation methodologies, and addressing the challenges of scale. Our research spans many different algorithmic approaches including causal modeling, bandits, reinforcement learning, ensembles, neural networks, probabilistic graphical models, and matrix factorization.\n",
    "\n"
   ]
  },
  {
   "cell_type": "markdown",
   "metadata": {},
   "source": [
    "## Email Spam and Malware Filtering"
   ]
  },
  {
   "cell_type": "markdown",
   "metadata": {},
   "source": [
    "## Online Customer Services - Chat Bots"
   ]
  },
  {
   "cell_type": "markdown",
   "metadata": {},
   "source": [
    "## Search Engine Result Refining"
   ]
  },
  {
   "cell_type": "markdown",
   "metadata": {},
   "source": [
    "## Product Recommendations"
   ]
  },
  {
   "cell_type": "markdown",
   "metadata": {},
   "source": [
    "## Online Fraud Detection"
   ]
  },
  {
   "cell_type": "markdown",
   "metadata": {},
   "source": [
    "## Alpha Go (Reinforcement Learning)"
   ]
  }
 ],
 "metadata": {
  "hide_input": false,
  "kernelspec": {
   "display_name": "Python 3",
   "language": "python",
   "name": "python3"
  },
  "language_info": {
   "codemirror_mode": {
    "name": "ipython",
    "version": 3
   },
   "file_extension": ".py",
   "mimetype": "text/x-python",
   "name": "python",
   "nbconvert_exporter": "python",
   "pygments_lexer": "ipython3",
   "version": "3.7.1"
  },
  "latex_envs": {
   "LaTeX_envs_menu_present": true,
   "autoclose": false,
   "autocomplete": true,
   "bibliofile": "biblio.bib",
   "cite_by": "apalike",
   "current_citInitial": 1,
   "eqLabelWithNumbers": true,
   "eqNumInitial": 1,
   "hotkeys": {
    "equation": "Ctrl-E",
    "itemize": "Ctrl-I"
   },
   "labels_anchors": false,
   "latex_user_defs": false,
   "report_style_numbering": false,
   "user_envs_cfg": false
  },
  "toc": {
   "base_numbering": 1,
   "nav_menu": {},
   "number_sections": true,
   "sideBar": true,
   "skip_h1_title": false,
   "title_cell": "Table of Contents",
   "title_sidebar": "Contents",
   "toc_cell": false,
   "toc_position": {
    "height": "calc(100% - 180px)",
    "left": "10px",
    "top": "150px",
    "width": "225px"
   },
   "toc_section_display": true,
   "toc_window_display": true
  }
 },
 "nbformat": 4,
 "nbformat_minor": 4
}
