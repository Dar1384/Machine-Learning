{
 "cells": [
  {
   "cell_type": "markdown",
   "metadata": {},
   "source": [
    "# Live-Tutorial DSML01 Part I"
   ]
  },
  {
   "cell_type": "markdown",
   "metadata": {},
   "source": [
    "*In this live tutorial we discuss how an end-to-end machine learning project looks like.*"
   ]
  },
  {
   "cell_type": "markdown",
   "metadata": {},
   "source": [
    "# Sources"
   ]
  },
  {
   "cell_type": "markdown",
   "metadata": {},
   "source": [
    "*    We use as data set the **Lending Club data from Igual & Segui \"Introduction to data science\" in Chapter 5** (see: Reading List - Required Reading Unit 1)."
   ]
  },
  {
   "cell_type": "markdown",
   "metadata": {},
   "source": [
    "# Download the data"
   ]
  },
  {
   "cell_type": "markdown",
   "metadata": {},
   "source": [
    "The current data set can be found on https://github.com/DataScienceUB/introduction-datascience-python-book/tree/master/files/ch05."
   ]
  },
  {
   "cell_type": "markdown",
   "metadata": {},
   "source": [
    "# Info on nbextensions"
   ]
  },
  {
   "cell_type": "markdown",
   "metadata": {},
   "source": [
    "There are some nice Jupyter Notebook extensions, which can be installed following https://jupyter-contrib-nbextensions.readthedocs.io/en/latest/install.html.\n",
    "\n",
    "One extension I heavily use is the **table of contents**: https://jupyter-contrib-nbextensions.readthedocs.io/en/latest/nbextensions/toc2/README.html. "
   ]
  },
  {
   "cell_type": "code",
   "execution_count": null,
   "metadata": {},
   "outputs": [],
   "source": [
    "pip package-name"
   ]
  },
  {
   "cell_type": "markdown",
   "metadata": {},
   "source": [
    "# Preambel"
   ]
  },
  {
   "cell_type": "markdown",
   "metadata": {},
   "source": [
    "Here all useful imports and paths to the data are provided."
   ]
  },
  {
   "cell_type": "code",
   "execution_count": 2,
   "metadata": {
    "ExecuteTime": {
     "end_time": "2020-07-28T16:29:59.781757Z",
     "start_time": "2020-07-28T16:29:59.772762Z"
    }
   },
   "outputs": [],
   "source": [
    "# Common imports\n",
    "import numpy as np # numpy is THE toolbox for scientific computing with python\n",
    "import pandas as pd # pandas provides THE data structure and data analysis tools for data scientists \n",
    "import pickle # we have to import a pickle file\n",
    "import os \n",
    "# from datetime import timedelta, datetime\n",
    "\n",
    "# maximum number of columns\n",
    "pd.set_option(\"display.max_rows\", 101)\n",
    "pd.set_option(\"display.max_columns\", 101)\n",
    "\n",
    "# To plot pretty figures\n",
    "%matplotlib inline\n",
    "import matplotlib as mpl\n",
    "import matplotlib.pyplot as plt\n",
    "mpl.rc('axes', labelsize=14)\n",
    "mpl.rc('xtick', labelsize=12)\n",
    "mpl.rc('ytick', labelsize=12)"
   ]
  },
  {
   "cell_type": "markdown",
   "metadata": {},
   "source": [
    "# Load the data"
   ]
  },
  {
   "cell_type": "markdown",
   "metadata": {},
   "source": [
    "Normally, data are given as .csv or .xlsx files, but here we open a so-called pickle file.\n",
    "\n",
    "Most important commands for loading data are: \n",
    "\n",
    "```python\n",
    "pd.read_csv()\n",
    "pd.read_excel()\n",
    "```"
   ]
  },
  {
   "cell_type": "markdown",
   "metadata": {},
   "source": [
    "Here we use: \n",
    "\n",
    "```python\n",
    "pd.read_pickle()\n",
    "```"
   ]
  },
  {
   "cell_type": "code",
   "execution_count": 3,
   "metadata": {
    "ExecuteTime": {
     "end_time": "2020-07-28T16:30:02.687033Z",
     "start_time": "2020-07-28T16:30:02.656038Z"
    }
   },
   "outputs": [],
   "source": [
    "(x,y) = pd.read_pickle('../introduction-datascience-python-book-master/files/ch05/dataset_small.pkl')\n",
    "# x stores input data and y target values\n",
    "df = pd.concat([pd.DataFrame(x), pd.DataFrame(y)], axis = 1)\n",
    "flatten = lambda l: [item for sublist in l for item in sublist]\n",
    "cols = flatten([['col_' + str(i) for i in range(df.shape[1]-1)], ['loan funded']])\n",
    "df.columns = cols"
   ]
  },
  {
   "cell_type": "markdown",
   "metadata": {},
   "source": [
    "# Initital Analysis of Data"
   ]
  },
  {
   "cell_type": "markdown",
   "metadata": {},
   "source": [
    "Important commands to start analyzing a dataset:\n",
    "    \n",
    "```python\n",
    "df.head()\n",
    "df.tail()\n",
    "df.dtypes\n",
    "df.info()\n",
    "df.describe()\n",
    "``` \n",
    "\n",
    "Important for finding aggregated info:\n",
    "```python\n",
    "df[col].value_counts()\n",
    "```\n",
    "\n",
    "Plotting histograms:\n",
    "```python\n",
    "df[col].hist()\n",
    "```"
   ]
  },
  {
   "cell_type": "code",
   "execution_count": 27,
   "metadata": {
    "ExecuteTime": {
     "end_time": "2020-07-28T17:14:41.804813Z",
     "start_time": "2020-07-28T17:14:41.768806Z"
    }
   },
   "outputs": [
    {
     "data": {
      "text/html": [
       "<div>\n",
       "<style scoped>\n",
       "    .dataframe tbody tr th:only-of-type {\n",
       "        vertical-align: middle;\n",
       "    }\n",
       "\n",
       "    .dataframe tbody tr th {\n",
       "        vertical-align: top;\n",
       "    }\n",
       "\n",
       "    .dataframe thead th {\n",
       "        text-align: right;\n",
       "    }\n",
       "</style>\n",
       "<table border=\"1\" class=\"dataframe\">\n",
       "  <thead>\n",
       "    <tr style=\"text-align: right;\">\n",
       "      <th></th>\n",
       "      <th>col_0</th>\n",
       "      <th>col_1</th>\n",
       "      <th>col_2</th>\n",
       "      <th>col_3</th>\n",
       "      <th>col_4</th>\n",
       "      <th>col_5</th>\n",
       "      <th>col_6</th>\n",
       "      <th>col_7</th>\n",
       "      <th>col_8</th>\n",
       "      <th>col_9</th>\n",
       "      <th>col_10</th>\n",
       "      <th>col_11</th>\n",
       "      <th>col_12</th>\n",
       "      <th>col_13</th>\n",
       "      <th>col_14</th>\n",
       "      <th>loan funded</th>\n",
       "    </tr>\n",
       "  </thead>\n",
       "  <tbody>\n",
       "    <tr>\n",
       "      <th>4135</th>\n",
       "      <td>10000.0</td>\n",
       "      <td>10000.0</td>\n",
       "      <td>366.77</td>\n",
       "      <td>108000.0</td>\n",
       "      <td>23.41</td>\n",
       "      <td>1.0</td>\n",
       "      <td>10.0</td>\n",
       "      <td>0.1904</td>\n",
       "      <td>1.0</td>\n",
       "      <td>6.0</td>\n",
       "      <td>-1.0</td>\n",
       "      <td>-1.0</td>\n",
       "      <td>-1.0</td>\n",
       "      <td>-1.0</td>\n",
       "      <td>1.0</td>\n",
       "      <td>-1.0</td>\n",
       "    </tr>\n",
       "    <tr>\n",
       "      <th>4136</th>\n",
       "      <td>4500.0</td>\n",
       "      <td>4500.0</td>\n",
       "      <td>148.38</td>\n",
       "      <td>24000.0</td>\n",
       "      <td>3.70</td>\n",
       "      <td>1.0</td>\n",
       "      <td>8.0</td>\n",
       "      <td>0.1149</td>\n",
       "      <td>1.0</td>\n",
       "      <td>0.0</td>\n",
       "      <td>-1.0</td>\n",
       "      <td>-1.0</td>\n",
       "      <td>-1.0</td>\n",
       "      <td>-1.0</td>\n",
       "      <td>1.0</td>\n",
       "      <td>-1.0</td>\n",
       "    </tr>\n",
       "    <tr>\n",
       "      <th>4137</th>\n",
       "      <td>10000.0</td>\n",
       "      <td>10000.0</td>\n",
       "      <td>311.11</td>\n",
       "      <td>36996.0</td>\n",
       "      <td>5.45</td>\n",
       "      <td>0.0</td>\n",
       "      <td>12.0</td>\n",
       "      <td>0.0751</td>\n",
       "      <td>1.0</td>\n",
       "      <td>5.0</td>\n",
       "      <td>-1.0</td>\n",
       "      <td>-1.0</td>\n",
       "      <td>-1.0</td>\n",
       "      <td>-1.0</td>\n",
       "      <td>1.0</td>\n",
       "      <td>-1.0</td>\n",
       "    </tr>\n",
       "    <tr>\n",
       "      <th>4138</th>\n",
       "      <td>3500.0</td>\n",
       "      <td>3500.0</td>\n",
       "      <td>119.61</td>\n",
       "      <td>110000.0</td>\n",
       "      <td>15.50</td>\n",
       "      <td>0.0</td>\n",
       "      <td>25.0</td>\n",
       "      <td>0.1399</td>\n",
       "      <td>1.0</td>\n",
       "      <td>0.0</td>\n",
       "      <td>-1.0</td>\n",
       "      <td>-1.0</td>\n",
       "      <td>-1.0</td>\n",
       "      <td>-1.0</td>\n",
       "      <td>1.0</td>\n",
       "      <td>-1.0</td>\n",
       "    </tr>\n",
       "    <tr>\n",
       "      <th>4139</th>\n",
       "      <td>8325.0</td>\n",
       "      <td>8325.0</td>\n",
       "      <td>282.48</td>\n",
       "      <td>31200.0</td>\n",
       "      <td>23.92</td>\n",
       "      <td>0.0</td>\n",
       "      <td>24.0</td>\n",
       "      <td>0.1349</td>\n",
       "      <td>1.0</td>\n",
       "      <td>4.0</td>\n",
       "      <td>-1.0</td>\n",
       "      <td>-1.0</td>\n",
       "      <td>-1.0</td>\n",
       "      <td>-1.0</td>\n",
       "      <td>1.0</td>\n",
       "      <td>-1.0</td>\n",
       "    </tr>\n",
       "  </tbody>\n",
       "</table>\n",
       "</div>"
      ],
      "text/plain": [
       "        col_0    col_1   col_2     col_3  col_4  col_5  col_6   col_7  col_8  \\\n",
       "4135  10000.0  10000.0  366.77  108000.0  23.41    1.0   10.0  0.1904    1.0   \n",
       "4136   4500.0   4500.0  148.38   24000.0   3.70    1.0    8.0  0.1149    1.0   \n",
       "4137  10000.0  10000.0  311.11   36996.0   5.45    0.0   12.0  0.0751    1.0   \n",
       "4138   3500.0   3500.0  119.61  110000.0  15.50    0.0   25.0  0.1399    1.0   \n",
       "4139   8325.0   8325.0  282.48   31200.0  23.92    0.0   24.0  0.1349    1.0   \n",
       "\n",
       "      col_9  col_10  col_11  col_12  col_13  col_14  loan funded  \n",
       "4135    6.0    -1.0    -1.0    -1.0    -1.0     1.0         -1.0  \n",
       "4136    0.0    -1.0    -1.0    -1.0    -1.0     1.0         -1.0  \n",
       "4137    5.0    -1.0    -1.0    -1.0    -1.0     1.0         -1.0  \n",
       "4138    0.0    -1.0    -1.0    -1.0    -1.0     1.0         -1.0  \n",
       "4139    4.0    -1.0    -1.0    -1.0    -1.0     1.0         -1.0  "
      ]
     },
     "execution_count": 27,
     "metadata": {},
     "output_type": "execute_result"
    }
   ],
   "source": [
    "df.tail()"
   ]
  },
  {
   "cell_type": "code",
   "execution_count": null,
   "metadata": {},
   "outputs": [],
   "source": [
    "# features: explanatory variables\n",
    "# target: variable one wants to forecast"
   ]
  },
  {
   "cell_type": "markdown",
   "metadata": {
    "ExecuteTime": {
     "end_time": "2020-07-27T09:01:26.368557Z",
     "start_time": "2020-07-27T09:01:26.322704Z"
    }
   },
   "source": [
    "Considering the accepted loans which ones are successful and can we derive some rules for success?"
   ]
  },
  {
   "cell_type": "code",
   "execution_count": 5,
   "metadata": {
    "ExecuteTime": {
     "end_time": "2020-07-28T16:30:06.589427Z",
     "start_time": "2020-07-28T16:30:06.581428Z"
    }
   },
   "outputs": [
    {
     "data": {
      "text/plain": [
       "col_0          float64\n",
       "col_1          float64\n",
       "col_2          float64\n",
       "col_3          float64\n",
       "col_4          float64\n",
       "col_5          float64\n",
       "col_6          float64\n",
       "col_7          float64\n",
       "col_8          float64\n",
       "col_9          float64\n",
       "col_10         float64\n",
       "col_11         float64\n",
       "col_12         float64\n",
       "col_13         float64\n",
       "col_14         float64\n",
       "loan funded    float64\n",
       "dtype: object"
      ]
     },
     "execution_count": 5,
     "metadata": {},
     "output_type": "execute_result"
    }
   ],
   "source": [
    "df.dtypes\n",
    "# int, float, objects..."
   ]
  },
  {
   "cell_type": "code",
   "execution_count": 6,
   "metadata": {
    "ExecuteTime": {
     "end_time": "2020-07-28T16:30:08.404014Z",
     "start_time": "2020-07-28T16:30:08.393020Z"
    }
   },
   "outputs": [
    {
     "name": "stdout",
     "output_type": "stream",
     "text": [
      "<class 'pandas.core.frame.DataFrame'>\n",
      "RangeIndex: 4140 entries, 0 to 4139\n",
      "Data columns (total 16 columns):\n",
      " #   Column       Non-Null Count  Dtype  \n",
      "---  ------       --------------  -----  \n",
      " 0   col_0        4140 non-null   float64\n",
      " 1   col_1        4140 non-null   float64\n",
      " 2   col_2        4140 non-null   float64\n",
      " 3   col_3        4140 non-null   float64\n",
      " 4   col_4        4140 non-null   float64\n",
      " 5   col_5        4140 non-null   float64\n",
      " 6   col_6        4140 non-null   float64\n",
      " 7   col_7        4140 non-null   float64\n",
      " 8   col_8        4140 non-null   float64\n",
      " 9   col_9        4140 non-null   float64\n",
      " 10  col_10       4140 non-null   float64\n",
      " 11  col_11       4140 non-null   float64\n",
      " 12  col_12       4140 non-null   float64\n",
      " 13  col_13       4140 non-null   float64\n",
      " 14  col_14       4140 non-null   float64\n",
      " 15  loan funded  4140 non-null   float64\n",
      "dtypes: float64(16)\n",
      "memory usage: 517.6 KB\n"
     ]
    }
   ],
   "source": [
    "df.info()"
   ]
  },
  {
   "cell_type": "code",
   "execution_count": 28,
   "metadata": {
    "ExecuteTime": {
     "end_time": "2020-07-28T17:16:11.290314Z",
     "start_time": "2020-07-28T17:16:10.935309Z"
    }
   },
   "outputs": [
    {
     "data": {
      "image/png": "[encoded data removed]",
      "text/plain": [
       "<Figure size 1440x1080 with 1 Axes>"
      ]
     },
     "metadata": {
      "needs_background": "light"
     },
     "output_type": "display_data"
    }
   ],
   "source": [
    "%matplotlib inline\n",
    "import matplotlib.pyplot as plt\n",
    "df['col_0'].hist(bins=50, figsize=(20,15))\n",
    "plt.show()"
   ]
  },
  {
   "cell_type": "code",
   "execution_count": 8,
   "metadata": {
    "ExecuteTime": {
     "end_time": "2020-07-28T16:30:13.402241Z",
     "start_time": "2020-07-28T16:30:13.358278Z"
    }
   },
   "outputs": [
    {
     "data": {
      "text/plain": [
       "-1.0    0.8157\n",
       " 1.0    0.1843\n",
       "Name: loan funded, dtype: float64"
      ]
     },
     "execution_count": 8,
     "metadata": {},
     "output_type": "execute_result"
    }
   ],
   "source": [
    "df['loan funded'].value_counts(normalize = True, dropna = False)"
   ]
  },
  {
   "cell_type": "code",
   "execution_count": 9,
   "metadata": {
    "ExecuteTime": {
     "end_time": "2020-07-28T16:30:14.506108Z",
     "start_time": "2020-07-28T16:30:14.501110Z"
    }
   },
   "outputs": [
    {
     "name": "stdout",
     "output_type": "stream",
     "text": [
      "features: 15, samples: 4140\n"
     ]
    }
   ],
   "source": [
    "# number of columns (features + target) and rows (samples)\n",
    "dims = df.shape[1]\n",
    "N    = df.shape[0]\n",
    "print('features: ' + str(dims-1) + ', samples: ' + str(N))"
   ]
  },
  {
   "cell_type": "markdown",
   "metadata": {},
   "source": [
    "Check out pandas-profiling for more details on the data set: https://github.com/pandas-profiling/pandas-profiling "
   ]
  },
  {
   "cell_type": "markdown",
   "metadata": {},
   "source": [
    "# Forecasting successful loans"
   ]
  },
  {
   "cell_type": "markdown",
   "metadata": {},
   "source": [
    "## Scikit-Learn"
   ]
  },
  {
   "cell_type": "markdown",
   "metadata": {},
   "source": [
    "**Scikit-learn** is a machine learning library built from NumPy, SciPy, and Matplotlib. It offers efficient tools for common tasks in data science like classification, regression, clustering, model selection, preprocessing...\n",
    "\n",
    "All objects in Scikit-learn share a uniform API consisting of three\n",
    "complementary interfaces:\n",
    "*    an estimator interface for building and fitting models (fit());\n",
    "*    a predictor interface for making predictions (predict());"
   ]
  },
  {
   "cell_type": "markdown",
   "metadata": {},
   "source": [
    "## First Simple Example "
   ]
  },
  {
   "cell_type": "markdown",
   "metadata": {},
   "source": [
    "Evaluating a model consists of the following three steps:\n",
    "```python\n",
    "model = sklearn.model.instance() \n",
    "model.fit()\n",
    "model.predict()\n",
    "```"
   ]
  },
  {
   "cell_type": "code",
   "execution_count": 10,
   "metadata": {
    "ExecuteTime": {
     "end_time": "2020-07-28T16:30:19.820072Z",
     "start_time": "2020-07-28T16:30:17.997638Z"
    }
   },
   "outputs": [
    {
     "name": "stdout",
     "output_type": "stream",
     "text": [
      "Predicted value: -1.0 , real target: -1.0\n"
     ]
    }
   ],
   "source": [
    "from sklearn import neighbors\n",
    "\n",
    "# feature matrix\n",
    "X = df.drop('loan funded', axis = 1)\n",
    "# target\n",
    "y = np.array(df['loan funded'])\n",
    "\n",
    "# Create an instance of K-nearest neighbor classifier\n",
    "knn = neighbors.KNeighborsClassifier(n_neighbors = 11)\n",
    "# Train the classifier\n",
    "knn.fit(X, y)\n",
    "# Compute the prediction according to the model\n",
    "yhat = knn.predict(X)\n",
    "# Check the result on the last example\n",
    "print('Predicted value: ' + str(yhat[-1]), ', real target: ' + str(y[-1]))"
   ]
  },
  {
   "cell_type": "code",
   "execution_count": 11,
   "metadata": {
    "ExecuteTime": {
     "end_time": "2020-07-28T16:30:19.949118Z",
     "start_time": "2020-07-28T16:30:19.822078Z"
    }
   },
   "outputs": [
    {
     "name": "stdout",
     "output_type": "stream",
     "text": [
      "With knn we receive an accuracy score of  0.8316425120772947\n"
     ]
    }
   ],
   "source": [
    "print('With knn we receive an accuracy score of ', knn.score(X,y))"
   ]
  },
  {
   "cell_type": "code",
   "execution_count": 12,
   "metadata": {
    "ExecuteTime": {
     "end_time": "2020-07-28T16:30:21.545759Z",
     "start_time": "2020-07-28T16:30:21.539794Z"
    }
   },
   "outputs": [
    {
     "data": {
      "text/plain": [
       "0.8316425120772947"
      ]
     },
     "execution_count": 12,
     "metadata": {},
     "output_type": "execute_result"
    }
   ],
   "source": [
    "(yhat == y).sum()/len(yhat)"
   ]
  },
  {
   "cell_type": "markdown",
   "metadata": {},
   "source": [
    "Is this a good result?\n",
    "\n",
    "In our problem, always predicting\n",
    "that the loan will be fully funded correctly predicts 81.57% of the samples. Observe\n",
    "that this value is very close to that obtained using the classifier."
   ]
  },
  {
   "cell_type": "markdown",
   "metadata": {},
   "source": [
    "**Always create a baseline model: Predict every data point as -1.**"
   ]
  },
  {
   "cell_type": "markdown",
   "metadata": {},
   "source": [
    "## Confusion Matrix"
   ]
  },
  {
   "cell_type": "markdown",
   "metadata": {},
   "source": [
    "Metrics:"
   ]
  },
  {
   "cell_type": "markdown",
   "metadata": {},
   "source": [
    "*    True positives (TP): When the classifier predicts a sample as positive and it really\n",
    "is positive.\n",
    "*    False positives (FP): When the classifier predicts a sample as positive but in fact\n",
    "it is negative.\n",
    "*    True negatives (TN): When the classifier predicts a sample as negative and it really\n",
    "is negative.\n",
    "*    False negatives (FN): When the classifier predicts a sample as negative but in fact\n",
    "it is positive."
   ]
  },
  {
   "cell_type": "code",
   "execution_count": 13,
   "metadata": {
    "ExecuteTime": {
     "end_time": "2020-07-28T16:30:23.995699Z",
     "start_time": "2020-07-28T16:30:23.872645Z"
    }
   },
   "outputs": [
    {
     "name": "stdout",
     "output_type": "stream",
     "text": [
      "TP: 73 , FP: 7\n",
      "FN: 690 , TN: 3370\n"
     ]
    }
   ],
   "source": [
    "yhat = knn.predict(X)\n",
    "TP = np.sum(np.logical_and(yhat == 1, y == 1))\n",
    "TN = np.sum(np.logical_and(yhat == -1, y == -1))\n",
    "FP = np.sum(np.logical_and(yhat == 1, y == -1))\n",
    "FN = np.sum(np.logical_and(yhat == -1, y == 1))\n",
    "print('TP: '+ str(TP), ', FP: ' + str(FP))\n",
    "print('FN: '+ str(FN), ', TN: ' + str(TN))"
   ]
  },
  {
   "cell_type": "code",
   "execution_count": 14,
   "metadata": {
    "ExecuteTime": {
     "end_time": "2020-07-28T16:30:26.207101Z",
     "start_time": "2020-07-28T16:30:26.194110Z"
    }
   },
   "outputs": [
    {
     "data": {
      "text/plain": [
       "array([[3370,    7],\n",
       "       [ 690,   73]], dtype=int64)"
      ]
     },
     "execution_count": 14,
     "metadata": {},
     "output_type": "execute_result"
    }
   ],
   "source": [
    "from sklearn import metrics\n",
    "metrics.confusion_matrix(y, yhat)"
   ]
  },
  {
   "cell_type": "markdown",
   "metadata": {},
   "source": [
    "## Problem of Overfitting"
   ]
  },
  {
   "cell_type": "code",
   "execution_count": 15,
   "metadata": {
    "ExecuteTime": {
     "end_time": "2020-07-28T16:30:28.583696Z",
     "start_time": "2020-07-28T16:30:28.463655Z"
    }
   },
   "outputs": [
    {
     "name": "stdout",
     "output_type": "stream",
     "text": [
      "classification accuracy: 1.0\n",
      "confusion matrix: \n",
      "[[3377    0]\n",
      " [   0  763]]\n"
     ]
    }
   ],
   "source": [
    "# Train a classifier using .fit()\n",
    "knn = neighbors.KNeighborsClassifier(n_neighbors = 1)\n",
    "knn.fit(X, y)\n",
    "yhat = knn.predict(x)\n",
    "print(\"classification accuracy: \" + str(metrics.accuracy_score(yhat , y)))\n",
    "print(\"confusion matrix: \\n\" + str(metrics.confusion_matrix(yhat , y)))"
   ]
  },
  {
   "cell_type": "code",
   "execution_count": null,
   "metadata": {},
   "outputs": [],
   "source": [
    "Training: For all cases available up to date you train a model\n",
    "Testing : Apply the model the future cases"
   ]
  },
  {
   "cell_type": "markdown",
   "metadata": {},
   "source": [
    "## Train-Test Split"
   ]
  },
  {
   "cell_type": "code",
   "execution_count": 16,
   "metadata": {
    "ExecuteTime": {
     "end_time": "2020-07-28T16:30:30.174630Z",
     "start_time": "2020-07-28T16:30:30.163631Z"
    }
   },
   "outputs": [],
   "source": [
    "from sklearn.model_selection import train_test_split\n",
    "train_set, test_set = train_test_split(df, test_size=0.2, random_state=42)\n",
    "\n",
    "X_train = train_set.drop('loan funded', axis = 1)\n",
    "y_train = train_set['loan funded'].copy()\n",
    "X_test  = test_set.drop('loan funded', axis = 1)\n",
    "y_test  = test_set['loan funded'].copy()"
   ]
  },
  {
   "cell_type": "code",
   "execution_count": 17,
   "metadata": {
    "ExecuteTime": {
     "end_time": "2020-07-28T16:30:31.347067Z",
     "start_time": "2020-07-28T16:30:31.226070Z"
    }
   },
   "outputs": [
    {
     "name": "stdout",
     "output_type": "stream",
     "text": [
      "TRAINING STATS:\n",
      "classification accuracy: 1.0\n",
      "confusion matrix: \n",
      "[[2719    0]\n",
      " [   0  593]]\n",
      "==================\n",
      "TESTING STATS:\n",
      "classification accuracy:  0.7560386473429952\n",
      "confusion matrix: \n",
      "[[573 117]\n",
      " [ 85  53]]\n"
     ]
    }
   ],
   "source": [
    "#Train a classifier on training data\n",
    "knn = neighbors.KNeighborsClassifier(n_neighbors = 1)\n",
    "knn.fit(X_train , y_train)\n",
    "yhat = knn.predict(X_train)\n",
    "print(\"TRAINING STATS:\")\n",
    "print(\"classification accuracy: \" + str(metrics.accuracy_score(yhat , y_train)))\n",
    "print(\"confusion matrix: \\n\" + str(metrics.confusion_matrix(y_train , yhat)))\n",
    "print(\"==================\")\n",
    "#Check on the test set\n",
    "yhat = knn.predict(X_test)\n",
    "print(\"TESTING STATS:\")\n",
    "print(\"classification accuracy: \", metrics.accuracy_score(yhat , y_test))\n",
    "print(\"confusion matrix: \\n\" + str(metrics.confusion_matrix(yhat , y_test)))"
   ]
  },
  {
   "cell_type": "markdown",
   "metadata": {},
   "source": [
    "baseline model: 81.5%"
   ]
  },
  {
   "cell_type": "markdown",
   "metadata": {},
   "source": [
    "Observe that each time we run the process of randomly splitting the dataset and\n",
    "train a classifier we obtain a different performance. \n",
    "\n",
    "A good simulation for approximating the test error is to run this process many times and average the performances."
   ]
  },
  {
   "cell_type": "code",
   "execution_count": 18,
   "metadata": {
    "ExecuteTime": {
     "end_time": "2020-07-28T16:30:33.083264Z",
     "start_time": "2020-07-28T16:30:33.031264Z"
    }
   },
   "outputs": [
    {
     "name": "stdout",
     "output_type": "stream",
     "text": [
      "0.7041062801932367\n",
      "0.6932367149758454\n",
      "0.717391304347826\n",
      "0.7222222222222222\n",
      "0.7089371980676329\n",
      "0.716183574879227\n",
      "0.7234299516908212\n",
      "0.717391304347826\n",
      "0.7053140096618358\n",
      "0.714975845410628\n",
      "\n",
      "\n",
      "Mean expected error:0.7123188405797102\n"
     ]
    }
   ],
   "source": [
    "# Spitting done by using the tools provided by sklearn:\n",
    "acc = []\n",
    "for i in range(10):\n",
    "    train_set, test_set = train_test_split(df, test_size=0.2)\n",
    "\n",
    "    X_train = train_set.drop('loan funded', axis = 1)\n",
    "    y_train = train_set['loan funded'].copy()\n",
    "    X_test  = test_set.drop('loan funded', axis = 1)\n",
    "    y_test  = test_set['loan funded'].copy()\n",
    "    \n",
    "    print(metrics.accuracy_score(yhat , y_test))\n",
    "    acc.append(metrics.accuracy_score(yhat, y_test))\n",
    "\n",
    "print(\"\\n\")\n",
    "print(\"Mean expected error:\" + str(np.mean(acc)))"
   ]
  },
  {
   "cell_type": "markdown",
   "metadata": {},
   "source": [
    "## Train-Test Error"
   ]
  },
  {
   "cell_type": "markdown",
   "metadata": {
    "ExecuteTime": {
     "end_time": "2020-07-21T11:19:33.760060Z",
     "start_time": "2020-07-21T11:19:33.755055Z"
    }
   },
   "source": [
    "**Train error $E_{train}$**: The training error is the error measured over all the samples in the training set\n",
    "\n",
    "**Test error $E_{test}$**: The test error or generalization error measures the expected error on unseen data."
   ]
  },
  {
   "cell_type": "markdown",
   "metadata": {},
   "source": [
    "Aim: \n",
    "\n",
    "$$E_{test} \\approx E_{train}$$"
   ]
  },
  {
   "cell_type": "code",
   "execution_count": null,
   "metadata": {},
   "outputs": [],
   "source": [
    "83% training\n",
    "81% test"
   ]
  },
  {
   "cell_type": "markdown",
   "metadata": {},
   "source": [
    "## Comparing different classifiers"
   ]
  },
  {
   "cell_type": "code",
   "execution_count": 19,
   "metadata": {
    "ExecuteTime": {
     "end_time": "2020-07-28T16:30:39.121891Z",
     "start_time": "2020-07-28T16:30:36.053857Z"
    }
   },
   "outputs": [],
   "source": [
    "from sklearn import tree\n",
    "from sklearn import svm\n",
    "\n",
    "acc_nn1 = [];\n",
    "acc_nn3 = [];\n",
    "acc_svc = [];\n",
    "acc_dt  = [];\n",
    "for i in range(10):\n",
    "    X_train , X_test , y_train , y_test = train_test_split(X, y, test_size = 0.2)\n",
    "    \n",
    "    nn1 = neighbors.KNeighborsClassifier(n_neighbors = 1)\n",
    "    nn3 = neighbors.KNeighborsClassifier(n_neighbors = 3)\n",
    "    svc = svm.SVC()\n",
    "    dt = tree.DecisionTreeClassifier ()\n",
    "    \n",
    "    nn1.fit(X_train , y_train)\n",
    "    nn3.fit(X_train , y_train)\n",
    "    svc.fit(X_train , y_train)\n",
    "    dt.fit(X_train , y_train)\n",
    "    \n",
    "    # always compare on the test set\n",
    "    yhat_nn1 = nn1.predict(X_test)\n",
    "    yhat_nn3 = nn3.predict(X_test)\n",
    "    yhat_svc = svc.predict(X_test)\n",
    "    yhat_dt  = dt.predict(X_test)\n",
    "    \n",
    "    acc_nn1.append(metrics.accuracy_score(yhat_nn1 , y_test))\n",
    "    acc_nn3.append(metrics.accuracy_score(yhat_nn3 , y_test))\n",
    "    acc_svc.append(metrics.accuracy_score(yhat_svc , y_test))\n",
    "    acc_dt.append(metrics.accuracy_score(yhat_dt , y_test))"
   ]
  },
  {
   "cell_type": "code",
   "execution_count": 20,
   "metadata": {
    "ExecuteTime": {
     "end_time": "2020-07-28T16:30:39.127856Z",
     "start_time": "2020-07-28T16:30:39.123851Z"
    }
   },
   "outputs": [],
   "source": [
    "compare_acc = pd.DataFrame({\n",
    "    \"nn1\": acc_nn1,\n",
    "    \"nn3\": acc_nn3,\n",
    "    \"svc\": acc_svc,\n",
    "    \"dt\" : acc_dt})"
   ]
  },
  {
   "cell_type": "code",
   "execution_count": 21,
   "metadata": {
    "ExecuteTime": {
     "end_time": "2020-07-28T16:30:39.363527Z",
     "start_time": "2020-07-28T16:30:39.351534Z"
    }
   },
   "outputs": [
    {
     "data": {
      "text/html": [
       "<div>\n",
       "<style scoped>\n",
       "    .dataframe tbody tr th:only-of-type {\n",
       "        vertical-align: middle;\n",
       "    }\n",
       "\n",
       "    .dataframe tbody tr th {\n",
       "        vertical-align: top;\n",
       "    }\n",
       "\n",
       "    .dataframe thead th {\n",
       "        text-align: right;\n",
       "    }\n",
       "</style>\n",
       "<table border=\"1\" class=\"dataframe\">\n",
       "  <thead>\n",
       "    <tr style=\"text-align: right;\">\n",
       "      <th></th>\n",
       "      <th>nn1</th>\n",
       "      <th>nn3</th>\n",
       "      <th>svc</th>\n",
       "      <th>dt</th>\n",
       "    </tr>\n",
       "  </thead>\n",
       "  <tbody>\n",
       "    <tr>\n",
       "      <th>0</th>\n",
       "      <td>0.748792</td>\n",
       "      <td>0.797101</td>\n",
       "      <td>0.794686</td>\n",
       "      <td>0.757246</td>\n",
       "    </tr>\n",
       "    <tr>\n",
       "      <th>1</th>\n",
       "      <td>0.763285</td>\n",
       "      <td>0.794686</td>\n",
       "      <td>0.805556</td>\n",
       "      <td>0.751208</td>\n",
       "    </tr>\n",
       "    <tr>\n",
       "      <th>2</th>\n",
       "      <td>0.752415</td>\n",
       "      <td>0.783816</td>\n",
       "      <td>0.826087</td>\n",
       "      <td>0.762077</td>\n",
       "    </tr>\n",
       "    <tr>\n",
       "      <th>3</th>\n",
       "      <td>0.754831</td>\n",
       "      <td>0.789855</td>\n",
       "      <td>0.800725</td>\n",
       "      <td>0.752415</td>\n",
       "    </tr>\n",
       "    <tr>\n",
       "      <th>4</th>\n",
       "      <td>0.754831</td>\n",
       "      <td>0.798309</td>\n",
       "      <td>0.838164</td>\n",
       "      <td>0.771739</td>\n",
       "    </tr>\n",
       "    <tr>\n",
       "      <th>5</th>\n",
       "      <td>0.739130</td>\n",
       "      <td>0.787440</td>\n",
       "      <td>0.830918</td>\n",
       "      <td>0.763285</td>\n",
       "    </tr>\n",
       "    <tr>\n",
       "      <th>6</th>\n",
       "      <td>0.746377</td>\n",
       "      <td>0.792271</td>\n",
       "      <td>0.815217</td>\n",
       "      <td>0.797101</td>\n",
       "    </tr>\n",
       "    <tr>\n",
       "      <th>7</th>\n",
       "      <td>0.783816</td>\n",
       "      <td>0.807971</td>\n",
       "      <td>0.828502</td>\n",
       "      <td>0.747585</td>\n",
       "    </tr>\n",
       "    <tr>\n",
       "      <th>8</th>\n",
       "      <td>0.764493</td>\n",
       "      <td>0.804348</td>\n",
       "      <td>0.822464</td>\n",
       "      <td>0.782609</td>\n",
       "    </tr>\n",
       "    <tr>\n",
       "      <th>9</th>\n",
       "      <td>0.762077</td>\n",
       "      <td>0.803140</td>\n",
       "      <td>0.817633</td>\n",
       "      <td>0.752415</td>\n",
       "    </tr>\n",
       "  </tbody>\n",
       "</table>\n",
       "</div>"
      ],
      "text/plain": [
       "        nn1       nn3       svc        dt\n",
       "0  0.748792  0.797101  0.794686  0.757246\n",
       "1  0.763285  0.794686  0.805556  0.751208\n",
       "2  0.752415  0.783816  0.826087  0.762077\n",
       "3  0.754831  0.789855  0.800725  0.752415\n",
       "4  0.754831  0.798309  0.838164  0.771739\n",
       "5  0.739130  0.787440  0.830918  0.763285\n",
       "6  0.746377  0.792271  0.815217  0.797101\n",
       "7  0.783816  0.807971  0.828502  0.747585\n",
       "8  0.764493  0.804348  0.822464  0.782609\n",
       "9  0.762077  0.803140  0.817633  0.752415"
      ]
     },
     "execution_count": 21,
     "metadata": {},
     "output_type": "execute_result"
    }
   ],
   "source": [
    "compare_acc"
   ]
  },
  {
   "cell_type": "markdown",
   "metadata": {},
   "source": [
    "This process is one particular form of a general model selection technique called\n",
    "cross-validation."
   ]
  },
  {
   "cell_type": "markdown",
   "metadata": {},
   "source": [
    "## Hyperparameter Search on the Validation Set"
   ]
  },
  {
   "cell_type": "markdown",
   "metadata": {},
   "source": [
    "find for a given algorihm the best parameters"
   ]
  },
  {
   "cell_type": "code",
   "execution_count": 22,
   "metadata": {
    "ExecuteTime": {
     "end_time": "2020-07-28T16:30:44.614247Z",
     "start_time": "2020-07-28T16:30:41.839904Z"
    }
   },
   "outputs": [],
   "source": [
    "from sklearn.model_selection import KFold\n",
    "# Create a 10-fold cross -validation set\n",
    "X  = np.array(X)\n",
    "kf = KFold(n_splits = 10, shuffle = True , random_state = 0)\n",
    "\n",
    "# Search for the parameter among the following:\n",
    "C   = np.arange(2, 20,)\n",
    "# 2, 3, 4,5,6 ...20\n",
    "\n",
    "acc = np.zeros ((10, len(C)))\n",
    "i = 0\n",
    "for train_index , val_index in kf.split(X):\n",
    "    # print(\"TRAIN:\", train_index, \"VAL:\", val_index)\n",
    "    X_train , X_val = X[train_index], X[val_index]\n",
    "    y_train , y_val = y[train_index], y[val_index]\n",
    "    j = 0\n",
    "    for c in C:\n",
    "        dt = tree.DecisionTreeClassifier(min_samples_leaf = 1, max_depth = c)\n",
    "        dt.fit(X_train, y_train)\n",
    "        yhat = dt.predict(X_val)\n",
    "        acc[i][j] = metrics.accuracy_score(yhat , y_val)\n",
    "        j = j + 1\n",
    "    i = i + 1"
   ]
  },
  {
   "cell_type": "code",
   "execution_count": null,
   "metadata": {},
   "outputs": [],
   "source": []
  },
  {
   "cell_type": "code",
   "execution_count": 23,
   "metadata": {
    "ExecuteTime": {
     "end_time": "2020-07-28T16:30:44.621946Z",
     "start_time": "2020-07-28T16:30:44.616900Z"
    }
   },
   "outputs": [
    {
     "data": {
      "text/plain": [
       "array([0.81884058, 0.8236715 , 0.83091787, 0.83333333, 0.83091787,\n",
       "       0.83091787, 0.81884058, 0.8236715 , 0.8115942 , 0.8236715 ,\n",
       "       0.82125604, 0.81642512, 0.81642512, 0.80917874, 0.80193237,\n",
       "       0.80193237, 0.79468599, 0.80434783])"
      ]
     },
     "execution_count": 23,
     "metadata": {},
     "output_type": "execute_result"
    }
   ],
   "source": [
    "acc[0]"
   ]
  },
  {
   "cell_type": "code",
   "execution_count": 24,
   "metadata": {
    "ExecuteTime": {
     "end_time": "2020-07-28T16:30:45.442386Z",
     "start_time": "2020-07-28T16:30:45.438386Z"
    }
   },
   "outputs": [
    {
     "name": "stdout",
     "output_type": "stream",
     "text": [
      "Mean accuracy: [0.82536232 0.8263285  0.83188406 0.83405797 0.8352657  0.83236715\n",
      " 0.82898551 0.82415459 0.82342995 0.81908213 0.81280193 0.80797101\n",
      " 0.80120773 0.79927536 0.79541063 0.79033816 0.78236715 0.78599034]\n",
      "Selected model index: 4\n"
     ]
    }
   ],
   "source": [
    "print('Mean accuracy: ' + str(np.mean(acc , axis = 0)))\n",
    "print('Selected model index: ' + str(np.argmax(np.mean(acc , axis = 0))))"
   ]
  },
  {
   "cell_type": "markdown",
   "metadata": {
    "ExecuteTime": {
     "end_time": "2020-07-28T15:18:07.313526Z",
     "start_time": "2020-07-28T15:18:07.306575Z"
    }
   },
   "source": [
    "The best average accuracy is obtained by the fifth model, a maximum depth of 6. Although we can report that the best accuracy is estimated to be found with a complexity value of 6, we cannot say anything about\n",
    "the value it will achieve. Therefore we need to test it on a held-out **test set**."
   ]
  },
  {
   "cell_type": "code",
   "execution_count": 25,
   "metadata": {
    "ExecuteTime": {
     "end_time": "2020-07-28T16:30:47.281838Z",
     "start_time": "2020-07-28T16:30:47.254847Z"
    }
   },
   "outputs": [
    {
     "name": "stdout",
     "output_type": "stream",
     "text": [
      "Test accuracy: 0.8429951690821256\n"
     ]
    }
   ],
   "source": [
    "# Train the model with the complete training set with the selected complexity\n",
    "dt = tree.DecisionTreeClassifier(min_samples_leaf = 1, max_depth = C[np.argmax(np.mean(acc , axis = 0))])\n",
    "dt.fit(X_train ,y_train)\n",
    "# Test the model with the test set\n",
    "yhat = dt.predict(X_test)\n",
    "print('Test accuracy: ' + str(metrics.accuracy_score(yhat , y_test)))"
   ]
  },
  {
   "cell_type": "markdown",
   "metadata": {},
   "source": [
    "## Nested Cross-Validation"
   ]
  },
  {
   "cell_type": "code",
   "execution_count": 26,
   "metadata": {
    "ExecuteTime": {
     "end_time": "2020-07-28T16:31:48.446256Z",
     "start_time": "2020-07-28T16:30:50.716751Z"
    }
   },
   "outputs": [
    {
     "name": "stdout",
     "output_type": "stream",
     "text": [
      "0\n",
      "Fitting 2 folds for each of 4 candidates, totalling 8 fits\n"
     ]
    },
    {
     "name": "stderr",
     "output_type": "stream",
     "text": [
      "[Parallel(n_jobs=-1)]: Using backend LokyBackend with 8 concurrent workers.\n",
      "[Parallel(n_jobs=-1)]: Done   3 out of   8 | elapsed:    2.2s remaining:    3.7s\n",
      "[Parallel(n_jobs=-1)]: Done   5 out of   8 | elapsed:    3.2s remaining:    1.9s\n",
      "[Parallel(n_jobs=-1)]: Done   8 out of   8 | elapsed:    4.8s finished\n"
     ]
    },
    {
     "name": "stdout",
     "output_type": "stream",
     "text": [
      "1\n",
      "Fitting 2 folds for each of 4 candidates, totalling 8 fits\n"
     ]
    },
    {
     "name": "stderr",
     "output_type": "stream",
     "text": [
      "[Parallel(n_jobs=-1)]: Using backend LokyBackend with 8 concurrent workers.\n",
      "[Parallel(n_jobs=-1)]: Done   3 out of   8 | elapsed:    0.5s remaining:    0.9s\n",
      "[Parallel(n_jobs=-1)]: Done   5 out of   8 | elapsed:    1.6s remaining:    0.9s\n",
      "[Parallel(n_jobs=-1)]: Done   8 out of   8 | elapsed:    3.3s finished\n"
     ]
    },
    {
     "name": "stdout",
     "output_type": "stream",
     "text": [
      "2\n",
      "Fitting 2 folds for each of 4 candidates, totalling 8 fits\n"
     ]
    },
    {
     "name": "stderr",
     "output_type": "stream",
     "text": [
      "[Parallel(n_jobs=-1)]: Using backend LokyBackend with 8 concurrent workers.\n",
      "[Parallel(n_jobs=-1)]: Done   3 out of   8 | elapsed:    0.6s remaining:    1.1s\n",
      "[Parallel(n_jobs=-1)]: Done   5 out of   8 | elapsed:    1.6s remaining:    0.9s\n",
      "[Parallel(n_jobs=-1)]: Done   8 out of   8 | elapsed:    3.5s finished\n"
     ]
    },
    {
     "name": "stdout",
     "output_type": "stream",
     "text": [
      "3\n",
      "Fitting 2 folds for each of 4 candidates, totalling 8 fits\n"
     ]
    },
    {
     "name": "stderr",
     "output_type": "stream",
     "text": [
      "[Parallel(n_jobs=-1)]: Using backend LokyBackend with 8 concurrent workers.\n",
      "[Parallel(n_jobs=-1)]: Done   3 out of   8 | elapsed:    0.7s remaining:    1.2s\n",
      "[Parallel(n_jobs=-1)]: Done   5 out of   8 | elapsed:    1.3s remaining:    0.7s\n",
      "[Parallel(n_jobs=-1)]: Done   8 out of   8 | elapsed:    3.3s finished\n"
     ]
    },
    {
     "name": "stdout",
     "output_type": "stream",
     "text": [
      "4\n",
      "Fitting 2 folds for each of 4 candidates, totalling 8 fits\n"
     ]
    },
    {
     "name": "stderr",
     "output_type": "stream",
     "text": [
      "[Parallel(n_jobs=-1)]: Using backend LokyBackend with 8 concurrent workers.\n",
      "[Parallel(n_jobs=-1)]: Done   3 out of   8 | elapsed:    0.6s remaining:    1.1s\n",
      "[Parallel(n_jobs=-1)]: Done   5 out of   8 | elapsed:    1.9s remaining:    1.1s\n",
      "[Parallel(n_jobs=-1)]: Done   8 out of   8 | elapsed:    4.7s finished\n"
     ]
    },
    {
     "name": "stdout",
     "output_type": "stream",
     "text": [
      "0.8557971014492753\n",
      "[[3375    2]\n",
      " [ 595  168]]\n"
     ]
    }
   ],
   "source": [
    "from sklearn.preprocessing import StandardScaler\n",
    "from sklearn.model_selection import GridSearchCV # hyperparameter search as a parallel process \n",
    "\n",
    "parameters = {'C': [1e4, 1e5],\n",
    "              'gamma': [1e-5, 1e-4]}\n",
    "\n",
    "N_splits = 5\n",
    "kf      = KFold(n_splits = N_splits, shuffle = True, random_state = 0)\n",
    "acc     = np.zeros((N_splits,))\n",
    "\n",
    "i = 0\n",
    "\n",
    "# We will build the predicted y from the partial predictions on the test of each of the folds\n",
    "yhat = y.copy()\n",
    "\n",
    "for train_index, test_index in kf.split(X):\n",
    "    print(i)\n",
    "    X_train , X_test = X[train_index ,:], X[test_index ,:]\n",
    "    y_train , y_test = y[train_index], y[test_index]\n",
    "    scaler = StandardScaler()\n",
    "    X_train = scaler.fit_transform(X_train)\n",
    "    \n",
    "    clf = svm.SVC(kernel = 'rbf')\n",
    "    clf = GridSearchCV(clf, parameters , cv = 2, n_jobs = -1, verbose=5)\n",
    "    clf.fit(X_train, y_train)\n",
    "    X_test = scaler.transform(X_test)\n",
    "    yhat[test_index] = clf.predict(X_test)\n",
    "    i += 1\n",
    "    \n",
    "print(metrics.accuracy_score(y, yhat))\n",
    "print(metrics.confusion_matrix(y, yhat))"
   ]
  }
 ],
 "metadata": {
  "hide_input": false,
  "kernelspec": {
   "display_name": "Python 3",
   "language": "python",
   "name": "python3"
  },
  "language_info": {
   "codemirror_mode": {
    "name": "ipython",
    "version": 3
   },
   "file_extension": ".py",
   "mimetype": "text/x-python",
   "name": "python",
   "nbconvert_exporter": "python",
   "pygments_lexer": "ipython3",
   "version": "3.7.1"
  },
  "toc": {
   "base_numbering": 1,
   "nav_menu": {},
   "number_sections": true,
   "sideBar": true,
   "skip_h1_title": false,
   "title_cell": "Table of Contents",
   "title_sidebar": "Contents",
   "toc_cell": false,
   "toc_position": {
    "height": "calc(100% - 180px)",
    "left": "10px",
    "top": "150px",
    "width": "288.267px"
   },
   "toc_section_display": true,
   "toc_window_display": true
  }
 },
 "nbformat": 4,
 "nbformat_minor": 4
}
