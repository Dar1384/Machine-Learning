{
 "cells": [
  {
   "cell_type": "markdown",
   "metadata": {},
   "source": [
    "# Performance metrics and scoring: quantifying the quality of predictions"
   ]
  },
  {
   "cell_type": "markdown",
   "metadata": {},
   "source": [
    "## Preamble"
   ]
  },
  {
   "cell_type": "code",
   "execution_count": 57,
   "metadata": {
    "ExecuteTime": {
     "end_time": "2020-12-21T16:05:55.017558Z",
     "start_time": "2020-12-21T16:05:54.696562Z"
    }
   },
   "outputs": [],
   "source": [
    "# Common imports\n",
    "import numpy as np # numpy is THE toolbox for scientific computing with python\n",
    "import pandas as pd # pandas provides THE data structure and data analysis tools for data scientists \n",
    "import pickle # we have to import a pickle file\n",
    "import os \n",
    "# from datetime import timedelta, datetime\n",
    "\n",
    "# maximum number of columns\n",
    "pd.set_option(\"display.max_rows\", 101)\n",
    "pd.set_option(\"display.max_columns\", 101)\n",
    "\n",
    "# To plot pretty figures\n",
    "%matplotlib inline\n",
    "import matplotlib as mpl\n",
    "import matplotlib.pyplot as plt\n",
    "mpl.rc('axes', labelsize=14)\n",
    "mpl.rc('xtick', labelsize=12)\n",
    "mpl.rc('ytick', labelsize=12)"
   ]
  },
  {
   "cell_type": "markdown",
   "metadata": {},
   "source": [
    "## Aim of the Q&A session"
   ]
  },
  {
   "cell_type": "markdown",
   "metadata": {},
   "source": [
    "We want to understand how to quantify the quality of a machine-learning model. Therefore it is important to understand the **performance metrics**, like MSE, MAE,... . On the other hand it is also important to get a detailed view on the *error distribution*.  \n",
    "\n",
    "We here concentrate on performance metrics. However, in a subsection we also discuss the importance of visually inspecting the error distribution (for regression tasks).\n",
    "\n",
    "We aim at a detailed analysis of performance metrics for supervised learning algorithms:\n",
    "*    `Classification metrics`\n",
    "*    `Regression metrics` \n",
    "\n",
    "but also for unsupervised learning:\n",
    "*    `Clustering metrics`\n",
    "\n",
    "Unfortunately, one hour is not enough to discuss \n",
    "*    `Multilabel ranking metrics`"
   ]
  },
  {
   "cell_type": "markdown",
   "metadata": {},
   "source": [
    "## Sources"
   ]
  },
  {
   "cell_type": "markdown",
   "metadata": {},
   "source": [
    "We here strongly follow `scikit-learn`: https://scikit-learn.org/stable/modules/model_evaluation.html#regression-metrics.\n",
    "\n",
    "For classification metrics we also follow *Runkler, T. A. (2012). Data analytics: Models and algorithms for intelligent data analysis. Springer*.\n",
    "\n",
    "For regression metrics we also follow *Skiena, S. S (2017). The data science design manual. Springer International Publishing. Database: Springer eBook Package English Computer Science*."
   ]
  },
  {
   "cell_type": "markdown",
   "metadata": {},
   "source": [
    "## Scoring API for cross-validation"
   ]
  },
  {
   "cell_type": "markdown",
   "metadata": {
    "ExecuteTime": {
     "end_time": "2020-12-22T09:31:55.539589Z",
     "start_time": "2020-12-22T09:31:55.536590Z"
    }
   },
   "source": [
    "Model-evaluation tools using `cross-validation` (such as *model_selection.cross_val_score* and *model_selection.GridSearchCV*) rely on an *internal* scoring strategy. \n",
    "\n",
    "All scorer objects follow the convention that **higher return values are better than lower return values**. Thus metrics which measure the distance between the model and the data, like metrics.mean_squared_error, are available as neg_mean_squared_error which return the negated value of the metric."
   ]
  },
  {
   "cell_type": "code",
   "execution_count": 183,
   "metadata": {
    "ExecuteTime": {
     "end_time": "2020-12-22T09:38:07.497426Z",
     "start_time": "2020-12-22T09:38:07.472418Z"
    }
   },
   "outputs": [
    {
     "name": "stdout",
     "output_type": "stream",
     "text": [
      "TARGET VALUES: \n",
      " [0 0 0 0 0 0 0 0 0 0 0 0 0 0 0 0 0 0 0 0 0 0 0 0 0 0 0 0 0 0 0 0 0 0 0 0 0\n",
      " 0 0 0 0 0 0 0 0 0 0 0 0 0 1 1 1 1 1 1 1 1 1 1 1 1 1 1 1 1 1 1 1 1 1 1 1 1\n",
      " 1 1 1 1 1 1 1 1 1 1 1 1 1 1 1 1 1 1 1 1 1 1 1 1 1 1 1 1 1 1 1 1 1 1 1 1 1\n",
      " 1 1 1 1 1 1 1 1 1 1 1 1 1 1 1 1 1 1 1 1 1 1 1 1 1 1 1 1 1 1 1 1 1 1 1 1 1\n",
      " 1 1]\n"
     ]
    },
    {
     "data": {
      "text/plain": [
       "array([1., 1., 1., 1., 1.])"
      ]
     },
     "execution_count": 183,
     "metadata": {},
     "output_type": "execute_result"
    }
   ],
   "source": [
    "from sklearn import svm, datasets\n",
    "from sklearn.model_selection import cross_val_score\n",
    "\n",
    "X, y = datasets.load_iris(return_X_y=True)\n",
    "y[y!=0] = 1\n",
    "print('TARGET VALUES: \\n', y)\n",
    "clf = svm.SVC(random_state=0)\n",
    "cross_val_score(clf, X, y, cv=5, scoring='recall')"
   ]
  },
  {
   "cell_type": "markdown",
   "metadata": {},
   "source": [
    "Here is an example of using `custom scorers` with the use of *sklearn.metrics.make_scorer* and multiple metric evaluations."
   ]
  },
  {
   "cell_type": "code",
   "execution_count": 186,
   "metadata": {
    "ExecuteTime": {
     "end_time": "2020-12-22T09:43:16.119256Z",
     "start_time": "2020-12-22T09:43:16.085260Z"
    }
   },
   "outputs": [
    {
     "name": "stdout",
     "output_type": "stream",
     "text": [
      "[10  9  8  7  8]\n",
      "[0 1 2 3 2]\n"
     ]
    }
   ],
   "source": [
    "from sklearn.model_selection import cross_validate\n",
    "from sklearn.metrics import confusion_matrix\n",
    "from sklearn.svm import LinearSVC\n",
    "from sklearn.metrics import make_scorer\n",
    "\n",
    "# A sample toy binary classification dataset\n",
    "X, y = datasets.make_classification(n_classes=2, random_state=0)\n",
    "svm = LinearSVC(random_state=0)\n",
    "\n",
    "def tn(y_true, y_pred): return confusion_matrix(y_true, y_pred)[0, 0]\n",
    "def fp(y_true, y_pred): return confusion_matrix(y_true, y_pred)[0, 1]\n",
    "def fn(y_true, y_pred): return confusion_matrix(y_true, y_pred)[1, 0]\n",
    "def tp(y_true, y_pred): return confusion_matrix(y_true, y_pred)[1, 1]\n",
    "scoring = {'tp': make_scorer(tp), 'tn': make_scorer(tn),\n",
    "           'fp': make_scorer(fp), 'fn': make_scorer(fn)}\n",
    "\n",
    "cv_results = cross_validate(svm.fit(X, y), X, y, cv=5, scoring=scoring)\n",
    "# Getting the test set true positive scores\n",
    "\n",
    "print(cv_results['test_tp'])\n",
    "\n",
    "# Getting the test set false negative scores\n",
    "print(cv_results['test_fn'])"
   ]
  },
  {
   "cell_type": "markdown",
   "metadata": {},
   "source": [
    "We will concentrate on the `metrics module` and on assessing the quality of a model."
   ]
  },
  {
   "cell_type": "markdown",
   "metadata": {},
   "source": [
    "# Classification Performance"
   ]
  },
  {
   "cell_type": "markdown",
   "metadata": {},
   "source": [
    "To assess classification performance we consider a selected class, for example the *class of sick patients*.\n",
    "\n",
    "An ideal classifier classifies all healthy patentials as healthy and all sick patients as sick. \n",
    "\n",
    "It is very natural to look into the confusion matrix:\n",
    "\n",
    "*    TP = a sick patient is classified as sick\n",
    "*    TN = a healthy patient is classified as healthy\n",
    "*    FP = a healthy patient is classified as sick\n",
    "*    FN = a sick patient is classified as healthy\n",
    "\n",
    "From these definitions we can get many classification performance criteria like **sensitivity, specificity, precision and recall and F-measure**. It is very important to get a good understanding of these measures.\n",
    "\n",
    "However, none of these criteria alone is sufficient to assess the performance of a classifier. **Classification perfromance is usually assessed by considering pairs of classification criteria.**\n",
    "\n",
    "And: it is always a good idea to consider a performance measure that is independent of the treshold."
   ]
  },
  {
   "cell_type": "markdown",
   "metadata": {},
   "source": [
    "## Precision, Recall, F1-Score and Precision-Recall Curve in sklearn"
   ]
  },
  {
   "cell_type": "markdown",
   "metadata": {},
   "source": [
    "Threshold-dependent metrics:"
   ]
  },
  {
   "cell_type": "code",
   "execution_count": 187,
   "metadata": {
    "ExecuteTime": {
     "end_time": "2020-12-22T09:57:00.677589Z",
     "start_time": "2020-12-22T09:57:00.665557Z"
    }
   },
   "outputs": [
    {
     "name": "stdout",
     "output_type": "stream",
     "text": [
      "Precision :  1.0\n",
      "Recall    :  0.5\n",
      "F1-score  :  0.6666666666666666\n",
      "F0.5-score:  0.8333333333333334\n"
     ]
    }
   ],
   "source": [
    "from sklearn import metrics\n",
    "y_pred = [0, 1, 0, 0]\n",
    "y_true = [0, 1, 0, 1]\n",
    "\n",
    "print('Precision : ', metrics.precision_score(y_true, y_pred))\n",
    "print('Recall    : ', metrics.recall_score(y_true, y_pred))\n",
    "print('F1-score  : ', metrics.f1_score(y_true, y_pred))\n",
    "print('F0.5-score: ', metrics.fbeta_score(y_true, y_pred, beta=0.5))"
   ]
  },
  {
   "cell_type": "markdown",
   "metadata": {},
   "source": [
    "Threshold-independent metrics:"
   ]
  },
  {
   "cell_type": "code",
   "execution_count": 188,
   "metadata": {
    "ExecuteTime": {
     "end_time": "2020-12-22T09:58:28.268273Z",
     "start_time": "2020-12-22T09:58:28.259276Z"
    }
   },
   "outputs": [
    {
     "name": "stdout",
     "output_type": "stream",
     "text": [
      "precision values :  [0.66666667 0.5        1.         1.        ]\n",
      "recall values    :  [1.  0.5 0.5 0. ]\n",
      "threshold values :  [0.35 0.4  0.8 ]\n",
      "average precision:  0.8333333333333333\n"
     ]
    }
   ],
   "source": [
    "import numpy as np\n",
    "from sklearn.metrics import precision_recall_curve\n",
    "from sklearn.metrics import average_precision_score\n",
    "\n",
    "y_true = np.array([0, 0, 1, 1])\n",
    "y_scores = np.array([0.1, 0.4, 0.35, 0.8])\n",
    "\n",
    "precision, recall, threshold = precision_recall_curve(y_true, y_scores)\n",
    "print('precision values : ', precision)\n",
    "print('recall values    : ', recall)\n",
    "print('threshold values : ', threshold)\n",
    "print('average precision: ', average_precision_score(y_true, y_scores))"
   ]
  },
  {
   "cell_type": "markdown",
   "metadata": {},
   "source": [
    "## Receiver Operating Characteristic (ROC)"
   ]
  },
  {
   "cell_type": "markdown",
   "metadata": {},
   "source": [
    "One example of considering pairs of classification measures is the *receiver operating characteristic (ROC)*, a scatter plot of the true positive rate TPR (sensitivity) and the false positive rate (FPR).\n",
    "\n",
    "$$ TPR = \\frac{TP}{TP + FN} \\qquad \\text{probability that a sick patient is classified as sick}$$\n",
    "\n",
    "$$ FPR = \\frac{FP}{FP + TN} \\qquad \\text{probability that a healthy patient is classified as sick}$$"
   ]
  },
  {
   "cell_type": "code",
   "execution_count": 2,
   "metadata": {
    "ExecuteTime": {
     "end_time": "2020-12-21T14:57:50.254558Z",
     "start_time": "2020-12-21T14:57:47.026427Z"
    }
   },
   "outputs": [],
   "source": [
    "# https://scikit-learn.org/stable/auto_examples/model_selection/plot_roc.html\n",
    "import numpy as np\n",
    "import matplotlib.pyplot as plt\n",
    "from itertools import cycle\n",
    "\n",
    "from sklearn import svm, datasets\n",
    "from sklearn.metrics import roc_curve, auc\n",
    "from sklearn.model_selection import train_test_split\n",
    "from sklearn.preprocessing import label_binarize\n",
    "from sklearn.multiclass import OneVsRestClassifier\n",
    "from scipy import interp\n",
    "from sklearn.metrics import roc_auc_score\n",
    "\n",
    "# Import some data to play with\n",
    "iris = datasets.load_iris()\n",
    "X = iris.data\n",
    "y = iris.target\n",
    "\n",
    "# Binarize the output\n",
    "y = label_binarize(y, classes=[0, 1, 2])\n",
    "n_classes = y.shape[1]\n",
    "\n",
    "# Add noisy features to make the problem harder\n",
    "random_state = np.random.RandomState(0)\n",
    "n_samples, n_features = X.shape\n",
    "X = np.c_[X, random_state.randn(n_samples, 200 * n_features)]\n",
    "\n",
    "# shuffle and split training and test sets\n",
    "X_train, X_test, y_train, y_test = train_test_split(X, y, test_size=.5,\n",
    "                                                    random_state=0)\n",
    "\n",
    "# Learn to predict each class against the other\n",
    "classifier = OneVsRestClassifier(svm.SVC(kernel='linear', probability=True,\n",
    "                                 random_state=random_state))\n",
    "y_score = classifier.fit(X_train, y_train).decision_function(X_test)\n",
    "\n",
    "# Compute ROC curve and ROC area for each class\n",
    "fpr = dict()\n",
    "tpr = dict()\n",
    "roc_auc = dict()\n",
    "for i in range(n_classes):\n",
    "    fpr[i], tpr[i], _ = roc_curve(y_test[:, i], y_score[:, i])\n",
    "    roc_auc[i] = auc(fpr[i], tpr[i])\n",
    "\n",
    "# Compute micro-average ROC curve and ROC area\n",
    "fpr[\"micro\"], tpr[\"micro\"], _ = roc_curve(y_test.ravel(), y_score.ravel())\n",
    "roc_auc[\"micro\"] = auc(fpr[\"micro\"], tpr[\"micro\"])"
   ]
  },
  {
   "cell_type": "code",
   "execution_count": 4,
   "metadata": {
    "ExecuteTime": {
     "end_time": "2020-12-21T14:58:25.236689Z",
     "start_time": "2020-12-21T14:58:25.053647Z"
    }
   },
   "outputs": [
    {
     "data": {
      "image/png": "[encoded data removed]",
      "text/plain": [
       "<Figure size 1440x720 with 1 Axes>"
      ]
     },
     "metadata": {
      "needs_background": "light"
     },
     "output_type": "display_data"
    }
   ],
   "source": [
    "plt.figure(figsize=(20,10))\n",
    "lw = 2\n",
    "plt.plot(fpr[2], tpr[2], color='darkorange',\n",
    "         lw=lw, label='ROC curve (area = %0.2f)' % roc_auc[2])\n",
    "plt.plot([0, 1], [0, 1], color='navy', lw=lw, linestyle='--')\n",
    "plt.xlim([0.0, 1.0])\n",
    "plt.ylim([0.0, 1.05])\n",
    "plt.xlabel('False Positive Rate')\n",
    "plt.ylabel('True Positive Rate')\n",
    "plt.title('Receiver operating characteristic example')\n",
    "plt.legend(loc=\"lower right\")\n",
    "plt.show()"
   ]
  },
  {
   "cell_type": "markdown",
   "metadata": {},
   "source": [
    "`Area under the curve (AUC)`: It is a threshold independent measure. The best possible ROC has an area of 1, while random guessing has a ROC of 0.5. **The closer the area is to 1, the better our classification function is.**"
   ]
  },
  {
   "cell_type": "code",
   "execution_count": 190,
   "metadata": {
    "ExecuteTime": {
     "end_time": "2020-12-22T10:01:46.952662Z",
     "start_time": "2020-12-22T10:01:46.948662Z"
    }
   },
   "outputs": [],
   "source": [
    "from sklearn.datasets import make_classification\n",
    "X, y = make_classification(n_features=2, n_redundant=0, n_informative=1, n_clusters_per_class=1)"
   ]
  },
  {
   "cell_type": "code",
   "execution_count": 191,
   "metadata": {
    "ExecuteTime": {
     "end_time": "2020-12-22T10:01:47.982739Z",
     "start_time": "2020-12-22T10:01:47.972774Z"
    }
   },
   "outputs": [
    {
     "name": "stdout",
     "output_type": "stream",
     "text": [
      "Predicted value: 1 , real target: 1\n"
     ]
    }
   ],
   "source": [
    "from sklearn import neighbors\n",
    "# Create an instance of K-nearest neighbor classifier\n",
    "knn = neighbors.KNeighborsClassifier(n_neighbors = 11)\n",
    "# Train the classifier\n",
    "knn.fit(X, y)\n",
    "# Compute the prediction according to the model\n",
    "yhat = knn.predict(X)\n",
    "# Check the result on the last example\n",
    "print('Predicted value: ' + str(yhat[-1]), ', real target: ' + str(y[-1]))"
   ]
  },
  {
   "cell_type": "code",
   "execution_count": 192,
   "metadata": {
    "ExecuteTime": {
     "end_time": "2020-12-22T10:02:10.819331Z",
     "start_time": "2020-12-22T10:02:10.808329Z"
    }
   },
   "outputs": [
    {
     "data": {
      "text/plain": [
       "0.9500000000000001"
      ]
     },
     "execution_count": 192,
     "metadata": {},
     "output_type": "execute_result"
    }
   ],
   "source": [
    "fpr, tpr, _ = roc_curve(y, yhat)\n",
    "roc_auc = auc(fpr, tpr)\n",
    "roc_auc"
   ]
  },
  {
   "cell_type": "markdown",
   "metadata": {},
   "source": [
    "## Precision Recall (PR) diagram"
   ]
  },
  {
   "cell_type": "markdown",
   "metadata": {},
   "source": [
    "$$ Precision = \\frac{TP}{TP + FP} \\qquad \\text{probability that a sick classified patient is sick}$$\n",
    "\n",
    "$$ Recall = \\frac{TP}{TP + FN} \\qquad \\text{probability that a sick patient is classified as sick }$$"
   ]
  },
  {
   "cell_type": "markdown",
   "metadata": {},
   "source": [
    "A high precision can\n",
    "usually be easily achieved for a low recall, i.e. it is easy to build a classifier that correctly\n",
    "classifies only a few sick patients. A higher recall can usually be obtained only with a lower\n",
    "precision. *A good classifier maintains a high precision with a high recall.* \n",
    "\n",
    "The intersection of the PR curve with the main diagonal is called **precision recall (PR) breakeven point**\n",
    "which is considered an important classification criterion, so a good classifier should have a\n",
    "high PR breakeven point. "
   ]
  },
  {
   "cell_type": "code",
   "execution_count": 193,
   "metadata": {
    "ExecuteTime": {
     "end_time": "2020-12-22T10:10:04.719774Z",
     "start_time": "2020-12-22T10:10:04.703815Z"
    }
   },
   "outputs": [],
   "source": [
    "from sklearn import svm, datasets\n",
    "from sklearn.model_selection import train_test_split\n",
    "import numpy as np\n",
    "\n",
    "iris = datasets.load_iris()\n",
    "X = iris.data\n",
    "y = iris.target\n",
    "\n",
    "# Add noisy features\n",
    "random_state = np.random.RandomState(0)\n",
    "n_samples, n_features = X.shape\n",
    "X = np.c_[X, random_state.randn(n_samples, 200 * n_features)]\n",
    "\n",
    "# Limit to the two first classes, and split into training and test\n",
    "X_train, X_test, y_train, y_test = train_test_split(X[y < 2], y[y < 2],\n",
    "                                                    test_size=.5,\n",
    "                                                    random_state=random_state)\n",
    "\n",
    "# Create a simple classifier\n",
    "classifier = svm.LinearSVC(random_state=random_state)\n",
    "classifier.fit(X_train, y_train)\n",
    "y_score = classifier.decision_function(X_test)"
   ]
  },
  {
   "cell_type": "code",
   "execution_count": 194,
   "metadata": {
    "ExecuteTime": {
     "end_time": "2020-12-22T10:10:14.346866Z",
     "start_time": "2020-12-22T10:10:14.341819Z"
    }
   },
   "outputs": [
    {
     "name": "stdout",
     "output_type": "stream",
     "text": [
      "Average precision-recall score: 0.88\n"
     ]
    }
   ],
   "source": [
    "from sklearn.metrics import average_precision_score\n",
    "average_precision = average_precision_score(y_test, y_score)\n",
    "\n",
    "print('Average precision-recall score: {0:0.2f}'.format(\n",
    "      average_precision))"
   ]
  },
  {
   "cell_type": "code",
   "execution_count": 195,
   "metadata": {
    "ExecuteTime": {
     "end_time": "2020-12-22T10:10:24.420309Z",
     "start_time": "2020-12-22T10:10:24.236261Z"
    }
   },
   "outputs": [
    {
     "data": {
      "text/plain": [
       "Text(0.5, 1.0, '2-class Precision-Recall curve: AP=0.88')"
      ]
     },
     "execution_count": 195,
     "metadata": {},
     "output_type": "execute_result"
    },
    {
     "data": {
      "image/png": "[encoded data removed]",
      "text/plain": [
       "<Figure size 432x288 with 1 Axes>"
      ]
     },
     "metadata": {
      "needs_background": "light"
     },
     "output_type": "display_data"
    }
   ],
   "source": [
    "from sklearn.metrics import precision_recall_curve\n",
    "from sklearn.metrics import plot_precision_recall_curve\n",
    "import matplotlib.pyplot as plt\n",
    "\n",
    "disp = plot_precision_recall_curve(classifier, X_test, y_test)\n",
    "disp.ax_.set_title('2-class Precision-Recall curve: '\n",
    "                   'AP={0:0.2f}'.format(average_precision))\n"
   ]
  },
  {
   "cell_type": "markdown",
   "metadata": {},
   "source": [
    "![](runkler_precision_recall.png)"
   ]
  },
  {
   "cell_type": "markdown",
   "metadata": {},
   "source": [
    "Finally, we also state the possibility of a classification report (here shown for multilabel classification):"
   ]
  },
  {
   "cell_type": "code",
   "execution_count": 196,
   "metadata": {
    "ExecuteTime": {
     "end_time": "2020-12-22T10:13:23.825085Z",
     "start_time": "2020-12-22T10:13:23.815049Z"
    }
   },
   "outputs": [
    {
     "name": "stdout",
     "output_type": "stream",
     "text": [
      "              precision    recall  f1-score   support\n",
      "\n",
      "     class 0       0.67      1.00      0.80         2\n",
      "     class 1       0.00      0.00      0.00         1\n",
      "     class 2       1.00      0.50      0.67         2\n",
      "\n",
      "    accuracy                           0.60         5\n",
      "   macro avg       0.56      0.50      0.49         5\n",
      "weighted avg       0.67      0.60      0.59         5\n",
      "\n"
     ]
    }
   ],
   "source": [
    "from sklearn.metrics import classification_report\n",
    "y_true = [0, 1, 2, 2, 0]\n",
    "y_pred = [0, 0, 2, 1, 0]\n",
    "target_names = ['class 0', 'class 1', 'class 2']\n",
    "print(classification_report(y_true, y_pred, target_names=target_names))"
   ]
  },
  {
   "cell_type": "markdown",
   "metadata": {},
   "source": [
    "# Regression Metrics"
   ]
  },
  {
   "cell_type": "markdown",
   "metadata": {},
   "source": [
    "Here we follow https://scikit-learn.org/stable/modules/model_evaluation.html#regression-metrics.\n",
    "\n",
    "Moreover, we want to understand which metric is well-suited for which purpose. For instance, which metric is best suited in the case of outliers?"
   ]
  },
  {
   "cell_type": "code",
   "execution_count": 197,
   "metadata": {
    "ExecuteTime": {
     "end_time": "2020-12-22T10:15:12.348600Z",
     "start_time": "2020-12-22T10:15:12.342599Z"
    }
   },
   "outputs": [],
   "source": [
    "np.random.seed(12)\n",
    "x  = np.random.normal(size = 10)\n",
    "y1 = x + 0.2*np.random.normal(size = 10)\n",
    "y2 = x + 0.5*np.random.normal(size = 10)\n",
    "y3 = x + 20*np.random.normal(size = 10)"
   ]
  },
  {
   "cell_type": "code",
   "execution_count": 198,
   "metadata": {
    "ExecuteTime": {
     "end_time": "2020-12-22T10:15:13.477793Z",
     "start_time": "2020-12-22T10:15:13.469800Z"
    }
   },
   "outputs": [
    {
     "data": {
      "text/plain": [
       "array([ 0.35342125, -0.58693448,  0.46163072, -1.94376939,  1.02161411,\n",
       "       -1.5591513 ,  0.20763017, -0.3030015 , -1.01288792,  3.11377868])"
      ]
     },
     "execution_count": 198,
     "metadata": {},
     "output_type": "execute_result"
    }
   ],
   "source": [
    "y1"
   ]
  },
  {
   "cell_type": "code",
   "execution_count": 199,
   "metadata": {
    "ExecuteTime": {
     "end_time": "2020-12-22T10:15:31.723202Z",
     "start_time": "2020-12-22T10:15:31.708205Z"
    }
   },
   "outputs": [
    {
     "data": {
      "text/html": [
       "<div>\n",
       "<style scoped>\n",
       "    .dataframe tbody tr th:only-of-type {\n",
       "        vertical-align: middle;\n",
       "    }\n",
       "\n",
       "    .dataframe tbody tr th {\n",
       "        vertical-align: top;\n",
       "    }\n",
       "\n",
       "    .dataframe thead th {\n",
       "        text-align: right;\n",
       "    }\n",
       "</style>\n",
       "<table border=\"1\" class=\"dataframe\">\n",
       "  <thead>\n",
       "    <tr style=\"text-align: right;\">\n",
       "      <th></th>\n",
       "      <th>x</th>\n",
       "      <th>y1</th>\n",
       "      <th>y2</th>\n",
       "      <th>y3</th>\n",
       "    </tr>\n",
       "  </thead>\n",
       "  <tbody>\n",
       "    <tr>\n",
       "      <th>0</th>\n",
       "      <td>0.472986</td>\n",
       "      <td>0.353421</td>\n",
       "      <td>0.723922</td>\n",
       "      <td>-10.095101</td>\n",
       "    </tr>\n",
       "    <tr>\n",
       "      <th>1</th>\n",
       "      <td>-0.681426</td>\n",
       "      <td>-0.586934</td>\n",
       "      <td>-0.612003</td>\n",
       "      <td>-1.465609</td>\n",
       "    </tr>\n",
       "    <tr>\n",
       "      <th>2</th>\n",
       "      <td>0.242439</td>\n",
       "      <td>0.461631</td>\n",
       "      <td>0.562820</td>\n",
       "      <td>4.541958</td>\n",
       "    </tr>\n",
       "    <tr>\n",
       "      <th>3</th>\n",
       "      <td>-1.700736</td>\n",
       "      <td>-1.943769</td>\n",
       "      <td>-1.437069</td>\n",
       "      <td>-9.387912</td>\n",
       "    </tr>\n",
       "    <tr>\n",
       "      <th>4</th>\n",
       "      <td>0.753143</td>\n",
       "      <td>1.021614</td>\n",
       "      <td>0.175963</td>\n",
       "      <td>-4.324939</td>\n",
       "    </tr>\n",
       "    <tr>\n",
       "      <th>5</th>\n",
       "      <td>-1.534721</td>\n",
       "      <td>-1.559151</td>\n",
       "      <td>-2.641388</td>\n",
       "      <td>-0.069680</td>\n",
       "    </tr>\n",
       "    <tr>\n",
       "      <th>6</th>\n",
       "      <td>0.005127</td>\n",
       "      <td>0.207630</td>\n",
       "      <td>-0.835751</td>\n",
       "      <td>-19.938950</td>\n",
       "    </tr>\n",
       "    <tr>\n",
       "      <th>7</th>\n",
       "      <td>-0.120228</td>\n",
       "      <td>-0.303001</td>\n",
       "      <td>-1.014275</td>\n",
       "      <td>-14.397353</td>\n",
       "    </tr>\n",
       "    <tr>\n",
       "      <th>8</th>\n",
       "      <td>-0.806982</td>\n",
       "      <td>-1.012888</td>\n",
       "      <td>-1.916249</td>\n",
       "      <td>-0.098655</td>\n",
       "    </tr>\n",
       "    <tr>\n",
       "      <th>9</th>\n",
       "      <td>2.871819</td>\n",
       "      <td>3.113779</td>\n",
       "      <td>2.548104</td>\n",
       "      <td>-10.687088</td>\n",
       "    </tr>\n",
       "  </tbody>\n",
       "</table>\n",
       "</div>"
      ],
      "text/plain": [
       "          x        y1        y2         y3\n",
       "0  0.472986  0.353421  0.723922 -10.095101\n",
       "1 -0.681426 -0.586934 -0.612003  -1.465609\n",
       "2  0.242439  0.461631  0.562820   4.541958\n",
       "3 -1.700736 -1.943769 -1.437069  -9.387912\n",
       "4  0.753143  1.021614  0.175963  -4.324939\n",
       "5 -1.534721 -1.559151 -2.641388  -0.069680\n",
       "6  0.005127  0.207630 -0.835751 -19.938950\n",
       "7 -0.120228 -0.303001 -1.014275 -14.397353\n",
       "8 -0.806982 -1.012888 -1.916249  -0.098655\n",
       "9  2.871819  3.113779  2.548104 -10.687088"
      ]
     },
     "metadata": {},
     "output_type": "display_data"
    }
   ],
   "source": [
    "tmp = pd.DataFrame({'x':  x,\n",
    "                    'y1': y1,\n",
    "                    'y2': y2,\n",
    "                    'y3': y3})\n",
    "    \n",
    "display(tmp.head(10))"
   ]
  },
  {
   "cell_type": "code",
   "execution_count": 207,
   "metadata": {
    "ExecuteTime": {
     "end_time": "2020-12-22T10:17:47.279549Z",
     "start_time": "2020-12-22T10:17:46.872554Z"
    }
   },
   "outputs": [
    {
     "data": {
      "image/png": "[encoded data removed]",
      "text/plain": [
       "<Figure size 1080x576 with 1 Axes>"
      ]
     },
     "metadata": {
      "needs_background": "light"
     },
     "output_type": "display_data"
    }
   ],
   "source": [
    "import seaborn as sns\n",
    "\n",
    "fig, ax = plt.subplots(figsize=(15, 8),nrows=1, ncols=1)\n",
    "ax = sns.regplot(x=\"x\", y=\"y1\", data=tmp)\n",
    "ax = sns.regplot(x=\"x\", y=\"y2\", data=tmp)\n",
    "ax = sns.regplot(x=\"x\", y=\"y3\", data=tmp)"
   ]
  },
  {
   "cell_type": "code",
   "execution_count": 208,
   "metadata": {
    "ExecuteTime": {
     "end_time": "2020-12-22T10:18:14.111973Z",
     "start_time": "2020-12-22T10:18:14.094978Z"
    }
   },
   "outputs": [
    {
     "data": {
      "text/html": [
       "<div>\n",
       "<style scoped>\n",
       "    .dataframe tbody tr th:only-of-type {\n",
       "        vertical-align: middle;\n",
       "    }\n",
       "\n",
       "    .dataframe tbody tr th {\n",
       "        vertical-align: top;\n",
       "    }\n",
       "\n",
       "    .dataframe thead th {\n",
       "        text-align: right;\n",
       "    }\n",
       "</style>\n",
       "<table border=\"1\" class=\"dataframe\">\n",
       "  <thead>\n",
       "    <tr style=\"text-align: right;\">\n",
       "      <th></th>\n",
       "      <th>x</th>\n",
       "      <th>y1</th>\n",
       "      <th>y2</th>\n",
       "      <th>y3</th>\n",
       "    </tr>\n",
       "  </thead>\n",
       "  <tbody>\n",
       "    <tr>\n",
       "      <th>0</th>\n",
       "      <td>0.472986</td>\n",
       "      <td>0.353421</td>\n",
       "      <td>0.723922</td>\n",
       "      <td>-10.095101</td>\n",
       "    </tr>\n",
       "    <tr>\n",
       "      <th>1</th>\n",
       "      <td>-0.681426</td>\n",
       "      <td>-0.586934</td>\n",
       "      <td>-0.612003</td>\n",
       "      <td>-1.465609</td>\n",
       "    </tr>\n",
       "    <tr>\n",
       "      <th>2</th>\n",
       "      <td>0.242439</td>\n",
       "      <td>0.461631</td>\n",
       "      <td>0.562820</td>\n",
       "      <td>4.541958</td>\n",
       "    </tr>\n",
       "    <tr>\n",
       "      <th>3</th>\n",
       "      <td>-1.700736</td>\n",
       "      <td>-1.943769</td>\n",
       "      <td>-1.437069</td>\n",
       "      <td>-9.387912</td>\n",
       "    </tr>\n",
       "    <tr>\n",
       "      <th>4</th>\n",
       "      <td>0.753143</td>\n",
       "      <td>1.021614</td>\n",
       "      <td>0.175963</td>\n",
       "      <td>-4.324939</td>\n",
       "    </tr>\n",
       "    <tr>\n",
       "      <th>5</th>\n",
       "      <td>-1.534721</td>\n",
       "      <td>-1.559151</td>\n",
       "      <td>-2.641388</td>\n",
       "      <td>-0.069680</td>\n",
       "    </tr>\n",
       "    <tr>\n",
       "      <th>6</th>\n",
       "      <td>0.005127</td>\n",
       "      <td>0.207630</td>\n",
       "      <td>-0.835751</td>\n",
       "      <td>-19.938950</td>\n",
       "    </tr>\n",
       "    <tr>\n",
       "      <th>7</th>\n",
       "      <td>-0.120228</td>\n",
       "      <td>-0.303001</td>\n",
       "      <td>-1.014275</td>\n",
       "      <td>-14.397353</td>\n",
       "    </tr>\n",
       "    <tr>\n",
       "      <th>8</th>\n",
       "      <td>-0.806982</td>\n",
       "      <td>-1.012888</td>\n",
       "      <td>-1.916249</td>\n",
       "      <td>-0.098655</td>\n",
       "    </tr>\n",
       "    <tr>\n",
       "      <th>9</th>\n",
       "      <td>2.871819</td>\n",
       "      <td>3.113779</td>\n",
       "      <td>2.548104</td>\n",
       "      <td>-10.687088</td>\n",
       "    </tr>\n",
       "    <tr>\n",
       "      <th>10</th>\n",
       "      <td>3.000000</td>\n",
       "      <td>3.000000</td>\n",
       "      <td>300.000000</td>\n",
       "      <td>3000.000000</td>\n",
       "    </tr>\n",
       "  </tbody>\n",
       "</table>\n",
       "</div>"
      ],
      "text/plain": [
       "           x        y1          y2           y3\n",
       "0   0.472986  0.353421    0.723922   -10.095101\n",
       "1  -0.681426 -0.586934   -0.612003    -1.465609\n",
       "2   0.242439  0.461631    0.562820     4.541958\n",
       "3  -1.700736 -1.943769   -1.437069    -9.387912\n",
       "4   0.753143  1.021614    0.175963    -4.324939\n",
       "5  -1.534721 -1.559151   -2.641388    -0.069680\n",
       "6   0.005127  0.207630   -0.835751   -19.938950\n",
       "7  -0.120228 -0.303001   -1.014275   -14.397353\n",
       "8  -0.806982 -1.012888   -1.916249    -0.098655\n",
       "9   2.871819  3.113779    2.548104   -10.687088\n",
       "10  3.000000  3.000000  300.000000  3000.000000"
      ]
     },
     "execution_count": 208,
     "metadata": {},
     "output_type": "execute_result"
    }
   ],
   "source": [
    "tmp1 = tmp.append({'x':3,\n",
    "                   'y1':3,\n",
    "                   'y2':300,\n",
    "                   'y3':3000}, ignore_index = True)\n",
    "tmp1"
   ]
  },
  {
   "cell_type": "code",
   "execution_count": 209,
   "metadata": {
    "ExecuteTime": {
     "end_time": "2020-12-22T10:18:33.607169Z",
     "start_time": "2020-12-22T10:18:33.200138Z"
    }
   },
   "outputs": [
    {
     "data": {
      "image/png": "[encoded data removed]",
      "text/plain": [
       "<Figure size 1080x576 with 1 Axes>"
      ]
     },
     "metadata": {
      "needs_background": "light"
     },
     "output_type": "display_data"
    }
   ],
   "source": [
    "fig, ax = plt.subplots(figsize=(15, 8),nrows=1, ncols=1)\n",
    "ax = sns.regplot(x=\"x\", y=\"y1\", data=tmp1)\n",
    "ax = sns.regplot(x=\"x\", y=\"y2\", data=tmp1)\n",
    "ax = sns.regplot(x=\"x\", y=\"y3\", data=tmp1)"
   ]
  },
  {
   "cell_type": "markdown",
   "metadata": {},
   "source": [
    "## Explained Variance Score"
   ]
  },
  {
   "cell_type": "markdown",
   "metadata": {
    "ExecuteTime": {
     "end_time": "2020-12-21T15:58:17.017328Z",
     "start_time": "2020-12-21T15:58:17.012365Z"
    }
   },
   "source": [
    "$$ \\text{Explained Variance}(y,\\hat{y}) =  1- \\frac{Var(y-\\hat{y})}{Var(y)} $$\n",
    "\n",
    "The best possible score is 1.0, lower values are worse."
   ]
  },
  {
   "cell_type": "code",
   "execution_count": 126,
   "metadata": {
    "ExecuteTime": {
     "end_time": "2020-12-22T08:03:17.568798Z",
     "start_time": "2020-12-22T08:03:17.561796Z"
    }
   },
   "outputs": [
    {
     "name": "stdout",
     "output_type": "stream",
     "text": [
      "0.9759181105015535\n",
      "0.8005642223312481\n",
      "-36.26311946296959\n"
     ]
    }
   ],
   "source": [
    "from sklearn.metrics import explained_variance_score\n",
    "print(explained_variance_score(tmp.x, tmp.y1))\n",
    "print(explained_variance_score(tmp.x, tmp.y2))\n",
    "print(explained_variance_score(tmp.x, tmp.y3))"
   ]
  },
  {
   "cell_type": "code",
   "execution_count": 129,
   "metadata": {
    "ExecuteTime": {
     "end_time": "2020-12-22T08:03:25.419411Z",
     "start_time": "2020-12-22T08:03:25.411412Z"
    }
   },
   "outputs": [
    {
     "name": "stdout",
     "output_type": "stream",
     "text": [
      "0.9844123627197814\n",
      "-3362.41846586961\n",
      "-343079.2772252448\n"
     ]
    }
   ],
   "source": [
    "print(explained_variance_score(tmp1.x, tmp1.y1))\n",
    "print(explained_variance_score(tmp1.x, tmp1.y2))\n",
    "print(explained_variance_score(tmp1.x, tmp1.y3))"
   ]
  },
  {
   "cell_type": "markdown",
   "metadata": {},
   "source": [
    "## Max Error"
   ]
  },
  {
   "cell_type": "markdown",
   "metadata": {},
   "source": [
    "$$ \\text{Max error}(y,\\hat{y}) = max(|y_i - \\hat{y}_i|) $$\n",
    "\n",
    "It gives an estimate for the largest error of the model, it is a kind of a worst-case scenario."
   ]
  },
  {
   "cell_type": "code",
   "execution_count": 130,
   "metadata": {
    "ExecuteTime": {
     "end_time": "2020-12-22T08:04:23.944682Z",
     "start_time": "2020-12-22T08:04:23.938648Z"
    }
   },
   "outputs": [
    {
     "name": "stdout",
     "output_type": "stream",
     "text": [
      "0.2684712742875962\n",
      "1.1092674725157008\n",
      "19.94407674849353\n"
     ]
    }
   ],
   "source": [
    "from sklearn.metrics import max_error\n",
    "\n",
    "print(max_error(tmp.x, tmp.y1))\n",
    "print(max_error(tmp.x, tmp.y2))\n",
    "print(max_error(tmp.x, tmp.y3))"
   ]
  },
  {
   "cell_type": "code",
   "execution_count": 131,
   "metadata": {
    "ExecuteTime": {
     "end_time": "2020-12-22T08:04:37.952755Z",
     "start_time": "2020-12-22T08:04:37.946761Z"
    }
   },
   "outputs": [
    {
     "name": "stdout",
     "output_type": "stream",
     "text": [
      "0.2684712742875962\n",
      "297.0\n",
      "2997.0\n"
     ]
    }
   ],
   "source": [
    "print(max_error(tmp1.x, tmp1.y1))\n",
    "print(max_error(tmp1.x, tmp1.y2))\n",
    "print(max_error(tmp1.x, tmp1.y3))"
   ]
  },
  {
   "cell_type": "markdown",
   "metadata": {},
   "source": [
    "## Mean Absolute Error"
   ]
  },
  {
   "cell_type": "markdown",
   "metadata": {},
   "source": [
    "It is the expected value of the absolute error:\n",
    "    \n",
    "$$ MAE = \\frac{1}{n} \\sum_{i=0}^{n-1} |y_i - \\hat{y}_i| $$"
   ]
  },
  {
   "cell_type": "code",
   "execution_count": 132,
   "metadata": {
    "ExecuteTime": {
     "end_time": "2020-12-22T08:07:54.033242Z",
     "start_time": "2020-12-22T08:07:54.023243Z"
    }
   },
   "outputs": [
    {
     "name": "stdout",
     "output_type": "stream",
     "text": [
      "0.18023244543676814\n",
      "0.5756161230327698\n",
      "7.83705247120553\n",
      "\n",
      "0.16384767766978922\n",
      "27.523287384575244\n",
      "279.5791386101868\n"
     ]
    }
   ],
   "source": [
    "from sklearn.metrics import mean_absolute_error\n",
    "print(mean_absolute_error(tmp.x, tmp.y1))\n",
    "print(mean_absolute_error(tmp.x, tmp.y2))\n",
    "print(mean_absolute_error(tmp.x, tmp.y3))\n",
    "\n",
    "print()\n",
    "\n",
    "print(mean_absolute_error(tmp1.x, tmp1.y1))\n",
    "print(mean_absolute_error(tmp1.x, tmp1.y2))\n",
    "print(mean_absolute_error(tmp1.x, tmp1.y3))"
   ]
  },
  {
   "cell_type": "markdown",
   "metadata": {},
   "source": [
    "## Mean Squared Error"
   ]
  },
  {
   "cell_type": "markdown",
   "metadata": {
    "ExecuteTime": {
     "end_time": "2020-12-22T08:12:42.860073Z",
     "start_time": "2020-12-22T08:12:42.853071Z"
    }
   },
   "source": [
    "It is the expected value of the squared error\n",
    "\n",
    "$$ MSE = \\frac{1}{n} \\sum_{i=0}^{n-1} (y_i - \\hat{y}_i)^2 $$"
   ]
  },
  {
   "cell_type": "code",
   "execution_count": 134,
   "metadata": {
    "ExecuteTime": {
     "end_time": "2020-12-22T08:13:37.841689Z",
     "start_time": "2020-12-22T08:13:37.830687Z"
    }
   },
   "outputs": [
    {
     "name": "stdout",
     "output_type": "stream",
     "text": [
      "0.03783635354352581\n",
      "0.4639462796578145\n",
      "100.3759403537825\n",
      "\n",
      "0.034396685039568914\n",
      "8019.421769345144\n",
      "816637.5235821399\n"
     ]
    }
   ],
   "source": [
    "from sklearn.metrics import mean_squared_error\n",
    "\n",
    "print(mean_squared_error(tmp.x, tmp.y1))\n",
    "print(mean_squared_error(tmp.x, tmp.y2))\n",
    "print(mean_squared_error(tmp.x, tmp.y3))\n",
    "\n",
    "print()\n",
    "\n",
    "print(mean_squared_error(tmp1.x, tmp1.y1))\n",
    "print(mean_squared_error(tmp1.x, tmp1.y2))\n",
    "print(mean_squared_error(tmp1.x, tmp1.y3))"
   ]
  },
  {
   "cell_type": "markdown",
   "metadata": {},
   "source": [
    "Because it weights each term quadratically, outliers have a huge effect. \n",
    "\n",
    "The advantage of the **root mean square error (RMSE)** is that its magnitude is interpretable on the same\n",
    "scale as the original values, just as standard deviation is a more interpretable\n",
    "quantity than variance."
   ]
  },
  {
   "cell_type": "markdown",
   "metadata": {},
   "source": [
    "## Mean Squared Logarithmic Error"
   ]
  },
  {
   "cell_type": "markdown",
   "metadata": {},
   "source": [
    "It is the expected value of the squared logarithmic error\n",
    "\n",
    "$$ MSLE = \\frac{1}{n} \\sum_{i=0}^{n-1} \\left( \\text{log}(1+y_i) - \\text{log}(1+\\hat{y}_i) \\right)^2 $$\n",
    "\n",
    "**This metric is best to use when targets having exponential growth, such as population counts, average sales of a commodity over a span of years etc. Note that this metric penalizes an under-predicted estimate greater than an over-predicted estimate.**"
   ]
  },
  {
   "cell_type": "code",
   "execution_count": 141,
   "metadata": {
    "ExecuteTime": {
     "end_time": "2020-12-22T08:18:32.396026Z",
     "start_time": "2020-12-22T08:18:32.383990Z"
    }
   },
   "outputs": [
    {
     "name": "stdout",
     "output_type": "stream",
     "text": [
      "0.013658083937051405\n",
      "0.1324197208720531\n",
      "2.780917458377945\n",
      "\n",
      "0.012416439942774004\n",
      "1.8176042983430627\n",
      "6.512632418310187\n"
     ]
    }
   ],
   "source": [
    "from sklearn.metrics import mean_squared_log_error\n",
    "\n",
    "print(mean_squared_log_error(np.abs(tmp.x), np.abs(tmp.y1)))\n",
    "print(mean_squared_log_error(np.abs(tmp.x), np.abs(tmp.y2)))\n",
    "print(mean_squared_log_error(np.abs(tmp.x), np.abs(tmp.y3)))\n",
    "\n",
    "print()\n",
    "\n",
    "print(mean_squared_log_error(np.abs(tmp1.x), np.abs(tmp1.y1)))\n",
    "print(mean_squared_log_error(np.abs(tmp1.x), np.abs(tmp1.y2)))\n",
    "print(mean_squared_log_error(np.abs(tmp1.x), np.abs(tmp1.y3)))"
   ]
  },
  {
   "cell_type": "markdown",
   "metadata": {},
   "source": [
    "## Median Absolute Error"
   ]
  },
  {
   "cell_type": "markdown",
   "metadata": {},
   "source": [
    "This metric is particularly interesting because it is **robust to outliers**. The loss is calculated by taking the median of all absolute differences between the target and the prediction.\n",
    "\n",
    "$$ MedAE = \\text{median} \\left( (y_1 - \\hat{y}_1), (y_2 - \\hat{y}_2), \\ldots (y_n - \\hat{y}_n) \\right) $$"
   ]
  },
  {
   "cell_type": "code",
   "execution_count": 142,
   "metadata": {
    "ExecuteTime": {
     "end_time": "2020-12-22T08:21:24.988439Z",
     "start_time": "2020-12-22T08:21:24.974446Z"
    }
   },
   "outputs": [
    {
     "name": "stdout",
     "output_type": "stream",
     "text": [
      "0.20420456843516718\n",
      "0.4504477538455715\n",
      "6.382628806453896\n",
      "\n",
      "0.2025030953954346\n",
      "0.5771801176083441\n",
      "7.6871760510700735\n"
     ]
    }
   ],
   "source": [
    "from sklearn.metrics import median_absolute_error\n",
    "\n",
    "print(median_absolute_error(tmp.x, tmp.y1))\n",
    "print(median_absolute_error(tmp.x, tmp.y2))\n",
    "print(median_absolute_error(tmp.x, tmp.y3))\n",
    "\n",
    "print()\n",
    "\n",
    "print(median_absolute_error(tmp1.x, tmp1.y1))\n",
    "print(median_absolute_error(tmp1.x, tmp1.y2))\n",
    "print(median_absolute_error(tmp1.x, tmp1.y3))"
   ]
  },
  {
   "cell_type": "markdown",
   "metadata": {},
   "source": [
    "## R^2 score, the coefficient of determination"
   ]
  },
  {
   "cell_type": "markdown",
   "metadata": {},
   "source": [
    "It represents the proportion of variance (of y) that has been explained by the independent variables in the model. It provides an indication of goodness of fit and therefore a measure of how well unseen samples are likely to be predicted by the model, through the proportion of explained variance.\n",
    "\n",
    "As such variance is dataset dependent, R² may not be meaningfully comparable across different datasets. Best possible score is 1.0 and it can be negative (because the model can be arbitrarily worse). A constant model that always predicts the expected value of y, disregarding the input features, would get a R² score of 0.0.\n",
    "\n",
    "$$ R^2 = 1 - \\frac{\\sum (y_i - \\hat{y}_i)^2}{\\sum (y_i - \\bar{y}_i)^2} $$"
   ]
  },
  {
   "cell_type": "code",
   "execution_count": 143,
   "metadata": {
    "ExecuteTime": {
     "end_time": "2020-12-22T08:25:29.918591Z",
     "start_time": "2020-12-22T08:25:29.906602Z"
    }
   },
   "outputs": [
    {
     "name": "stdout",
     "output_type": "stream",
     "text": [
      "0.9755106386804079\n",
      "0.6997134498611091\n",
      "-63.96774770565129\n",
      "\n",
      "0.9841729610879433\n",
      "-3688.998040497531\n",
      "-375760.6133040627\n"
     ]
    }
   ],
   "source": [
    "from sklearn.metrics import r2_score\n",
    "\n",
    "print(r2_score(tmp.x, tmp.y1))\n",
    "print(r2_score(tmp.x, tmp.y2))\n",
    "print(r2_score(tmp.x, tmp.y3))\n",
    "\n",
    "print()\n",
    "\n",
    "print(r2_score(tmp1.x, tmp1.y1))\n",
    "print(r2_score(tmp1.x, tmp1.y2))\n",
    "print(r2_score(tmp1.x, tmp1.y3))"
   ]
  },
  {
   "cell_type": "markdown",
   "metadata": {},
   "source": [
    "## Error Distribution"
   ]
  },
  {
   "cell_type": "markdown",
   "metadata": {
    "ExecuteTime": {
     "end_time": "2020-12-22T10:27:04.412127Z",
     "start_time": "2020-12-22T10:27:04.387127Z"
    }
   },
   "source": [
    "![](error_distribution.png)"
   ]
  },
  {
   "cell_type": "markdown",
   "metadata": {},
   "source": [
    "Citing from Skiena (2017):\n",
    "    \n",
    "It is a very good idea to plot a histogram of the absolute error ($\\Delta = y - \\hat{y}$) distribution, as there is much you can learn from it. **The distribution should be symmetric, and centered around zero. It should be bell-shaped, meaning\n",
    "small errors are more common than big errors. And extreme outliers should\n",
    "be rare.** \n",
    "\n",
    "If any of the conditions are wrong, there is likely a simple way to improve\n",
    "the forecasting procedure. For example, if it is not centered around zero,\n",
    "adding an constant offset to all forecasts will improve the consensus results.\n",
    "\n",
    "Here we compare the absolute error distributions from two models.\n",
    "On the left, we see a bad error distribution: it is broad and\n",
    "bad. \n",
    "\n",
    "In contrast, the right figure presents a much better the error distribution: there is a sharp\n",
    "peak around zero, and much narrower tails. Still there is a longer tail to the left of zero."
   ]
  },
  {
   "cell_type": "markdown",
   "metadata": {},
   "source": [
    "`overestimate`: region left from zero ($\\Delta < 0$)\n",
    "\n",
    "`underestimate`: region right from zero ($\\Delta > 0$)"
   ]
  },
  {
   "cell_type": "markdown",
   "metadata": {},
   "source": [
    "# Comparing Supervised Algorithms against Dummy Algorithms"
   ]
  },
  {
   "cell_type": "markdown",
   "metadata": {},
   "source": [
    "When doing supervised learning, a simple sanity check consists of comparing one’s estimator against simple rules of thumb. DummyClassifier implements several such simple strategies for classification:\n",
    "\n",
    "*    `stratified` generates random predictions by respecting the training set class distribution.\n",
    "\n",
    "*    `most_frequent` always predicts the most frequent label in the training set.\n",
    "\n",
    "*    `prior` always predicts the class that maximizes the class prior (like most_frequent) and predict_proba returns the class prior.\n",
    "\n",
    "*    `uniform` generates predictions uniformly at random.\n",
    "\n",
    "*    `constant` always predicts a constant label that is provided by the user.\n",
    "     \n",
    "Note that with all these strategies, the predict method completely ignores the input data!"
   ]
  },
  {
   "cell_type": "code",
   "execution_count": 1,
   "metadata": {
    "ExecuteTime": {
     "end_time": "2020-12-22T17:26:26.372519Z",
     "start_time": "2020-12-22T17:26:24.269653Z"
    }
   },
   "outputs": [
    {
     "name": "stdout",
     "output_type": "stream",
     "text": [
      "[-1 -1 -1 -1 -1 -1 -1 -1 -1 -1 -1 -1 -1 -1 -1 -1 -1 -1 -1 -1 -1 -1 -1 -1\n",
      " -1 -1 -1 -1 -1 -1 -1 -1 -1 -1 -1 -1 -1 -1 -1 -1 -1 -1 -1 -1 -1 -1 -1 -1\n",
      " -1 -1  1  1  1  1  1  1  1  1  1  1  1  1  1  1  1  1  1  1  1  1  1  1\n",
      "  1  1  1  1  1  1  1  1  1  1  1  1  1  1  1  1  1  1  1  1  1  1  1  1\n",
      "  1  1  1  1 -1 -1 -1 -1 -1 -1 -1 -1 -1 -1 -1 -1 -1 -1 -1 -1 -1 -1 -1 -1\n",
      " -1 -1 -1 -1 -1 -1 -1 -1 -1 -1 -1 -1 -1 -1 -1 -1 -1 -1 -1 -1 -1 -1 -1 -1\n",
      " -1 -1 -1 -1 -1 -1]\n"
     ]
    }
   ],
   "source": [
    "from sklearn.datasets import load_iris\n",
    "from sklearn.model_selection import train_test_split\n",
    "\n",
    "X, y = load_iris(return_X_y=True)\n",
    "y[y != 1] = -1\n",
    "print(y)\n",
    "\n",
    "X_train, X_test, y_train, y_test = train_test_split(X, y, random_state=0)"
   ]
  },
  {
   "cell_type": "code",
   "execution_count": 145,
   "metadata": {
    "ExecuteTime": {
     "end_time": "2020-12-22T08:34:55.199884Z",
     "start_time": "2020-12-22T08:34:55.178931Z"
    }
   },
   "outputs": [
    {
     "name": "stdout",
     "output_type": "stream",
     "text": [
      "0.631578947368421\n",
      "0.5789473684210527\n"
     ]
    }
   ],
   "source": [
    "from sklearn.dummy import DummyClassifier\n",
    "from sklearn.svm import SVC\n",
    "\n",
    "clf = SVC(kernel='linear', C=1).fit(X_train, y_train)\n",
    "print(clf.score(X_test, y_test))\n",
    "clf = DummyClassifier(strategy='most_frequent', random_state=0)\n",
    "clf.fit(X_train, y_train)\n",
    "print(clf.score(X_test, y_test))"
   ]
  },
  {
   "cell_type": "code",
   "execution_count": 146,
   "metadata": {
    "ExecuteTime": {
     "end_time": "2020-12-22T08:35:11.210662Z",
     "start_time": "2020-12-22T08:35:11.203658Z"
    }
   },
   "outputs": [
    {
     "data": {
      "text/plain": [
       "0.9473684210526315"
      ]
     },
     "execution_count": 146,
     "metadata": {},
     "output_type": "execute_result"
    }
   ],
   "source": [
    "clf = SVC(kernel='rbf', C=1).fit(X_train, y_train)\n",
    "clf.score(X_test, y_test)"
   ]
  },
  {
   "cell_type": "markdown",
   "metadata": {},
   "source": [
    "# Clustering Metrics"
   ]
  },
  {
   "cell_type": "markdown",
   "metadata": {},
   "source": [
    "https://scikit-learn.org/stable/modules/clustering.html#clustering-evaluation "
   ]
  },
  {
   "cell_type": "markdown",
   "metadata": {},
   "source": [
    "Here we do not discuss the underlying mathematical formulations of the different metrics."
   ]
  },
  {
   "cell_type": "markdown",
   "metadata": {},
   "source": [
    "From sklearn:\n",
    "\n",
    "Evaluating the performance of a clustering algorithm is not as trivial as counting the number of errors or the precision and recall of a supervised classification algorithm. In particular any evaluation metric should not take the absolute values of the cluster labels into account but rather if this clustering define separations of the data similar to some ground truth set of classes or satisfying some assumption such that members belong to the same class are more similar than members of different classes according to some similarity metric."
   ]
  },
  {
   "cell_type": "markdown",
   "metadata": {},
   "source": [
    "## Adjusted Rank Index"
   ]
  },
  {
   "cell_type": "code",
   "execution_count": 147,
   "metadata": {
    "ExecuteTime": {
     "end_time": "2020-12-22T08:42:23.290024Z",
     "start_time": "2020-12-22T08:42:23.276025Z"
    }
   },
   "outputs": [
    {
     "data": {
      "text/plain": [
       "0.24242424242424246"
      ]
     },
     "execution_count": 147,
     "metadata": {},
     "output_type": "execute_result"
    }
   ],
   "source": [
    "from sklearn.metrics import adjusted_rand_score\n",
    "\n",
    "labels_true = [0, 0, 0, 1, 1, 1]\n",
    "labels_pred = [0, 0, 1, 1, 2, 2]\n",
    "\n",
    "adjusted_rand_score(labels_true, labels_pred)"
   ]
  },
  {
   "cell_type": "code",
   "execution_count": 148,
   "metadata": {
    "ExecuteTime": {
     "end_time": "2020-12-22T08:43:05.072225Z",
     "start_time": "2020-12-22T08:43:05.064219Z"
    }
   },
   "outputs": [
    {
     "data": {
      "text/plain": [
       "0.24242424242424246"
      ]
     },
     "execution_count": 148,
     "metadata": {},
     "output_type": "execute_result"
    }
   ],
   "source": [
    "labels_pred = [1, 1, 0, 0, 3, 3]\n",
    "adjusted_rand_score(labels_true, labels_pred)"
   ]
  },
  {
   "cell_type": "markdown",
   "metadata": {},
   "source": [
    "Bad (e.g. independent labelings) have negative or close to 0.0 scores:"
   ]
  },
  {
   "cell_type": "code",
   "execution_count": 149,
   "metadata": {
    "ExecuteTime": {
     "end_time": "2020-12-22T08:45:06.418545Z",
     "start_time": "2020-12-22T08:45:06.408549Z"
    }
   },
   "outputs": [
    {
     "data": {
      "text/plain": [
       "-0.12903225806451613"
      ]
     },
     "execution_count": 149,
     "metadata": {},
     "output_type": "execute_result"
    }
   ],
   "source": [
    "labels_true = [0, 1, 2, 0, 3, 4, 5, 1]\n",
    "labels_pred = [1, 1, 0, 0, 2, 2, 2, 2]\n",
    "adjusted_rand_score(labels_true, labels_pred)"
   ]
  },
  {
   "cell_type": "markdown",
   "metadata": {},
   "source": [
    "**Contrary to inertia, ARI requires knowledge of the ground truth classes while is almost never available in practice or requires manual assignment by human annotators (as in the supervised learning setting).**"
   ]
  },
  {
   "cell_type": "markdown",
   "metadata": {},
   "source": [
    "## Mutual Information based scores"
   ]
  },
  {
   "cell_type": "code",
   "execution_count": 154,
   "metadata": {
    "ExecuteTime": {
     "end_time": "2020-12-22T08:49:02.543590Z",
     "start_time": "2020-12-22T08:49:02.535561Z"
    }
   },
   "outputs": [
    {
     "data": {
      "text/plain": [
       "0.29879245817089006"
      ]
     },
     "execution_count": 154,
     "metadata": {},
     "output_type": "execute_result"
    }
   ],
   "source": [
    "from sklearn.metrics import adjusted_mutual_info_score, normalized_mutual_info_score\n",
    "labels_true = [0, 0, 0, 1, 1, 1]\n",
    "labels_pred = [0, 0, 1, 1, 2, 2]\n",
    "\n",
    "adjusted_mutual_info_score(labels_true, labels_pred)  "
   ]
  },
  {
   "cell_type": "code",
   "execution_count": 151,
   "metadata": {
    "ExecuteTime": {
     "end_time": "2020-12-22T08:47:55.863433Z",
     "start_time": "2020-12-22T08:47:55.854436Z"
    }
   },
   "outputs": [
    {
     "data": {
      "text/plain": [
       "0.29879245817089006"
      ]
     },
     "execution_count": 151,
     "metadata": {},
     "output_type": "execute_result"
    }
   ],
   "source": [
    "labels_pred = [1, 1, 0, 0, 3, 3]\n",
    "adjusted_mutual_info_score(labels_true, labels_pred)  "
   ]
  },
  {
   "cell_type": "code",
   "execution_count": 155,
   "metadata": {
    "ExecuteTime": {
     "end_time": "2020-12-22T08:49:04.237103Z",
     "start_time": "2020-12-22T08:49:04.224132Z"
    }
   },
   "outputs": [
    {
     "name": "stdout",
     "output_type": "stream",
     "text": [
      "1.0\n",
      "1.0\n"
     ]
    }
   ],
   "source": [
    "labels_pred = labels_true[:]\n",
    "print(adjusted_mutual_info_score(labels_true, labels_pred))\n",
    "print(normalized_mutual_info_score(labels_true, labels_pred))"
   ]
  },
  {
   "cell_type": "code",
   "execution_count": 156,
   "metadata": {
    "ExecuteTime": {
     "end_time": "2020-12-22T08:49:25.438990Z",
     "start_time": "2020-12-22T08:49:25.430986Z"
    }
   },
   "outputs": [
    {
     "data": {
      "text/plain": [
       "-0.16666666666666655"
      ]
     },
     "execution_count": 156,
     "metadata": {},
     "output_type": "execute_result"
    }
   ],
   "source": [
    "labels_true = [0, 1, 2, 0, 3, 4, 5, 1]\n",
    "labels_pred = [1, 1, 0, 0, 2, 2, 2, 2]\n",
    "adjusted_mutual_info_score(labels_true, labels_pred)  "
   ]
  },
  {
   "cell_type": "markdown",
   "metadata": {},
   "source": [
    "**Contrary to inertia, MI-based measures require the knowledge of the ground truth classes while almost never available in practice or requires manual assignment by human annotators (as in the supervised learning setting).**"
   ]
  },
  {
   "cell_type": "markdown",
   "metadata": {},
   "source": [
    "## Homogeneity, completeness and V-measure"
   ]
  },
  {
   "cell_type": "markdown",
   "metadata": {},
   "source": [
    "In particular Rosenberg and Hirschberg (2007) define the following two desirable objectives for any cluster assignment:\n",
    "\n",
    "*    `homogeneity`: each cluster contains only members of a single class.\n",
    "\n",
    "*    `completeness`: all members of a given class are assigned to the same cluster."
   ]
  },
  {
   "cell_type": "code",
   "execution_count": 158,
   "metadata": {
    "ExecuteTime": {
     "end_time": "2020-12-22T08:52:26.931729Z",
     "start_time": "2020-12-22T08:52:26.920725Z"
    }
   },
   "outputs": [
    {
     "name": "stdout",
     "output_type": "stream",
     "text": [
      "0.6666666666666669\n",
      "0.420619835714305\n",
      "0.5158037429793889\n"
     ]
    }
   ],
   "source": [
    "from sklearn.metrics import homogeneity_score, completeness_score, v_measure_score\n",
    "labels_true = [0, 0, 0, 1, 1, 1]\n",
    "labels_pred = [0, 0, 1, 1, 2, 2]\n",
    "\n",
    "print(homogeneity_score(labels_true, labels_pred))\n",
    "print(completeness_score(labels_true, labels_pred))\n",
    "print(v_measure_score(labels_true, labels_pred))"
   ]
  },
  {
   "cell_type": "markdown",
   "metadata": {},
   "source": [
    "The previously introduced metrics are not normalized with regards to random labeling: this means that depending on the number of samples, clusters and ground truth classes, a completely random labeling will not always yield the same values for homogeneity, completeness and hence v-measure. In particular random labeling won’t yield zero scores especially when the number of clusters is large.\n",
    "\n",
    "This problem can safely be ignored when the number of samples is more than a thousand and the number of clusters is less than 10. For smaller sample sizes or larger number of clusters it is safer to use an adjusted index such as the Adjusted Rand Index (ARI)."
   ]
  },
  {
   "cell_type": "markdown",
   "metadata": {},
   "source": [
    "## Silhouette Coefficient"
   ]
  },
  {
   "cell_type": "code",
   "execution_count": 159,
   "metadata": {
    "ExecuteTime": {
     "end_time": "2020-12-22T08:59:25.269261Z",
     "start_time": "2020-12-22T08:59:25.248196Z"
    }
   },
   "outputs": [],
   "source": [
    "from sklearn import metrics\n",
    "from sklearn.metrics import pairwise_distances\n",
    "from sklearn import datasets\n",
    "\n",
    "X, y = datasets.load_iris(return_X_y=True)"
   ]
  },
  {
   "cell_type": "code",
   "execution_count": 160,
   "metadata": {
    "ExecuteTime": {
     "end_time": "2020-12-22T08:59:47.990840Z",
     "start_time": "2020-12-22T08:59:47.648140Z"
    }
   },
   "outputs": [
    {
     "data": {
      "text/plain": [
       "0.5528190123564091"
      ]
     },
     "execution_count": 160,
     "metadata": {},
     "output_type": "execute_result"
    }
   ],
   "source": [
    "import numpy as np\n",
    "from sklearn.cluster import KMeans\n",
    "kmeans_model = KMeans(n_clusters=3, random_state=1).fit(X)\n",
    "labels = kmeans_model.labels_\n",
    "metrics.silhouette_score(X, labels, metric='euclidean')"
   ]
  },
  {
   "cell_type": "markdown",
   "metadata": {},
   "source": [
    "The score is bounded between -1 for incorrect clustering and +1 for highly dense clustering. Scores around zero indicate overlapping clusters.\n",
    "\n",
    "The score is higher when clusters are dense and well separated, which relates to a standard concept of a cluster."
   ]
  },
  {
   "cell_type": "markdown",
   "metadata": {},
   "source": [
    "## Calinski-Harabasz Index"
   ]
  },
  {
   "cell_type": "markdown",
   "metadata": {},
   "source": [
    "It is also known as the *Variance Ratio Criterion*. A higher Calinski-Harabasz score relates to a model with better defined clusters."
   ]
  },
  {
   "cell_type": "code",
   "execution_count": 161,
   "metadata": {
    "ExecuteTime": {
     "end_time": "2020-12-22T09:01:47.748151Z",
     "start_time": "2020-12-22T09:01:47.740184Z"
    }
   },
   "outputs": [],
   "source": [
    "from sklearn import metrics\n",
    "from sklearn.metrics import pairwise_distances\n",
    "from sklearn import datasets\n",
    "\n",
    "X, y = datasets.load_iris(return_X_y=True)"
   ]
  },
  {
   "cell_type": "code",
   "execution_count": 162,
   "metadata": {
    "ExecuteTime": {
     "end_time": "2020-12-22T09:02:08.642385Z",
     "start_time": "2020-12-22T09:02:08.605430Z"
    }
   },
   "outputs": [
    {
     "data": {
      "text/plain": [
       "561.62775662962"
      ]
     },
     "execution_count": 162,
     "metadata": {},
     "output_type": "execute_result"
    }
   ],
   "source": [
    "import numpy as np\n",
    "from sklearn.cluster import KMeans\n",
    "\n",
    "kmeans_model = KMeans(n_clusters=3, random_state=1).fit(X)\n",
    "labels = kmeans_model.labels_\n",
    "metrics.calinski_harabasz_score(X, labels)"
   ]
  },
  {
   "cell_type": "markdown",
   "metadata": {},
   "source": [
    "The score is higher when clusters are dense and well separated, which relates to a standard concept of a cluster.\n",
    "\n",
    "The score is fast to compute."
   ]
  },
  {
   "cell_type": "markdown",
   "metadata": {},
   "source": [
    "## Davies-Bouldin Index"
   ]
  },
  {
   "cell_type": "markdown",
   "metadata": {},
   "source": [
    "A lower Davies-Bouldin index relates to a model with better separation between the clusters"
   ]
  },
  {
   "cell_type": "code",
   "execution_count": 163,
   "metadata": {
    "ExecuteTime": {
     "end_time": "2020-12-22T09:03:59.452487Z",
     "start_time": "2020-12-22T09:03:59.410489Z"
    }
   },
   "outputs": [
    {
     "data": {
      "text/plain": [
       "0.6619715465007511"
      ]
     },
     "execution_count": 163,
     "metadata": {},
     "output_type": "execute_result"
    }
   ],
   "source": [
    "from sklearn import datasets\n",
    "iris = datasets.load_iris()\n",
    "X = iris.data\n",
    "from sklearn.cluster import KMeans\n",
    "from sklearn.metrics import davies_bouldin_score\n",
    "kmeans = KMeans(n_clusters=3, random_state=1).fit(X)\n",
    "labels = kmeans.labels_\n",
    "davies_bouldin_score(X, labels)"
   ]
  },
  {
   "cell_type": "markdown",
   "metadata": {},
   "source": [
    "The computation of Davies-Bouldin is simpler than that of Silhouette scores.\n",
    "\n",
    "The index is computed only quantities and features inherent to the dataset."
   ]
  },
  {
   "cell_type": "markdown",
   "metadata": {},
   "source": [
    "## Contingency Matrix"
   ]
  },
  {
   "cell_type": "markdown",
   "metadata": {},
   "source": [
    "Contingency matrix (sklearn.metrics.cluster.contingency_matrix) reports the intersection cardinality for every true/predicted cluster pair. The contingency matrix provides sufficient statistics for all clustering metrics where the samples are independent and identically distributed and one doesn’t need to account for some instances not being clustered.\n",
    "\n"
   ]
  },
  {
   "cell_type": "code",
   "execution_count": 164,
   "metadata": {
    "ExecuteTime": {
     "end_time": "2020-12-22T09:05:40.739419Z",
     "start_time": "2020-12-22T09:05:40.731418Z"
    }
   },
   "outputs": [
    {
     "data": {
      "text/plain": [
       "array([[2, 1, 0],\n",
       "       [0, 1, 2]])"
      ]
     },
     "execution_count": 164,
     "metadata": {},
     "output_type": "execute_result"
    }
   ],
   "source": [
    "from sklearn.metrics.cluster import contingency_matrix\n",
    "x = [\"a\", \"a\", \"a\", \"b\", \"b\", \"b\"]\n",
    "y = [0, 0, 1, 1, 2, 2]\n",
    "contingency_matrix(x, y)"
   ]
  },
  {
   "cell_type": "markdown",
   "metadata": {},
   "source": [
    "The first row of output array indicates that there are three samples whose true cluster is “a”. Of them, two are in predicted clus\n",
    "ter 0, one is in 1, and none is in 2. And the second row indicates that there are three samples whose true cluster is “b”. Of them, none is in predicted cluster 0, one is in 1 and two are in 2."
   ]
  },
  {
   "cell_type": "markdown",
   "metadata": {},
   "source": [
    "Contingency matrix is easy to interpret for a small number of clusters, but becomes very hard to interpret for a large number of clusters.\n",
    "\n",
    "It doesn’t give a single metric to use as an objective for clustering optimisation."
   ]
  }
 ],
 "metadata": {
  "hide_input": false,
  "kernelspec": {
   "display_name": "Python 3",
   "language": "python",
   "name": "python3"
  },
  "language_info": {
   "codemirror_mode": {
    "name": "ipython",
    "version": 3
   },
   "file_extension": ".py",
   "mimetype": "text/x-python",
   "name": "python",
   "nbconvert_exporter": "python",
   "pygments_lexer": "ipython3",
   "version": "3.7.1"
  },
  "toc": {
   "base_numbering": 1,
   "nav_menu": {},
   "number_sections": true,
   "sideBar": true,
   "skip_h1_title": false,
   "title_cell": "Table of Contents",
   "title_sidebar": "Contents",
   "toc_cell": false,
   "toc_position": {
    "height": "calc(100% - 180px)",
    "left": "10px",
    "top": "150px",
    "width": "240.2px"
   },
   "toc_section_display": true,
   "toc_window_display": true
  }
 },
 "nbformat": 4,
 "nbformat_minor": 4
}
