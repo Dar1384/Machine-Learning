{
 "cells": [
  {
   "cell_type": "markdown",
   "metadata": {},
   "source": [
    "# Genetic Algorithms - Concepts and Theory"
   ]
  },
  {
   "cell_type": "markdown",
   "metadata": {},
   "source": [
    "*The last unit of the course book deals with an **optimization technique** known as **Genetic Algorithms (GA)**.* \n",
    "\n",
    "The genetic algorithm is an optimization and search technique based on the principles of genetics and natural selection. The advantages of genetic algorithms are:\n",
    "\n",
    "* Optimize with continuous or discrete variables \n",
    "\n",
    "\n",
    "* Does not need derivative information\n",
    "\n",
    "\n",
    "* Well suited for parallel computing\n",
    "\n",
    "\n",
    "* Optimizes variables with extremely complex cost surfaces\n",
    "\n",
    "\n",
    "* Works with numerically generated data, experimental data or analytical functions\n",
    "\n",
    "*The basic idea here is to randomly change current updates through **Selection**, **Crossover/Mating** and **Mutation**.* \n",
    "*These techniques help in order not to get stuck in a local optimum until the best solution is reached.*\n",
    "\n",
    "The final state maximizes the **fitness function**/minimizes the **cost function**. The fitness function determines the quality of individuals. \n",
    "\n",
    "Another prominent optimization technique is **gradient descent**, which is an iterative optimization method for differentiable functions."
   ]
  },
  {
   "cell_type": "markdown",
   "metadata": {
    "ExecuteTime": {
     "end_time": "2020-11-02T18:51:10.485414Z",
     "start_time": "2020-11-02T18:51:10.472451Z"
    }
   },
   "source": [
    "![](./images/algorithm.png)"
   ]
  },
  {
   "cell_type": "markdown",
   "metadata": {},
   "source": [
    "We look at binary and continuous genetic algorithms and closely follow [1].\n",
    "\n",
    "1.    For the binary case we search through a landscape to find the highest point:\n",
    "\n",
    "![](./images/longs_peak_3D.png)\n",
    "\n",
    "\n",
    "2.    For the continuous case we consider a function\n",
    "\n",
    "$$ f(x,y) = x \\cdot y$$\n",
    "\n",
    "for maximization within the interval $[0,30]$. The genetic algorithm find values of $x$ and $y$ that produce maximum values of the function $f(x,y)$."
   ]
  },
  {
   "cell_type": "markdown",
   "metadata": {},
   "source": [
    "# The Binary Genetic Algorithm"
   ]
  },
  {
   "cell_type": "markdown",
   "metadata": {},
   "source": [
    "input variables (a chromosome) $\\Rightarrow$ fit function $\\Rightarrow$ output "
   ]
  },
  {
   "cell_type": "markdown",
   "metadata": {},
   "source": [
    "> A cost function can be a mathematical function, an experiment or a game."
   ]
  },
  {
   "cell_type": "markdown",
   "metadata": {},
   "source": [
    "## Encoding Variables"
   ]
  },
  {
   "cell_type": "markdown",
   "metadata": {},
   "source": [
    "The GA begins with defining a **chromosome, i.e. an array of variable values**  to be optimized:\n",
    "$$ [p_1, p_2, \\ldots, p_{N_{var}}] $$\n",
    "\n",
    "with $N_{var}$ the dimension of the optimization problem.  \n",
    "\n",
    "Examples:\n",
    "\n",
    "1.    For the knapsack problem it means if an item should be put into the bag or not: $$ chromosome =  [1,0, 0, 0, 0,0,0,0,0,1] $$\n",
    "\n",
    "\n",
    "2.    For searching the maximum height in a landspace the input variables are the longitude (x) and latitude (y). $$ chromosome = [x,y] $$\n",
    "\n",
    "The binary GA works with bits. The bits can represent an integer, a qualitative value, $\\ldots$. If $N_{gene} = 2$ and $1 \\leq x \\leq 4$ then\n",
    "\n",
    "|Binary representation  \t| Integer Value  \t| Color   \t| Opinion   \t|   \t|   \t|\n",
    "|---\t|---\t|---\t|---\t|---\t|---\t|\n",
    "| 00  \t| 0  \t|Red   \t| Excellent   \t|   \t|   \t|\n",
    "| 01\t| 1  \t|Green\t| Good  \t|   \t|   \t|\n",
    "| 10  \t| 2  \t|Blue   \t| Bad   \t|   \t|   \t|\n",
    "| 11\t| 3  \t|Yellow\t| Very Bad  \t|   \t|   \t|\n",
    "\n",
    "The topographical map of Rocky Mountain National Park has $128 \\times 128 $ elevation points: \n",
    "\n",
    "![](./images/longs_peak_contour_plot_1.png)\n",
    "\n",
    "\n",
    "If $x$ and $y$ are encoded in two genes, each with $N_{gene} = 7$ bits, then there are $2^7$ possible values for $x$ and $y$. \n",
    "\n",
    "|Variable  \t| Binary  \t| Integer   \t| Value   \t| \n",
    "|---\t    |---     \t|---        \t|---    \t|\n",
    "| Latitude  | 0000000  \t| 1   \t        | 40°15'   \t|\n",
    "| Latitude\t| 1111111  \t| 128\t        | 40°16'  \t|\n",
    "| Longitude | 0000000  \t| 1   \t        | 105°36'   |\n",
    "| Longitude\t| 1111111  \t| 128\t        | 105°37'30'' | \n",
    "\n",
    "A chromosome would look like:\n",
    "\n",
    "$$ chromosome = \\left[ 1100011 0011001 \\right] $$\n",
    "\n",
    "corresponding to $[99,25]$ or $[105°36'50'', 40°15'29.7'']$.\n",
    "\n",
    "The cost function is pretty easy in this problem: It is the **negative of the elevation**. "
   ]
  },
  {
   "cell_type": "markdown",
   "metadata": {},
   "source": [
    "## The Population"
   ]
  },
  {
   "cell_type": "markdown",
   "metadata": {},
   "source": [
    "The GA starts with a group of chromosomes known as the population. It is an $N_{pop} \\cdot N_{bits}$ matrix filled with random ones and zeroes. Each row in the population matrix is a chromosome. The chromosomes correspond to discrete values of longitude and latitude. Then the variables are passed to the cost function for evaluation: "
   ]
  },
  {
   "cell_type": "markdown",
   "metadata": {},
   "source": [
    "![](./images/longs_peak_initial_population.png)"
   ]
  },
  {
   "cell_type": "markdown",
   "metadata": {},
   "source": [
    "## Natural Selection"
   ]
  },
  {
   "cell_type": "markdown",
   "metadata": {},
   "source": [
    "**Survival of the fittest translates into discarding the chromosomes with the highest cost.**\n",
    "\n",
    "The $N_{pop}$ costs and associated chromosomes are ranked from lowest cost to highest cost. Then, only the best are selected to continue, while the rest are deleted.\n",
    "\n",
    "The selection rate $X_{rate}$ is the fraction of $N_{pop}$ that survives for the next step of mating. The number of chromosomes kept is:\n",
    "\n",
    "$$N_{kept} = X_{rate} \\cdot N_{pop} \\; . $$\n",
    "\n",
    "Natural selection occurs each generation or iteration of the algorithm. Of the $N_{pop}$ chromosomes in a generation, only the top $N_{keep}$ survive for mating and the bottom $N_{pop} - N_{keep}$ are discarded to make room for the new offspring. \n",
    "\n",
    "Deciding how many chromosomes to keep is somewhat arbitrary. We often keep $50 \\%$ ($X_{rate} = 0.5$) in the natural selection process."
   ]
  },
  {
   "cell_type": "markdown",
   "metadata": {},
   "source": [
    "![](./images/longs_peak_surviving_chromosomes.png)"
   ]
  },
  {
   "cell_type": "markdown",
   "metadata": {},
   "source": [
    "Another approach to natural selection is called *thresholding*: All chromosomes that have cost lower than some threshold survive. An advantage here is that the porpulation does not need to be sorted."
   ]
  },
  {
   "cell_type": "markdown",
   "metadata": {},
   "source": [
    "## Selection"
   ]
  },
  {
   "cell_type": "markdown",
   "metadata": {},
   "source": [
    "Two chromosomes are selected from the mating pool of $N_{keep}$ chromosomes to produce new offspring. Pairing takes place in the mating population until $N_{pop} - N_{keep}$ offspring are born to replace the discarded chromosomes.\n",
    "\n",
    "Selection Methods:\n",
    "\n",
    "1.    Pairing from top to bottom: Start at the top of the list and pair the chromosomes two at a time until the top $N_{keep}$ chromosomes are selected for mating. The algorithm pairs odd rows with even rows.\n",
    "\n",
    "\n",
    "2.    Random pairing. This approach uses a uniform random number generator to select chromosomes. \n",
    "\n",
    "$$ ma = \\text{ceil} \\left( N_{keep} \\cdot \\text{rand}(1,N_{keep} \\right) $$\n",
    "$$ pa = \\text{ceil} \\left( N_{keep} \\cdot \\text{rand}(1,N_{keep} \\right) $$\n",
    "\n",
    "\n",
    "3.    Weighted random pairing. The probabilities assigned to the chromosomes in the mating pool are inversely proportional to their cost.\n",
    "\n",
    "      a. Rank weighting\n",
    "      \n",
    "      ![](./images/rank_weighting.png)\n",
    "      \n",
    "      b. Cost weighting: The probability of selecting a chromosome is calculated from the cost of the chromosome.\n",
    "      \n",
    "      \n",
    "4.    Tournament selection: Another approach that closely mimics mating competition in nature is to randomly pick a small subset of chromosomes (two or three) from the mating pool and the chromosome with the lowest cost in this subset becomes a parent."
   ]
  },
  {
   "cell_type": "markdown",
   "metadata": {},
   "source": [
    "## Mating/Crossover"
   ]
  },
  {
   "cell_type": "markdown",
   "metadata": {},
   "source": [
    "Mating is the creation of one of more offspring from the parents selected in the pairing process. \n",
    "\n",
    "The most common form of mating involves two parents that produce two offspring.\n",
    "\n",
    "![](./images/simple_mating.png)\n",
    "\n",
    "A simple version of mating (*single-point crossover*):\n",
    "\n",
    "A crossover point can be randomly selected between the first and last bits of the parents' chromosomes. First, parent$_1$ passes its binary code to the left of that corrover point to offspring$_1$. Then parent$_2$ passes its binary code to the left of the same crossover point to offspring$_2$. Next, the binary code to the right of the crossover point of parent$_1$ goes to offspring$_2$ and parent$_2$ passes its code to offspring$_1$. Consequently, the offspring contain portions of the binary codes of both parents. \n",
    "\n",
    "The parents have produced a total of $N_{pop} - N_{keep}$ offspring, so the chromosome population is now back to $N_{pop}$.\n",
    "\n",
    "There exist more complicated versions of mating."
   ]
  },
  {
   "cell_type": "markdown",
   "metadata": {},
   "source": [
    "## Mutations"
   ]
  },
  {
   "cell_type": "markdown",
   "metadata": {},
   "source": [
    "Random mutations alter a certain percentage of the bits in the list of chromosomes. **Mutation is the second way a GA explores a cost surface.** It can introduce traits not in the original population and **keeps the GA from converging too fast before sampling the entire cost surface**. A single point mutation changes a 1 to a 0 and vice versa. \n",
    "\n",
    "Increasing the number of mutations increases the algorithms freedom to search outside the current region of variable space. It also tends to distract algorithms from converging on a popular solution. **Mutations do not occur on the final solution.**\n",
    "\n",
    "Do we allow mutations on the best solution? Generally not. They are designed as elite solutions desined to propagate unchanged. So a rule could be: Mutate 20% of the population except the best chromosome. How many mutations would therefore occur?\n",
    "\n",
    "With mutation percentage $\\mu = 0.2$ for the knapsack problem we arrive at the number of mutations:\n",
    "\n",
    "$$ 0.2 \\cdot (N_{pop} -1 ) \\cdot N_{bits} = 0.2 \\cdot 7 \\cdot 10 \\sim 14 \\, \\text{mutations}$$\n",
    "\n",
    "![](./images/longs_peak_mutating_first_generation.png)"
   ]
  },
  {
   "cell_type": "markdown",
   "metadata": {},
   "source": [
    "## The Next Generation"
   ]
  },
  {
   "cell_type": "markdown",
   "metadata": {},
   "source": [
    "After the mutations take place, the costs associated with the offspring and mutated chromosomes are calculated. We have a starting population for the next generation:\n",
    "\n",
    "![](./images/longs_peak_second_population.png)\n",
    "\n",
    "The bottom four chromosomes are discarded and replaced by offspring from the top four parents. Another 20 random bits are selected for mutation from the bottom seven chromosomes. \n",
    "\n",
    "![](./images/longs_peak_end_of_second_population.png)\n",
    "\n",
    "\n",
    "After a while all the chromosomes and associated costs would become the same if it were not for mutations. At this point the algorithm should be stopped. "
   ]
  },
  {
   "cell_type": "markdown",
   "metadata": {},
   "source": [
    "## Convergence"
   ]
  },
  {
   "cell_type": "markdown",
   "metadata": {},
   "source": [
    "The number of generations that evolve depends on whether an acceptable solution is reached or a set number of iterations is exceeded. After a while all the chromosomes and associated costs would become the same if it were not for mutations. At this point the algorithm should be stopped. \n",
    "\n",
    "Most GAs keep track of the population statistics in the form of population mean and minimum costs. \n",
    "\n",
    "After three generations the global minimum is found to be -14199:\n",
    "\n",
    "![](./images/longs_peak_final_contour_plot.png)\n",
    "\n",
    "Here four of the members are close to Long's Peak (actually at 14.255 ft)."
   ]
  },
  {
   "cell_type": "markdown",
   "metadata": {},
   "source": [
    "*Note:* Binary Encoding is just one possible representation of chromosomes. For instance, in odering problems like the traveling salesman problem permutation encoding is used."
   ]
  },
  {
   "cell_type": "markdown",
   "metadata": {},
   "source": [
    "# The Continous Genetic Algorithm"
   ]
  },
  {
   "cell_type": "markdown",
   "metadata": {},
   "source": [
    "Now we turn to problems where the variables are continuous and we want to know them to the full machine precision. Then it is more logical to represent the variables by floating-point numbers. The continuous GA is faster than the binary GA, because the chromosomes do not have to be decoded prior to the evaluation of the cost function."
   ]
  },
  {
   "cell_type": "markdown",
   "metadata": {},
   "source": [
    "Example:\n",
    "    \n",
    "$$ cost = f(x,y) = x \\sin(4x) + 1.1 y \\sin(2y) $$\n",
    "\n",
    "subject to $0 \\leq x \\leq 10$ and $0 \\leq y \\leq 10$. \n",
    "\n",
    "Since $f$ is a function of $x$ and $y$ only, the clear choice for the variable is\n",
    "\n",
    "$$ chromosome = [x,y] \\; . $$\n",
    "\n",
    "A contour map for this problem is:\n",
    "\n",
    "![](./images/continuous_contour.png)"
   ]
  },
  {
   "cell_type": "markdown",
   "metadata": {},
   "source": [
    "## Initital Population"
   ]
  },
  {
   "cell_type": "markdown",
   "metadata": {},
   "source": [
    "To begin the GA, we define an initial population of $N_{pop}$ chromosomes. For example, uniform random numbers between zero and ten are a good choice. \n",
    "\n",
    "![](./images/continuous_contour_cost_initial_generation.png)\n",
    "\n",
    "None of the initial guess are particularly close to the global minimum."
   ]
  },
  {
   "cell_type": "markdown",
   "metadata": {},
   "source": [
    "## Natural Selection"
   ]
  },
  {
   "cell_type": "markdown",
   "metadata": {},
   "source": [
    "As done for the binary version of the algorithm, the $N_{pop}$ costs and associated chromosomes are ranked from lowest cost to highest cost. Of the $N_{pop}$ chromosomes in a given generation, only the top $N_{keep}$ are kept for mating and the rest are discarded to make room for the new offspring:\n",
    "\n",
    "![](./images/continuous_natural_selection.png)"
   ]
  },
  {
   "cell_type": "markdown",
   "metadata": {},
   "source": [
    "### Pairing"
   ]
  },
  {
   "cell_type": "markdown",
   "metadata": {},
   "source": [
    "The $N_{keep} = 4$ most-fit chromosomes form the mating pool. The example here uses rank weighting with the probabilities 0.4, 0.3, 0.2, 0.1 and for pairs of random numbers $ma = [2,3]$ and $pa = [3,1]$ are chosen. "
   ]
  },
  {
   "cell_type": "markdown",
   "metadata": {},
   "source": [
    "## Mating"
   ]
  },
  {
   "cell_type": "markdown",
   "metadata": {},
   "source": [
    "As for the binary algorithm, two parents are chosen and the offspring are some combination of these parents. Many different approaches have been tried for crossing over in continuous GAs. \n",
    "\n",
    "The simplest methods choose one or more points in the chromosome to marks as the crossover points. Then the variables between these points are merely swapped between the two parents. The problem with these point crossover methods is that no new information is introduced. Each continuous value that was randomly initialted in the initial population is propagated to the next generation, only in different combinations. **These approaches totally rely on mutation to introduce new genetic material.**\n",
    "\n",
    "The **blending methods** circumvent this problem by finding ways to combine variable values from the two parents into new variable values in the offspring:\n",
    "\n",
    "$$ p_{new} = \\beta p_{mn} + (1-\\beta) p_{dn} $$\n",
    "\n",
    "with $\\beta$ a random number in $[0,1]$\n",
    "\n",
    "and $p_{mn}$ the nth variable in the mother chromosome.\n",
    "\n",
    "There are many possibilities to do the blending. Here a combination of an extrapolation method with a crossover method is chosen:\n",
    "\n",
    "Here $\\alpha$ be a randomly selected crossover point in the first pair of parents. Then \n",
    "\n",
    "$$ p_{new,1} = p_{m\\alpha} - \\beta [p_{m \\alpha}] - p_{d \\alpha} $$\n",
    "$$ p_{new,2} = p_{d\\alpha} + \\beta [p_{m \\alpha}] - p_{d \\alpha} $$\n",
    "\n",
    "Then\n",
    "\n",
    "$$ offspring_{1} = [p_{m1}, p_{m2} \\ldots p_{new,1} \\ldots p_{dN_{var}}] $$\n",
    "$$ offspring_{2} = [p_{d1}, p_{d2} \\ldots p_{new,2} \\ldots p_{mN_{var}}] $$\n",
    "\n",
    "![](./images/continuous_mating_result.png)\n",
    "\n",
    "\n",
    "![](./images/continuous_mating.png)\n"
   ]
  },
  {
   "cell_type": "markdown",
   "metadata": {},
   "source": [
    "## Mutations"
   ]
  },
  {
   "cell_type": "markdown",
   "metadata": {},
   "source": [
    "We have to prevent the algorithm from converging too quickly into one region of the cost surface since this area can be the region of a local minimum and not the global minimum. We force the routine to explore other areas of the cost surface by randomly introducing changes, or **mutations**, in some of the variables. \n",
    "\n",
    "The basic method for continuous GAs is not much more complicated than for binary GAs. \n",
    "\n",
    "We choose a mutation rate of 20%. Next random numbers are chosen to select the row and columns of the variables to be mutated. A mutated variable is replaced by a new random variable.\n",
    "\n",
    "![](./images/continuous_mutation.png)"
   ]
  },
  {
   "cell_type": "markdown",
   "metadata": {},
   "source": [
    "Note that the first chromosome is not mutated due to elitism. The offspring in row 7 has the best cost due to crossover and mutation."
   ]
  },
  {
   "cell_type": "markdown",
   "metadata": {},
   "source": [
    "## The Next Generation"
   ]
  },
  {
   "cell_type": "markdown",
   "metadata": {},
   "source": [
    "The process described is iterated until an acceptable solution is found. Also for the next generation the bottom four chromosomes are discared and replaced by offspring from the top four parents.\n",
    "\n",
    "After mating, mutation and ranking the final population after three generations is:\n",
    "    \n",
    "![](./images/continuous_three_generations.png)"
   ]
  },
  {
   "cell_type": "markdown",
   "metadata": {},
   "source": [
    "## Convergence"
   ]
  },
  {
   "cell_type": "markdown",
   "metadata": {},
   "source": [
    "This run of the algorithm found the minimum cost at $-18.53$ in three generations."
   ]
  },
  {
   "cell_type": "markdown",
   "metadata": {},
   "source": [
    "# Final Comments"
   ]
  },
  {
   "cell_type": "markdown",
   "metadata": {},
   "source": [
    "The binary GA could have been used in this example as well as a continuous GA. Since the problem used continuous variables, it seemed more natural to use the continuous GA. \n",
    "\n",
    "Selecting the various GA parameters, such as mutation rate and type of crossover, is more of an art than a science."
   ]
  },
  {
   "cell_type": "markdown",
   "metadata": {},
   "source": [
    "# Sources"
   ]
  },
  {
   "cell_type": "markdown",
   "metadata": {},
   "source": [
    "[1] *Practical Genetic Algorithms* by Randy L. Haupt, Sue Ellen Haupt, 2004, John Wiley & Sons."
   ]
  },
  {
   "cell_type": "code",
   "execution_count": null,
   "metadata": {},
   "outputs": [],
   "source": [
    "# The cost function $f$ is given as:\n",
    "# $$ cost = f(p_1, p_2, \\ldots, p_N) $$\n",
    "\n",
    "# The GA starts with a group of chromosomes referred to as the **population**.\n",
    "\n",
    "# A population is evolved from one **generation** to the next and only the fittest survive. The selection rate $X_{rate}$ is the fraction of the population $N_{pop}$ that survives. The number of chromosomes kept is:\n",
    "\n",
    "# $$ N_{keep} = X_{rate} N_{pop} $$\n",
    "\n",
    "# We often keep $50 \\%$ ($X_{rate} = 0.5$) in the natural selection process. "
   ]
  }
 ],
 "metadata": {
  "hide_input": false,
  "kernelspec": {
   "display_name": "Python 3",
   "language": "python",
   "name": "python3"
  },
  "language_info": {
   "codemirror_mode": {
    "name": "ipython",
    "version": 3
   },
   "file_extension": ".py",
   "mimetype": "text/x-python",
   "name": "python",
   "nbconvert_exporter": "python",
   "pygments_lexer": "ipython3",
   "version": "3.7.1"
  },
  "toc": {
   "base_numbering": 1,
   "nav_menu": {},
   "number_sections": true,
   "sideBar": true,
   "skip_h1_title": false,
   "title_cell": "Table of Contents",
   "title_sidebar": "Contents",
   "toc_cell": false,
   "toc_position": {
    "height": "calc(100% - 180px)",
    "left": "10px",
    "top": "150px",
    "width": "264.8px"
   },
   "toc_section_display": true,
   "toc_window_display": true
  }
 },
 "nbformat": 4,
 "nbformat_minor": 4
}
