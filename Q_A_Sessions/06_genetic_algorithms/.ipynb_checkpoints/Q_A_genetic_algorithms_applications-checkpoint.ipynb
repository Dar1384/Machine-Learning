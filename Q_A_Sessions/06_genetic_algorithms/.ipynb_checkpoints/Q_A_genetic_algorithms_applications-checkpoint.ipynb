{
 "cells": [
  {
   "cell_type": "markdown",
   "metadata": {},
   "source": [
    "# Genetic Algorithms - Applications"
   ]
  },
  {
   "cell_type": "markdown",
   "metadata": {},
   "source": [
    "**under construction**"
   ]
  },
  {
   "cell_type": "markdown",
   "metadata": {},
   "source": [
    "# Preamble"
   ]
  },
  {
   "cell_type": "code",
   "execution_count": 1,
   "metadata": {
    "ExecuteTime": {
     "end_time": "2021-01-19T08:54:24.456664Z",
     "start_time": "2021-01-19T08:54:23.056913Z"
    }
   },
   "outputs": [],
   "source": [
    "# Common imports\n",
    "import numpy as np # numpy is THE toolbox for scientific computing with python\n",
    "import pandas as pd # pandas provides THE data structure and data analysis tools for data scientists \n",
    "\n",
    "# maximum number of columns\n",
    "pd.set_option(\"display.max_rows\", 101)\n",
    "pd.set_option(\"display.max_columns\", 101)\n",
    "\n",
    "# To plot pretty figures\n",
    "%matplotlib inline\n",
    "import matplotlib as mpl\n",
    "import matplotlib.pyplot as plt\n",
    "mpl.rc('axes', labelsize=14)\n",
    "mpl.rc('xtick', labelsize=12)\n",
    "mpl.rc('ytick', labelsize=12)\n",
    "\n",
    "from warnings import filterwarnings\n",
    "filterwarnings('ignore')"
   ]
  },
  {
   "cell_type": "markdown",
   "metadata": {},
   "source": [
    "# The Knapsack Problem"
   ]
  },
  {
   "cell_type": "markdown",
   "metadata": {},
   "source": [
    "We have a bag which can carry 35 kgs of weight. We can choose between 10 items, each with a specifc weight and price. We want to pick the items which maximize the value, i.e. the total price without exceeding the knapsack weight."
   ]
  },
  {
   "cell_type": "code",
   "execution_count": 2,
   "metadata": {
    "ExecuteTime": {
     "end_time": "2021-01-19T08:54:30.491170Z",
     "start_time": "2021-01-19T08:54:30.463171Z"
    }
   },
   "outputs": [
    {
     "data": {
      "text/html": [
       "<div>\n",
       "<style scoped>\n",
       "    .dataframe tbody tr th:only-of-type {\n",
       "        vertical-align: middle;\n",
       "    }\n",
       "\n",
       "    .dataframe tbody tr th {\n",
       "        vertical-align: top;\n",
       "    }\n",
       "\n",
       "    .dataframe thead th {\n",
       "        text-align: right;\n",
       "    }\n",
       "</style>\n",
       "<table border=\"1\" class=\"dataframe\">\n",
       "  <thead>\n",
       "    <tr style=\"text-align: right;\">\n",
       "      <th></th>\n",
       "      <th>item_number</th>\n",
       "      <th>weight</th>\n",
       "      <th>value</th>\n",
       "    </tr>\n",
       "  </thead>\n",
       "  <tbody>\n",
       "    <tr>\n",
       "      <th>0</th>\n",
       "      <td>1</td>\n",
       "      <td>7</td>\n",
       "      <td>224</td>\n",
       "    </tr>\n",
       "    <tr>\n",
       "      <th>1</th>\n",
       "      <td>2</td>\n",
       "      <td>4</td>\n",
       "      <td>340</td>\n",
       "    </tr>\n",
       "    <tr>\n",
       "      <th>2</th>\n",
       "      <td>3</td>\n",
       "      <td>13</td>\n",
       "      <td>468</td>\n",
       "    </tr>\n",
       "    <tr>\n",
       "      <th>3</th>\n",
       "      <td>4</td>\n",
       "      <td>11</td>\n",
       "      <td>97</td>\n",
       "    </tr>\n",
       "    <tr>\n",
       "      <th>4</th>\n",
       "      <td>5</td>\n",
       "      <td>8</td>\n",
       "      <td>382</td>\n",
       "    </tr>\n",
       "    <tr>\n",
       "      <th>5</th>\n",
       "      <td>6</td>\n",
       "      <td>13</td>\n",
       "      <td>109</td>\n",
       "    </tr>\n",
       "    <tr>\n",
       "      <th>6</th>\n",
       "      <td>7</td>\n",
       "      <td>5</td>\n",
       "      <td>673</td>\n",
       "    </tr>\n",
       "    <tr>\n",
       "      <th>7</th>\n",
       "      <td>8</td>\n",
       "      <td>7</td>\n",
       "      <td>140</td>\n",
       "    </tr>\n",
       "    <tr>\n",
       "      <th>8</th>\n",
       "      <td>9</td>\n",
       "      <td>10</td>\n",
       "      <td>671</td>\n",
       "    </tr>\n",
       "    <tr>\n",
       "      <th>9</th>\n",
       "      <td>10</td>\n",
       "      <td>3</td>\n",
       "      <td>318</td>\n",
       "    </tr>\n",
       "  </tbody>\n",
       "</table>\n",
       "</div>"
      ],
      "text/plain": [
       "   item_number  weight  value\n",
       "0            1       7    224\n",
       "1            2       4    340\n",
       "2            3      13    468\n",
       "3            4      11     97\n",
       "4            5       8    382\n",
       "5            6      13    109\n",
       "6            7       5    673\n",
       "7            8       7    140\n",
       "8            9      10    671\n",
       "9           10       3    318"
      ]
     },
     "execution_count": 2,
     "metadata": {},
     "output_type": "execute_result"
    }
   ],
   "source": [
    "np.random.seed(42)\n",
    "item_number = np.arange(1,11)\n",
    "weight      = np.random.randint(1,15, size = 10)\n",
    "value       = np.random.randint(10,750, size = 10)\n",
    "knapsack_threshold = 35\n",
    "\n",
    "df = pd.DataFrame({'item_number':item_number,\n",
    "                   'weight':weight,\n",
    "                   'value':value})\n",
    "df"
   ]
  },
  {
   "cell_type": "markdown",
   "metadata": {},
   "source": [
    "**Target**: Pick the items (item_number) which have highest value and do not exceed weight threshold."
   ]
  },
  {
   "cell_type": "markdown",
   "metadata": {},
   "source": [
    "# Setting the Scene"
   ]
  },
  {
   "cell_type": "markdown",
   "metadata": {},
   "source": [
    "The GA begins with defining a chromosome (i.e an array of variable values) to be optimized:\n",
    "$$ [p_1, p_2, \\ldots, p_N] $$\n",
    "\n",
    "For the knapsack problem it means if an item should be put into the bag or not:\n",
    "$$ [1,0, 0, 0, 0,0,0,0,0,1] $$\n",
    "\n",
    "*Note:* Binary Encoding is just one possible representation of chromosomes. For instance, in odering problems liek the traveling salesman problem permutation encoding is used.\n",
    "\n",
    "The cost function $f$ is given as:\n",
    "$$ cost = f(p_1, p_2, \\ldots, p_N) $$\n",
    "\n",
    "The GA starts with a group of chromosomes referred to as the **population**.\n",
    "\n",
    "A population is evolved from one **generation** to the next and only the fittest survive. The selection rate $X_{rate}$ is the fraction of the population $N_{pop}$ that survives. The number of chromosomes kept is:\n",
    "\n",
    "$$ N_{keep} = X_{rate} N_{pop} $$\n",
    "\n",
    "We often keep $50 \\%$ ($X_{rate} = 0.5$) in the natural selection process. "
   ]
  },
  {
   "cell_type": "code",
   "execution_count": 4,
   "metadata": {
    "ExecuteTime": {
     "end_time": "2021-01-19T08:54:58.633174Z",
     "start_time": "2021-01-19T08:54:58.626174Z"
    }
   },
   "outputs": [
    {
     "name": "stdout",
     "output_type": "stream",
     "text": [
      "Our initial population : \n",
      " \n",
      " [[1 1 1 1 1 1 1 1 0 0]\n",
      " [1 1 1 0 1 0 0 0 0 0]\n",
      " [1 1 1 1 1 0 1 1 0 1]\n",
      " [0 1 0 1 1 0 0 0 0 0]\n",
      " [0 0 0 1 1 0 1 1 1 1]\n",
      " [0 1 0 1 1 1 0 1 0 1]\n",
      " [0 1 0 0 1 0 1 1 1 1]\n",
      " [1 1 1 1 1 1 1 0 0 1]]\n"
     ]
    }
   ],
   "source": [
    "solutions_per_pop  = 8\n",
    "pop_size           = (solutions_per_pop, df.shape[0])\n",
    "initial_population = np.random.randint(2, size = pop_size).astype(int)\n",
    "num_generations    = 50\n",
    "\n",
    "print('Our initial population : \\n \\n', initial_population)"
   ]
  },
  {
   "cell_type": "code",
   "execution_count": 5,
   "metadata": {
    "ExecuteTime": {
     "end_time": "2021-01-19T08:54:59.920193Z",
     "start_time": "2021-01-19T08:54:59.914196Z"
    }
   },
   "outputs": [
    {
     "name": "stdout",
     "output_type": "stream",
     "text": [
      "\n",
      " Selected items in our first chromosome of our starting population: \n",
      "\n",
      "1\n",
      "\n",
      "2\n",
      "\n",
      "3\n",
      "\n",
      "4\n",
      "\n",
      "5\n",
      "\n",
      "6\n",
      "\n",
      "7\n",
      "\n",
      "8\n",
      "\n",
      "\n",
      " with total weight: \n",
      "\n",
      "68\n",
      "\n",
      " and total value: \n",
      "\n",
      "2433\n"
     ]
    }
   ],
   "source": [
    "print('\\n Selected items in our first chromosome of our starting population: \\n')\n",
    "\n",
    "weight_vec = [];\n",
    "value_vec  = [];\n",
    "for i in range(len(initial_population[0])):\n",
    "    if initial_population[0][i] != 0:\n",
    "        print('{}\\n'.format(item_number[i]))\n",
    "        weight_vec.append(weight[i])\n",
    "        value_vec.append(value[i])\n",
    "print('\\n with total weight: \\n')\n",
    "print(np.array(weight_vec).sum())\n",
    "print('\\n and total value: \\n')\n",
    "print(np.array(value_vec).sum())"
   ]
  },
  {
   "cell_type": "markdown",
   "metadata": {},
   "source": [
    "The *fitness function of the knapsack problem* calculates the total value and the total weight. It is the total value of the chosen items, if the weight does not exceed the upper bound:\n",
    "\n",
    "$$ f(p_1, p_2, \\ldots, p_8) = \\sum_{i=1}^{8} p_i v_i $$\n",
    "\n",
    "$$ \\sum_{i=1}^8 p_j w_j \\leq M $$"
   ]
  },
  {
   "cell_type": "code",
   "execution_count": 6,
   "metadata": {
    "ExecuteTime": {
     "end_time": "2021-01-19T08:55:02.774300Z",
     "start_time": "2021-01-19T08:55:02.769297Z"
    }
   },
   "outputs": [],
   "source": [
    "def cal_fitness(weight, value, population, threshold):\n",
    "    \n",
    "    fitness = np.empty(population.shape[0])\n",
    "    \n",
    "    for i in range(population.shape[0]):\n",
    "        S1 = np.sum(population[i] * value)\n",
    "        S2 = np.sum(population[i] * weight)\n",
    "        if S2 <= threshold:\n",
    "            fitness[i] = S1\n",
    "        else:\n",
    "            fitness[i] = 0 \n",
    "    #print(fitness)\n",
    "\n",
    "    return(pd.DataFrame({'fitness': fitness}))"
   ]
  },
  {
   "cell_type": "code",
   "execution_count": 7,
   "metadata": {
    "ExecuteTime": {
     "end_time": "2021-01-19T08:55:03.836878Z",
     "start_time": "2021-01-19T08:55:03.824886Z"
    }
   },
   "outputs": [
    {
     "data": {
      "text/html": [
       "<div>\n",
       "<style scoped>\n",
       "    .dataframe tbody tr th:only-of-type {\n",
       "        vertical-align: middle;\n",
       "    }\n",
       "\n",
       "    .dataframe tbody tr th {\n",
       "        vertical-align: top;\n",
       "    }\n",
       "\n",
       "    .dataframe thead th {\n",
       "        text-align: right;\n",
       "    }\n",
       "</style>\n",
       "<table border=\"1\" class=\"dataframe\">\n",
       "  <thead>\n",
       "    <tr style=\"text-align: right;\">\n",
       "      <th></th>\n",
       "      <th>fitness</th>\n",
       "    </tr>\n",
       "  </thead>\n",
       "  <tbody>\n",
       "    <tr>\n",
       "      <th>0</th>\n",
       "      <td>0.0</td>\n",
       "    </tr>\n",
       "    <tr>\n",
       "      <th>1</th>\n",
       "      <td>1414.0</td>\n",
       "    </tr>\n",
       "    <tr>\n",
       "      <th>2</th>\n",
       "      <td>0.0</td>\n",
       "    </tr>\n",
       "    <tr>\n",
       "      <th>3</th>\n",
       "      <td>819.0</td>\n",
       "    </tr>\n",
       "    <tr>\n",
       "      <th>4</th>\n",
       "      <td>0.0</td>\n",
       "    </tr>\n",
       "    <tr>\n",
       "      <th>5</th>\n",
       "      <td>0.0</td>\n",
       "    </tr>\n",
       "    <tr>\n",
       "      <th>6</th>\n",
       "      <td>0.0</td>\n",
       "    </tr>\n",
       "    <tr>\n",
       "      <th>7</th>\n",
       "      <td>0.0</td>\n",
       "    </tr>\n",
       "  </tbody>\n",
       "</table>\n",
       "</div>"
      ],
      "text/plain": [
       "   fitness\n",
       "0      0.0\n",
       "1   1414.0\n",
       "2      0.0\n",
       "3    819.0\n",
       "4      0.0\n",
       "5      0.0\n",
       "6      0.0\n",
       "7      0.0"
      ]
     },
     "execution_count": 7,
     "metadata": {},
     "output_type": "execute_result"
    }
   ],
   "source": [
    "fitness_df = cal_fitness(weight, value, initial_population, knapsack_threshold)\n",
    "fitness_df\n",
    "#print('Our first individual has a fitness of : ', fitness[0])"
   ]
  },
  {
   "cell_type": "code",
   "execution_count": 8,
   "metadata": {
    "ExecuteTime": {
     "end_time": "2021-01-19T08:55:04.959857Z",
     "start_time": "2021-01-19T08:55:04.953843Z"
    }
   },
   "outputs": [
    {
     "data": {
      "text/plain": [
       "array([224, 340, 468,  97, 382, 109, 673, 140, 671, 318])"
      ]
     },
     "execution_count": 8,
     "metadata": {},
     "output_type": "execute_result"
    }
   ],
   "source": [
    "value"
   ]
  },
  {
   "cell_type": "code",
   "execution_count": 9,
   "metadata": {
    "ExecuteTime": {
     "end_time": "2021-01-19T08:55:05.896495Z",
     "start_time": "2021-01-19T08:55:05.882493Z"
    }
   },
   "outputs": [
    {
     "data": {
      "text/html": [
       "<div>\n",
       "<style scoped>\n",
       "    .dataframe tbody tr th:only-of-type {\n",
       "        vertical-align: middle;\n",
       "    }\n",
       "\n",
       "    .dataframe tbody tr th {\n",
       "        vertical-align: top;\n",
       "    }\n",
       "\n",
       "    .dataframe thead th {\n",
       "        text-align: right;\n",
       "    }\n",
       "</style>\n",
       "<table border=\"1\" class=\"dataframe\">\n",
       "  <thead>\n",
       "    <tr style=\"text-align: right;\">\n",
       "      <th></th>\n",
       "      <th>index</th>\n",
       "      <th>fitness</th>\n",
       "    </tr>\n",
       "  </thead>\n",
       "  <tbody>\n",
       "    <tr>\n",
       "      <th>0</th>\n",
       "      <td>1</td>\n",
       "      <td>1414.0</td>\n",
       "    </tr>\n",
       "    <tr>\n",
       "      <th>1</th>\n",
       "      <td>3</td>\n",
       "      <td>819.0</td>\n",
       "    </tr>\n",
       "    <tr>\n",
       "      <th>2</th>\n",
       "      <td>0</td>\n",
       "      <td>0.0</td>\n",
       "    </tr>\n",
       "    <tr>\n",
       "      <th>3</th>\n",
       "      <td>2</td>\n",
       "      <td>0.0</td>\n",
       "    </tr>\n",
       "    <tr>\n",
       "      <th>4</th>\n",
       "      <td>4</td>\n",
       "      <td>0.0</td>\n",
       "    </tr>\n",
       "    <tr>\n",
       "      <th>5</th>\n",
       "      <td>5</td>\n",
       "      <td>0.0</td>\n",
       "    </tr>\n",
       "    <tr>\n",
       "      <th>6</th>\n",
       "      <td>6</td>\n",
       "      <td>0.0</td>\n",
       "    </tr>\n",
       "    <tr>\n",
       "      <th>7</th>\n",
       "      <td>7</td>\n",
       "      <td>0.0</td>\n",
       "    </tr>\n",
       "  </tbody>\n",
       "</table>\n",
       "</div>"
      ],
      "text/plain": [
       "   index  fitness\n",
       "0      1   1414.0\n",
       "1      3    819.0\n",
       "2      0      0.0\n",
       "3      2      0.0\n",
       "4      4      0.0\n",
       "5      5      0.0\n",
       "6      6      0.0\n",
       "7      7      0.0"
      ]
     },
     "execution_count": 9,
     "metadata": {},
     "output_type": "execute_result"
    }
   ],
   "source": [
    "fitness_df.sort_values('fitness', ascending=False).reset_index()"
   ]
  },
  {
   "cell_type": "markdown",
   "metadata": {},
   "source": [
    "Finally, only the fittest survive. "
   ]
  },
  {
   "cell_type": "markdown",
   "metadata": {},
   "source": [
    "## Selection"
   ]
  },
  {
   "cell_type": "markdown",
   "metadata": {},
   "source": [
    "From the $N_{keep}$ chromosomes new offsprins are constructed. Pairing takes place unitl $N_{pop}-N_{keep}$ offsprings are born to replace the discarded chromosomes.\n",
    "\n",
    "Pairing chromosomes in a GA can be as interesting and varied as pairing in an animal species. Different selection methods are:\n",
    "\n",
    "* Pairing from top to bottom\n",
    "* Random pairing\n",
    "* Weighted random pairing\n",
    "* Cost weighting: The probability of selection is calculated from the cost of the chromosome rather than its rank in the population. \n",
    "* Tournament selection"
   ]
  },
  {
   "cell_type": "code",
   "execution_count": 10,
   "metadata": {
    "ExecuteTime": {
     "end_time": "2021-01-19T08:55:08.829667Z",
     "start_time": "2021-01-19T08:55:08.824622Z"
    }
   },
   "outputs": [],
   "source": [
    "def selection(fitness_df, population, num_parents):\n",
    "    \n",
    "    parents_df = fitness_df.sort_values('fitness', ascending=False).reset_index()[:num_parents]\n",
    "    parents    = population[parents_df['index']]\n",
    "    return(parents)"
   ]
  },
  {
   "cell_type": "code",
   "execution_count": 11,
   "metadata": {
    "ExecuteTime": {
     "end_time": "2021-01-19T08:55:09.890983Z",
     "start_time": "2021-01-19T08:55:09.881986Z"
    }
   },
   "outputs": [],
   "source": [
    "selection_df = selection(fitness_df, initial_population, int(pop_size[0]/2))"
   ]
  },
  {
   "cell_type": "code",
   "execution_count": 12,
   "metadata": {
    "ExecuteTime": {
     "end_time": "2021-01-19T08:55:10.584734Z",
     "start_time": "2021-01-19T08:55:10.578697Z"
    }
   },
   "outputs": [
    {
     "data": {
      "text/plain": [
       "array([[1, 1, 1, 0, 1, 0, 0, 0, 0, 0],\n",
       "       [0, 1, 0, 1, 1, 0, 0, 0, 0, 0],\n",
       "       [1, 1, 1, 1, 1, 1, 1, 1, 0, 0],\n",
       "       [1, 1, 1, 1, 1, 0, 1, 1, 0, 1]])"
      ]
     },
     "execution_count": 12,
     "metadata": {},
     "output_type": "execute_result"
    }
   ],
   "source": [
    "selection_df"
   ]
  },
  {
   "cell_type": "code",
   "execution_count": 15,
   "metadata": {
    "ExecuteTime": {
     "end_time": "2021-01-19T08:55:31.670635Z",
     "start_time": "2021-01-19T08:55:31.663636Z"
    }
   },
   "outputs": [
    {
     "name": "stdout",
     "output_type": "stream",
     "text": [
      "4\n",
      "[1, 1, 1, 0, 1, 0, 0, 0, 0, 0]\n",
      "[1, 1, 1, 0, 1, 0, 0, 0, 0, 0]\n",
      "[1, 1, 1, 0, 1, 0, 0, 0, 0, 0]\n",
      "=====================\n",
      "[1, 1, 1, 1, 1, 1, 1, 1, 0, 0]\n",
      "[0, 1, 0, 1, 1, 0, 0, 0, 0, 0]\n",
      "[1, 1, 1, 1, 1, 0, 0, 0, 0, 0]\n",
      "=====================\n",
      "[0, 1, 0, 1, 1, 0, 0, 0, 0, 0]\n",
      "[0, 1, 0, 1, 1, 0, 0, 0, 0, 0]\n",
      "[0, 1, 0, 1, 1, 0, 0, 0, 0, 0]\n",
      "=====================\n",
      "[1, 1, 1, 0, 1, 0, 0, 0, 0, 0]\n",
      "[1, 1, 1, 0, 1, 0, 0, 0, 0, 0]\n",
      "[1, 1, 1, 0, 1, 0, 0, 0, 0, 0]\n",
      "=====================\n"
     ]
    }
   ],
   "source": [
    "# CROSS-OVER\n",
    "random.seed(42)\n",
    "parents = selection_df;\n",
    "\n",
    "children = []\n",
    "#number of child chromosomes:\n",
    "desired_length = solutions_per_pop - len(parents)\n",
    "print(desired_length)\n",
    "\n",
    "while len(children) < desired_length :\n",
    "    male   = list(selection_df[random.randint(0,len(parents)-1)])\n",
    "    print(male)\n",
    "    female = list(selection_df[random.randint(0,len(parents)-1)])\n",
    "    print(female)\n",
    "    half = int(len(male)/2)\n",
    "    child = male[:half] + female[half:]\n",
    "    print(child)\n",
    "    children.append(child)\n",
    "    print(\"=====================\")"
   ]
  },
  {
   "cell_type": "markdown",
   "metadata": {},
   "source": [
    "## Mutation"
   ]
  },
  {
   "cell_type": "code",
   "execution_count": 16,
   "metadata": {
    "ExecuteTime": {
     "end_time": "2021-01-19T08:55:40.541350Z",
     "start_time": "2021-01-19T08:55:40.533317Z"
    }
   },
   "outputs": [
    {
     "name": "stdout",
     "output_type": "stream",
     "text": [
      "[1, 1, 1, 0, 1, 0, 0, 0, 0, 0]\n",
      "[1, 1, 1, 0, 1, 0, 0, 0, 0, 0]\n",
      "===================\n",
      "[1, 1, 1, 1, 1, 0, 0, 0, 0, 0]\n",
      "[1, 1, 1, 1, 0, 0, 0, 0, 0, 0]\n",
      "===================\n",
      "[0, 1, 0, 1, 1, 0, 0, 0, 0, 0]\n",
      "[0, 1, 0, 1, 1, 0, 0, 0, 0, 0]\n",
      "===================\n",
      "[1, 1, 1, 0, 1, 0, 0, 0, 0, 0]\n",
      "[1, 1, 1, 0, 1, 0, 0, 0, 0, 0]\n",
      "===================\n"
     ]
    }
   ],
   "source": [
    "random.seed(42)\n",
    "mutation_chance = 0.08\n",
    "\n",
    "# Mutation\n",
    "for child in children:\n",
    "    print(child)\n",
    "    if mutation_chance > random.random():\n",
    "        r = random.randint(0,len(child)-1)\n",
    "        if child[r] == 1:\n",
    "            child[r] = 0\n",
    "        else:\n",
    "            child[r] = 1\n",
    "    print(child)\n",
    "    print(\"===================\")"
   ]
  },
  {
   "cell_type": "markdown",
   "metadata": {},
   "source": [
    "## The Next Generation & Convergence"
   ]
  },
  {
   "cell_type": "code",
   "execution_count": 17,
   "metadata": {
    "ExecuteTime": {
     "end_time": "2021-01-19T08:55:42.475524Z",
     "start_time": "2021-01-19T08:55:42.468484Z"
    }
   },
   "outputs": [],
   "source": [
    "def optimize(weight, value, population, num_generations, knapsack_threshold):\n",
    "        \n",
    "    pop_size = len(population[0])\n",
    "    \n",
    "    fitness_history = [];\n",
    "    for i in range(num_generations):\n",
    "        print('Generation : ', i)\n",
    "        print(population)\n",
    "        fitness_df = cal_fitness(weight, value, population, knapsack_threshold)\n",
    "#        print(fitness_df)\n",
    "        parents_df = selection(fitness_df, population, int(len(population)/2))\n",
    "        print(parents_df)\n",
    "        print(\"\\n\")\n",
    "        print(\"\\n\")\n",
    "        fitness_history.append(fitness_df)      \n",
    "        population = cross_over_mutation(len(population), parents_df)\n",
    "        print('Population : \\n', population)\n",
    "        \n",
    "    print('Last generation: \\n{}\\n'.format(population)) \n",
    "    fitness_last_gen_df = cal_fitness(weight, value, population, knapsack_threshold)      \n",
    "    print('Fitness of the last generation: \\n{}\\n'.format(fitness_last_gen_df))\n",
    "    return(fitness_history)"
   ]
  },
  {
   "cell_type": "code",
   "execution_count": 18,
   "metadata": {
    "ExecuteTime": {
     "end_time": "2021-01-19T08:55:43.781191Z",
     "start_time": "2021-01-19T08:55:43.762195Z"
    }
   },
   "outputs": [
    {
     "name": "stdout",
     "output_type": "stream",
     "text": [
      "Generation :  0\n",
      "[[1 1 1 1 1 1 1 1 0 0]\n",
      " [1 1 1 0 1 0 0 0 0 0]\n",
      " [1 1 1 1 1 0 1 1 0 1]\n",
      " [0 1 0 1 1 0 0 0 0 0]\n",
      " [0 0 0 1 1 0 1 1 1 1]\n",
      " [0 1 0 1 1 1 0 1 0 1]\n",
      " [0 1 0 0 1 0 1 1 1 1]\n",
      " [1 1 1 1 1 1 1 0 0 1]]\n",
      "[[1 1 1 1 1 0 1 1 0 1]\n",
      " [1 1 1 1 1 1 1 0 0 1]\n",
      " [0 1 0 0 1 0 1 1 1 1]\n",
      " [1 1 1 1 1 1 1 1 0 0]]\n",
      "\n",
      "\n",
      "\n",
      "\n"
     ]
    },
    {
     "ename": "NameError",
     "evalue": "name 'cross_over_mutation' is not defined",
     "output_type": "error",
     "traceback": [
      "\u001b[1;31m---------------------------------------------------------------------------\u001b[0m",
      "\u001b[1;31mNameError\u001b[0m                                 Traceback (most recent call last)",
      "\u001b[1;32m<ipython-input-18-a715636efbf5>\u001b[0m in \u001b[0;36m<module>\u001b[1;34m\u001b[0m\n\u001b[1;32m----> 1\u001b[1;33m \u001b[0mfitness_history\u001b[0m \u001b[1;33m=\u001b[0m \u001b[0moptimize\u001b[0m\u001b[1;33m(\u001b[0m\u001b[0mweight\u001b[0m\u001b[1;33m,\u001b[0m \u001b[0mvalue\u001b[0m\u001b[1;33m,\u001b[0m \u001b[0minitial_population\u001b[0m\u001b[1;33m,\u001b[0m \u001b[1;36m50\u001b[0m\u001b[1;33m,\u001b[0m \u001b[1;36m70\u001b[0m\u001b[1;33m)\u001b[0m\u001b[1;33m\u001b[0m\u001b[1;33m\u001b[0m\u001b[0m\n\u001b[0m",
      "\u001b[1;32m<ipython-input-17-f99676f5e3fe>\u001b[0m in \u001b[0;36moptimize\u001b[1;34m(weight, value, population, num_generations, knapsack_threshold)\u001b[0m\n\u001b[0;32m     14\u001b[0m         \u001b[0mprint\u001b[0m\u001b[1;33m(\u001b[0m\u001b[1;34m\"\\n\"\u001b[0m\u001b[1;33m)\u001b[0m\u001b[1;33m\u001b[0m\u001b[1;33m\u001b[0m\u001b[0m\n\u001b[0;32m     15\u001b[0m         \u001b[0mfitness_history\u001b[0m\u001b[1;33m.\u001b[0m\u001b[0mappend\u001b[0m\u001b[1;33m(\u001b[0m\u001b[0mfitness_df\u001b[0m\u001b[1;33m)\u001b[0m\u001b[1;33m\u001b[0m\u001b[1;33m\u001b[0m\u001b[0m\n\u001b[1;32m---> 16\u001b[1;33m         \u001b[0mpopulation\u001b[0m \u001b[1;33m=\u001b[0m \u001b[0mcross_over_mutation\u001b[0m\u001b[1;33m(\u001b[0m\u001b[0mlen\u001b[0m\u001b[1;33m(\u001b[0m\u001b[0mpopulation\u001b[0m\u001b[1;33m)\u001b[0m\u001b[1;33m,\u001b[0m \u001b[0mparents_df\u001b[0m\u001b[1;33m)\u001b[0m\u001b[1;33m\u001b[0m\u001b[1;33m\u001b[0m\u001b[0m\n\u001b[0m\u001b[0;32m     17\u001b[0m         \u001b[0mprint\u001b[0m\u001b[1;33m(\u001b[0m\u001b[1;34m'Population : \\n'\u001b[0m\u001b[1;33m,\u001b[0m \u001b[0mpopulation\u001b[0m\u001b[1;33m)\u001b[0m\u001b[1;33m\u001b[0m\u001b[1;33m\u001b[0m\u001b[0m\n\u001b[0;32m     18\u001b[0m \u001b[1;33m\u001b[0m\u001b[0m\n",
      "\u001b[1;31mNameError\u001b[0m: name 'cross_over_mutation' is not defined"
     ]
    }
   ],
   "source": [
    "fitness_history = optimize(weight, value, initial_population, 50, 70)"
   ]
  },
  {
   "cell_type": "code",
   "execution_count": 19,
   "metadata": {
    "ExecuteTime": {
     "end_time": "2021-01-19T08:55:44.880598Z",
     "start_time": "2021-01-19T08:55:44.844597Z"
    }
   },
   "outputs": [
    {
     "ename": "NameError",
     "evalue": "name 'fitness_history' is not defined",
     "output_type": "error",
     "traceback": [
      "\u001b[1;31m---------------------------------------------------------------------------\u001b[0m",
      "\u001b[1;31mNameError\u001b[0m                                 Traceback (most recent call last)",
      "\u001b[1;32m<ipython-input-19-5c7598a6ff4f>\u001b[0m in \u001b[0;36m<module>\u001b[1;34m\u001b[0m\n\u001b[1;32m----> 1\u001b[1;33m \u001b[0mfitness_history_mean\u001b[0m \u001b[1;33m=\u001b[0m \u001b[1;33m[\u001b[0m\u001b[0mnp\u001b[0m\u001b[1;33m.\u001b[0m\u001b[0mmean\u001b[0m\u001b[1;33m(\u001b[0m\u001b[0mfitness\u001b[0m\u001b[1;33m)\u001b[0m \u001b[1;32mfor\u001b[0m \u001b[0mfitness\u001b[0m \u001b[1;32min\u001b[0m \u001b[0mfitness_history\u001b[0m\u001b[1;33m]\u001b[0m\u001b[1;33m\u001b[0m\u001b[1;33m\u001b[0m\u001b[0m\n\u001b[0m\u001b[0;32m      2\u001b[0m \u001b[0mfitness_history_max\u001b[0m \u001b[1;33m=\u001b[0m \u001b[1;33m[\u001b[0m\u001b[0mnp\u001b[0m\u001b[1;33m.\u001b[0m\u001b[0mmax\u001b[0m\u001b[1;33m(\u001b[0m\u001b[0mfitness\u001b[0m\u001b[1;33m)\u001b[0m \u001b[1;32mfor\u001b[0m \u001b[0mfitness\u001b[0m \u001b[1;32min\u001b[0m \u001b[0mfitness_history\u001b[0m\u001b[1;33m]\u001b[0m\u001b[1;33m\u001b[0m\u001b[1;33m\u001b[0m\u001b[0m\n\u001b[0;32m      3\u001b[0m \u001b[0mplt\u001b[0m\u001b[1;33m.\u001b[0m\u001b[0mplot\u001b[0m\u001b[1;33m(\u001b[0m\u001b[0mlist\u001b[0m\u001b[1;33m(\u001b[0m\u001b[0mrange\u001b[0m\u001b[1;33m(\u001b[0m\u001b[0mnum_generations\u001b[0m\u001b[1;33m)\u001b[0m\u001b[1;33m)\u001b[0m\u001b[1;33m,\u001b[0m \u001b[0mfitness_history_mean\u001b[0m\u001b[1;33m,\u001b[0m \u001b[0mlabel\u001b[0m \u001b[1;33m=\u001b[0m \u001b[1;34m'Mean Fitness'\u001b[0m\u001b[1;33m)\u001b[0m\u001b[1;33m\u001b[0m\u001b[1;33m\u001b[0m\u001b[0m\n\u001b[0;32m      4\u001b[0m \u001b[0mplt\u001b[0m\u001b[1;33m.\u001b[0m\u001b[0mplot\u001b[0m\u001b[1;33m(\u001b[0m\u001b[0mlist\u001b[0m\u001b[1;33m(\u001b[0m\u001b[0mrange\u001b[0m\u001b[1;33m(\u001b[0m\u001b[0mnum_generations\u001b[0m\u001b[1;33m)\u001b[0m\u001b[1;33m)\u001b[0m\u001b[1;33m,\u001b[0m \u001b[0mfitness_history_max\u001b[0m\u001b[1;33m,\u001b[0m \u001b[0mlabel\u001b[0m \u001b[1;33m=\u001b[0m \u001b[1;34m'Max Fitness'\u001b[0m\u001b[1;33m)\u001b[0m\u001b[1;33m\u001b[0m\u001b[1;33m\u001b[0m\u001b[0m\n\u001b[0;32m      5\u001b[0m \u001b[0mplt\u001b[0m\u001b[1;33m.\u001b[0m\u001b[0mlegend\u001b[0m\u001b[1;33m(\u001b[0m\u001b[1;33m)\u001b[0m\u001b[1;33m\u001b[0m\u001b[1;33m\u001b[0m\u001b[0m\n",
      "\u001b[1;31mNameError\u001b[0m: name 'fitness_history' is not defined"
     ]
    }
   ],
   "source": [
    "fitness_history_mean = [np.mean(fitness) for fitness in fitness_history]\n",
    "fitness_history_max = [np.max(fitness) for fitness in fitness_history]\n",
    "plt.plot(list(range(num_generations)), fitness_history_mean, label = 'Mean Fitness')\n",
    "plt.plot(list(range(num_generations)), fitness_history_max, label = 'Max Fitness')\n",
    "plt.legend()\n",
    "plt.title('Fitness through the generations')\n",
    "plt.xlabel('Generations')\n",
    "plt.ylabel('Fitness')\n",
    "plt.show()\n",
    "print(np.asarray(fitness_history).shape)"
   ]
  },
  {
   "cell_type": "code",
   "execution_count": 20,
   "metadata": {
    "ExecuteTime": {
     "end_time": "2021-01-19T08:55:50.770291Z",
     "start_time": "2021-01-19T08:55:50.765320Z"
    }
   },
   "outputs": [],
   "source": [
    "def cal_fitness(weight, value, population, threshold):\n",
    "    \n",
    "    fitness = np.empty(population.shape[0])\n",
    "    \n",
    "    for i in range(population.shape[0]):\n",
    "        S1 = np.sum(population[i] * value)\n",
    "        S2 = np.sum(population[i] * weight)\n",
    "        if S2 <= threshold:\n",
    "            fitness[i] = S1\n",
    "        else:\n",
    "            fitness[i] = 0 \n",
    "    #print(fitness)\n",
    "\n",
    "    return(pd.DataFrame({'fitness': fitness}))"
   ]
  },
  {
   "cell_type": "code",
   "execution_count": 21,
   "metadata": {
    "ExecuteTime": {
     "end_time": "2021-01-19T08:55:52.939735Z",
     "start_time": "2021-01-19T08:55:52.927742Z"
    }
   },
   "outputs": [],
   "source": [
    "# CROSS-OVER\n",
    "def cross_over_mutation(solutions_per_pop, parents):\n",
    "    \n",
    "    #parents = selection_df;\n",
    "    children = []\n",
    "    desired_length = solutions_per_pop - len(parents)\n",
    " \n",
    "    while len(children) < desired_length :\n",
    "        male   = list(parents[random.randint(0,len(parents)-1)])\n",
    "        female = list(parents[random.randint(0,len(parents)-1)])\n",
    "        half = int(len(male)/2)\n",
    "        child = male[:half] + female[half:]\n",
    "        children.append(child)\n",
    "        # print(\"=====================\")\n",
    "        \n",
    "    mutation_chance = 0.08\n",
    "\n",
    "    # Mutation\n",
    "    for child in children:\n",
    "        if mutation_chance > random.random():\n",
    "            r = random.randint(0,len(child)-1)\n",
    "            if child[r] == 1:\n",
    "                child[r] = 0\n",
    "            else:\n",
    "                child[r] = 1\n",
    " \n",
    "    population = np.concatenate([parents, children], axis = 0)\n",
    "    return(population)"
   ]
  },
  {
   "cell_type": "code",
   "execution_count": 22,
   "metadata": {
    "ExecuteTime": {
     "end_time": "2021-01-19T08:55:54.934621Z",
     "start_time": "2021-01-19T08:55:54.930651Z"
    }
   },
   "outputs": [],
   "source": [
    "def selection(fitness_df, population, num_parents):\n",
    "    \n",
    "    # print(fitness_df)\n",
    "    parents_df = fitness_df.sort_values('fitness', ascending=False).reset_index()[:num_parents]\n",
    "    print(parents_df)\n",
    "    parents    = population[parents_df['index']]\n",
    "    return(parents)"
   ]
  },
  {
   "cell_type": "markdown",
   "metadata": {},
   "source": [
    "# Traveling Salesman"
   ]
  },
  {
   "cell_type": "markdown",
   "metadata": {},
   "source": [
    "*Given a list of cities and the distances between each pair of cities, what is the shortest possible route that visits each city and returns to the original city?*"
   ]
  },
  {
   "cell_type": "markdown",
   "metadata": {},
   "source": [
    "https://towardsdatascience.com/evolution-of-a-salesman-a-complete-genetic-algorithm-tutorial-for-python-6fe5d2b3ca35"
   ]
  }
 ],
 "metadata": {
  "hide_input": false,
  "kernelspec": {
   "display_name": "Python 3",
   "language": "python",
   "name": "python3"
  },
  "language_info": {
   "codemirror_mode": {
    "name": "ipython",
    "version": 3
   },
   "file_extension": ".py",
   "mimetype": "text/x-python",
   "name": "python",
   "nbconvert_exporter": "python",
   "pygments_lexer": "ipython3",
   "version": "3.7.1"
  },
  "toc": {
   "base_numbering": 1,
   "nav_menu": {},
   "number_sections": true,
   "sideBar": true,
   "skip_h1_title": false,
   "title_cell": "Table of Contents",
   "title_sidebar": "Contents",
   "toc_cell": false,
   "toc_position": {},
   "toc_section_display": true,
   "toc_window_display": true
  }
 },
 "nbformat": 4,
 "nbformat_minor": 4
}
