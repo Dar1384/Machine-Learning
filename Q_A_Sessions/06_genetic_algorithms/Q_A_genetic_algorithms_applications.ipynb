{
 "cells": [
  {
   "cell_type": "markdown",
   "metadata": {},
   "source": [
    "# Example 1: The Knapsack Problem "
   ]
  },
  {
   "cell_type": "markdown",
   "metadata": {},
   "source": [
    "# Preamble"
   ]
  },
  {
   "cell_type": "code",
   "execution_count": 2,
   "metadata": {
    "ExecuteTime": {
     "end_time": "2021-07-19T09:10:39.093369Z",
     "start_time": "2021-07-19T09:10:39.086325Z"
    }
   },
   "outputs": [],
   "source": [
    "# Common imports\n",
    "import numpy as np # numpy is THE toolbox for scientific computing with python\n",
    "import pandas as pd # pandas provides THE data structure and data analysis tools for data scientists \n",
    "\n",
    "# maximum number of columns\n",
    "pd.set_option(\"display.max_rows\", 101)\n",
    "pd.set_option(\"display.max_columns\", 101)\n",
    "\n",
    "# To plot pretty figures\n",
    "%matplotlib inline\n",
    "import matplotlib as mpl\n",
    "import matplotlib.pyplot as plt\n",
    "mpl.rc('axes', labelsize=14)\n",
    "mpl.rc('xtick', labelsize=12)\n",
    "mpl.rc('ytick', labelsize=12)\n",
    "\n",
    "from warnings import filterwarnings\n",
    "filterwarnings('ignore')"
   ]
  },
  {
   "cell_type": "markdown",
   "metadata": {},
   "source": [
    "# The Knapsack Problem"
   ]
  },
  {
   "cell_type": "markdown",
   "metadata": {},
   "source": [
    "We have a bag which can carry 35 kgs of weight. We can choose between 10 items, each with a specifc weight and price. We want to pick the items which maximize the value, i.e. the total price without exceeding the knapsack weight."
   ]
  },
  {
   "cell_type": "markdown",
   "metadata": {},
   "source": [
    "Let us start with defining the items in our knapsack:"
   ]
  },
  {
   "cell_type": "code",
   "execution_count": 4,
   "metadata": {
    "ExecuteTime": {
     "end_time": "2021-07-19T09:13:43.869309Z",
     "start_time": "2021-07-19T09:13:43.858308Z"
    }
   },
   "outputs": [
    {
     "data": {
      "text/html": [
       "<div>\n",
       "<style scoped>\n",
       "    .dataframe tbody tr th:only-of-type {\n",
       "        vertical-align: middle;\n",
       "    }\n",
       "\n",
       "    .dataframe tbody tr th {\n",
       "        vertical-align: top;\n",
       "    }\n",
       "\n",
       "    .dataframe thead th {\n",
       "        text-align: right;\n",
       "    }\n",
       "</style>\n",
       "<table border=\"1\" class=\"dataframe\">\n",
       "  <thead>\n",
       "    <tr style=\"text-align: right;\">\n",
       "      <th></th>\n",
       "      <th>item_number</th>\n",
       "      <th>weight</th>\n",
       "      <th>value</th>\n",
       "    </tr>\n",
       "  </thead>\n",
       "  <tbody>\n",
       "    <tr>\n",
       "      <th>0</th>\n",
       "      <td>1</td>\n",
       "      <td>7</td>\n",
       "      <td>224</td>\n",
       "    </tr>\n",
       "    <tr>\n",
       "      <th>1</th>\n",
       "      <td>2</td>\n",
       "      <td>4</td>\n",
       "      <td>340</td>\n",
       "    </tr>\n",
       "    <tr>\n",
       "      <th>2</th>\n",
       "      <td>3</td>\n",
       "      <td>13</td>\n",
       "      <td>468</td>\n",
       "    </tr>\n",
       "    <tr>\n",
       "      <th>3</th>\n",
       "      <td>4</td>\n",
       "      <td>11</td>\n",
       "      <td>97</td>\n",
       "    </tr>\n",
       "    <tr>\n",
       "      <th>4</th>\n",
       "      <td>5</td>\n",
       "      <td>8</td>\n",
       "      <td>382</td>\n",
       "    </tr>\n",
       "    <tr>\n",
       "      <th>5</th>\n",
       "      <td>6</td>\n",
       "      <td>13</td>\n",
       "      <td>109</td>\n",
       "    </tr>\n",
       "    <tr>\n",
       "      <th>6</th>\n",
       "      <td>7</td>\n",
       "      <td>5</td>\n",
       "      <td>673</td>\n",
       "    </tr>\n",
       "    <tr>\n",
       "      <th>7</th>\n",
       "      <td>8</td>\n",
       "      <td>7</td>\n",
       "      <td>140</td>\n",
       "    </tr>\n",
       "    <tr>\n",
       "      <th>8</th>\n",
       "      <td>9</td>\n",
       "      <td>10</td>\n",
       "      <td>671</td>\n",
       "    </tr>\n",
       "    <tr>\n",
       "      <th>9</th>\n",
       "      <td>10</td>\n",
       "      <td>3</td>\n",
       "      <td>318</td>\n",
       "    </tr>\n",
       "  </tbody>\n",
       "</table>\n",
       "</div>"
      ],
      "text/plain": [
       "   item_number  weight  value\n",
       "0            1       7    224\n",
       "1            2       4    340\n",
       "2            3      13    468\n",
       "3            4      11     97\n",
       "4            5       8    382\n",
       "5            6      13    109\n",
       "6            7       5    673\n",
       "7            8       7    140\n",
       "8            9      10    671\n",
       "9           10       3    318"
      ]
     },
     "metadata": {},
     "output_type": "display_data"
    }
   ],
   "source": [
    "np.random.seed(42)\n",
    "item_number = np.arange(1,11)\n",
    "weight      = np.random.randint(1,15, size = 10)\n",
    "value       = np.random.randint(10,750, size = 10)\n",
    "knapsack_threshold = 35\n",
    "\n",
    "df = pd.DataFrame({'item_number':item_number,\n",
    "                   'weight':weight,\n",
    "                   'value':value})\n",
    "display(df)"
   ]
  },
  {
   "cell_type": "markdown",
   "metadata": {},
   "source": [
    "**Target**: Pick the items (item_number) which have highest value and do not exceed weight threshold."
   ]
  },
  {
   "cell_type": "markdown",
   "metadata": {},
   "source": [
    "# Setting the Scene"
   ]
  },
  {
   "cell_type": "markdown",
   "metadata": {},
   "source": [
    "The GA begins with defining a chromosome (i.e an array of variable values) to be optimized:\n",
    "$$ [p_1, p_2, \\ldots, p_N] $$\n",
    "\n",
    "For the knapsack problem it means if an item should be put into the bag or not:\n",
    "$$ [1,0, 0, 0, 0,0,0,0,0,1] $$\n",
    "\n",
    "*Note:* Binary Encoding is just one possible representation of chromosomes. For instance, in ordering problems like the traveling salesman problem **permutation encoding** is used.\n",
    "\n",
    "The **cost function** $f$ is given as:\n",
    "$$ cost = f(p_1, p_2, \\ldots, p_N) $$\n",
    "\n",
    "Note that the notions **cost function** and **fitness function** are normally used. The fitness function is the negative cost function. \n",
    "\n",
    "The GA starts with a group of chromosomes referred to as the **population**.\n",
    "\n",
    "A population is evolved from one **generation** to the next and only the fittest survive. The selection rate $X_{rate}$ is the fraction of the population $N_{pop}$ that survives. The number of chromosomes kept is:\n",
    "\n",
    "$$ N_{keep} = X_{rate} N_{pop} $$\n",
    "\n",
    "We often keep $50 \\%$ ($X_{rate} = 0.5$) in the natural selection process. "
   ]
  },
  {
   "cell_type": "markdown",
   "metadata": {},
   "source": [
    "# Initial population"
   ]
  },
  {
   "cell_type": "code",
   "execution_count": 28,
   "metadata": {
    "ExecuteTime": {
     "end_time": "2021-07-19T09:28:25.201165Z",
     "start_time": "2021-07-19T09:28:25.195167Z"
    }
   },
   "outputs": [
    {
     "name": "stdout",
     "output_type": "stream",
     "text": [
      "Our initial population : \n",
      " \n",
      " [[0 1 0 0 0 1 0 0 0 1]\n",
      " [0 0 0 0 1 0 1 1 1 0]\n",
      " [1 0 1 1 1 1 1 1 1 1]\n",
      " [0 0 1 1 1 0 1 0 0 0]\n",
      " [0 0 1 1 1 1 1 0 1 1]\n",
      " [0 1 0 1 0 1 1 0 0 0]\n",
      " [0 0 0 0 0 1 1 0 1 1]\n",
      " [1 1 0 1 0 1 1 1 0 1]]\n"
     ]
    }
   ],
   "source": [
    "np.random.seed(42)\n",
    "\n",
    "solutions_per_pop  = 8\n",
    "pop_size           = (solutions_per_pop, df.shape[0])\n",
    "initial_population = np.random.randint(2, size = pop_size).astype(int)\n",
    "# num_generations    = 50\n",
    "\n",
    "print('Our initial population : \\n \\n', initial_population)"
   ]
  },
  {
   "cell_type": "code",
   "execution_count": 31,
   "metadata": {
    "ExecuteTime": {
     "end_time": "2021-07-19T09:31:05.471245Z",
     "start_time": "2021-07-19T09:31:05.462294Z"
    }
   },
   "outputs": [
    {
     "data": {
      "text/plain": [
       "10"
      ]
     },
     "execution_count": 31,
     "metadata": {},
     "output_type": "execute_result"
    }
   ],
   "source": [
    "len(initial_population[0])"
   ]
  },
  {
   "cell_type": "code",
   "execution_count": 36,
   "metadata": {
    "ExecuteTime": {
     "end_time": "2021-07-19T09:35:05.195809Z",
     "start_time": "2021-07-19T09:35:05.188803Z"
    }
   },
   "outputs": [
    {
     "data": {
      "text/html": [
       "<div>\n",
       "<style scoped>\n",
       "    .dataframe tbody tr th:only-of-type {\n",
       "        vertical-align: middle;\n",
       "    }\n",
       "\n",
       "    .dataframe tbody tr th {\n",
       "        vertical-align: top;\n",
       "    }\n",
       "\n",
       "    .dataframe thead th {\n",
       "        text-align: right;\n",
       "    }\n",
       "</style>\n",
       "<table border=\"1\" class=\"dataframe\">\n",
       "  <thead>\n",
       "    <tr style=\"text-align: right;\">\n",
       "      <th></th>\n",
       "      <th>item_number</th>\n",
       "      <th>weight</th>\n",
       "      <th>value</th>\n",
       "    </tr>\n",
       "  </thead>\n",
       "  <tbody>\n",
       "    <tr>\n",
       "      <th>0</th>\n",
       "      <td>1</td>\n",
       "      <td>7</td>\n",
       "      <td>224</td>\n",
       "    </tr>\n",
       "    <tr>\n",
       "      <th>1</th>\n",
       "      <td>2</td>\n",
       "      <td>4</td>\n",
       "      <td>340</td>\n",
       "    </tr>\n",
       "    <tr>\n",
       "      <th>2</th>\n",
       "      <td>3</td>\n",
       "      <td>13</td>\n",
       "      <td>468</td>\n",
       "    </tr>\n",
       "    <tr>\n",
       "      <th>3</th>\n",
       "      <td>4</td>\n",
       "      <td>11</td>\n",
       "      <td>97</td>\n",
       "    </tr>\n",
       "    <tr>\n",
       "      <th>4</th>\n",
       "      <td>5</td>\n",
       "      <td>8</td>\n",
       "      <td>382</td>\n",
       "    </tr>\n",
       "    <tr>\n",
       "      <th>5</th>\n",
       "      <td>6</td>\n",
       "      <td>13</td>\n",
       "      <td>109</td>\n",
       "    </tr>\n",
       "    <tr>\n",
       "      <th>6</th>\n",
       "      <td>7</td>\n",
       "      <td>5</td>\n",
       "      <td>673</td>\n",
       "    </tr>\n",
       "    <tr>\n",
       "      <th>7</th>\n",
       "      <td>8</td>\n",
       "      <td>7</td>\n",
       "      <td>140</td>\n",
       "    </tr>\n",
       "    <tr>\n",
       "      <th>8</th>\n",
       "      <td>9</td>\n",
       "      <td>10</td>\n",
       "      <td>671</td>\n",
       "    </tr>\n",
       "    <tr>\n",
       "      <th>9</th>\n",
       "      <td>10</td>\n",
       "      <td>3</td>\n",
       "      <td>318</td>\n",
       "    </tr>\n",
       "  </tbody>\n",
       "</table>\n",
       "</div>"
      ],
      "text/plain": [
       "   item_number  weight  value\n",
       "0            1       7    224\n",
       "1            2       4    340\n",
       "2            3      13    468\n",
       "3            4      11     97\n",
       "4            5       8    382\n",
       "5            6      13    109\n",
       "6            7       5    673\n",
       "7            8       7    140\n",
       "8            9      10    671\n",
       "9           10       3    318"
      ]
     },
     "execution_count": 36,
     "metadata": {},
     "output_type": "execute_result"
    }
   ],
   "source": [
    "df"
   ]
  },
  {
   "cell_type": "code",
   "execution_count": 34,
   "metadata": {
    "ExecuteTime": {
     "end_time": "2021-07-19T09:34:30.132314Z",
     "start_time": "2021-07-19T09:34:30.117310Z"
    }
   },
   "outputs": [
    {
     "name": "stdout",
     "output_type": "stream",
     "text": [
      "\n",
      " Selected items in our first chromosome of our starting population: \n",
      "\n",
      "2\n",
      "\n",
      "Weight: 4 \n",
      "\n",
      "6\n",
      "\n",
      "Weight: 13 \n",
      "\n",
      "10\n",
      "\n",
      "Weight: 3 \n",
      "\n",
      "\n",
      " with total weight: \n",
      "\n",
      "20\n",
      "\n",
      " and total value: \n",
      "\n",
      "767\n"
     ]
    }
   ],
   "source": [
    "print('\\n Selected items in our first chromosome of our starting population: \\n')\n",
    "\n",
    "weight_vec = [];\n",
    "value_vec  = [];\n",
    "for i in range(len(initial_population[0])):\n",
    "    if initial_population[0][i] != 0:\n",
    "        print('{}\\n'.format(item_number[i]))\n",
    "        print('Weight: {} \\n'.format(weight[i]))\n",
    "        weight_vec.append(weight[i])\n",
    "        value_vec.append(value[i])\n",
    "print('\\n with total weight: \\n')\n",
    "print(np.array(weight_vec).sum())\n",
    "print('\\n and total value: \\n')\n",
    "print(np.array(value_vec).sum())"
   ]
  },
  {
   "cell_type": "markdown",
   "metadata": {},
   "source": [
    "The **fitness function of the knapsack problem** calculates the total value and the total weight. It is the total value of the chosen items, if the weight does not exceed the upper bound:\n",
    "\n",
    "$$ f(p_1, p_2, \\ldots, p_8) = \\sum_{i=1}^{8} p_i v_i $$\n",
    "\n",
    "$$ \\sum_{i=1}^8 p_j w_j \\leq M $$"
   ]
  },
  {
   "cell_type": "code",
   "execution_count": 37,
   "metadata": {
    "ExecuteTime": {
     "end_time": "2021-07-19T09:36:40.916456Z",
     "start_time": "2021-07-19T09:36:40.910453Z"
    }
   },
   "outputs": [],
   "source": [
    "def cal_fitness(weight, value, population, threshold):\n",
    "    \n",
    "    fitness = np.empty(population.shape[0])\n",
    "    \n",
    "    for i in range(population.shape[0]):\n",
    "        S1 = np.sum(population[i] * value)\n",
    "        S2 = np.sum(population[i] * weight)\n",
    "        if S2 <= threshold:\n",
    "            fitness[i] = S1\n",
    "        else:\n",
    "            fitness[i] = 0 \n",
    "\n",
    "    return(pd.DataFrame({'fitness': fitness}))"
   ]
  },
  {
   "cell_type": "code",
   "execution_count": 39,
   "metadata": {
    "ExecuteTime": {
     "end_time": "2021-07-19T09:36:54.955931Z",
     "start_time": "2021-07-19T09:36:54.945902Z"
    }
   },
   "outputs": [
    {
     "data": {
      "text/html": [
       "<div>\n",
       "<style scoped>\n",
       "    .dataframe tbody tr th:only-of-type {\n",
       "        vertical-align: middle;\n",
       "    }\n",
       "\n",
       "    .dataframe tbody tr th {\n",
       "        vertical-align: top;\n",
       "    }\n",
       "\n",
       "    .dataframe thead th {\n",
       "        text-align: right;\n",
       "    }\n",
       "</style>\n",
       "<table border=\"1\" class=\"dataframe\">\n",
       "  <thead>\n",
       "    <tr style=\"text-align: right;\">\n",
       "      <th></th>\n",
       "      <th>fitness</th>\n",
       "    </tr>\n",
       "  </thead>\n",
       "  <tbody>\n",
       "    <tr>\n",
       "      <th>0</th>\n",
       "      <td>767.0</td>\n",
       "    </tr>\n",
       "    <tr>\n",
       "      <th>1</th>\n",
       "      <td>1866.0</td>\n",
       "    </tr>\n",
       "    <tr>\n",
       "      <th>2</th>\n",
       "      <td>0.0</td>\n",
       "    </tr>\n",
       "    <tr>\n",
       "      <th>3</th>\n",
       "      <td>0.0</td>\n",
       "    </tr>\n",
       "    <tr>\n",
       "      <th>4</th>\n",
       "      <td>0.0</td>\n",
       "    </tr>\n",
       "    <tr>\n",
       "      <th>5</th>\n",
       "      <td>1219.0</td>\n",
       "    </tr>\n",
       "    <tr>\n",
       "      <th>6</th>\n",
       "      <td>1771.0</td>\n",
       "    </tr>\n",
       "    <tr>\n",
       "      <th>7</th>\n",
       "      <td>0.0</td>\n",
       "    </tr>\n",
       "  </tbody>\n",
       "</table>\n",
       "</div>"
      ],
      "text/plain": [
       "   fitness\n",
       "0    767.0\n",
       "1   1866.0\n",
       "2      0.0\n",
       "3      0.0\n",
       "4      0.0\n",
       "5   1219.0\n",
       "6   1771.0\n",
       "7      0.0"
      ]
     },
     "metadata": {},
     "output_type": "display_data"
    }
   ],
   "source": [
    "fitness_df = cal_fitness(weight, value, initial_population, knapsack_threshold)\n",
    "display(fitness_df)"
   ]
  },
  {
   "cell_type": "markdown",
   "metadata": {},
   "source": [
    "Let us order the list for highest fitness value:"
   ]
  },
  {
   "cell_type": "code",
   "execution_count": 44,
   "metadata": {
    "ExecuteTime": {
     "end_time": "2021-07-19T09:40:30.925367Z",
     "start_time": "2021-07-19T09:40:30.910363Z"
    }
   },
   "outputs": [
    {
     "data": {
      "text/html": [
       "<div>\n",
       "<style scoped>\n",
       "    .dataframe tbody tr th:only-of-type {\n",
       "        vertical-align: middle;\n",
       "    }\n",
       "\n",
       "    .dataframe tbody tr th {\n",
       "        vertical-align: top;\n",
       "    }\n",
       "\n",
       "    .dataframe thead th {\n",
       "        text-align: right;\n",
       "    }\n",
       "</style>\n",
       "<table border=\"1\" class=\"dataframe\">\n",
       "  <thead>\n",
       "    <tr style=\"text-align: right;\">\n",
       "      <th></th>\n",
       "      <th>index</th>\n",
       "      <th>fitness</th>\n",
       "    </tr>\n",
       "  </thead>\n",
       "  <tbody>\n",
       "    <tr>\n",
       "      <th>0</th>\n",
       "      <td>1</td>\n",
       "      <td>1866.0</td>\n",
       "    </tr>\n",
       "    <tr>\n",
       "      <th>1</th>\n",
       "      <td>6</td>\n",
       "      <td>1771.0</td>\n",
       "    </tr>\n",
       "    <tr>\n",
       "      <th>2</th>\n",
       "      <td>5</td>\n",
       "      <td>1219.0</td>\n",
       "    </tr>\n",
       "    <tr>\n",
       "      <th>3</th>\n",
       "      <td>0</td>\n",
       "      <td>767.0</td>\n",
       "    </tr>\n",
       "    <tr>\n",
       "      <th>4</th>\n",
       "      <td>2</td>\n",
       "      <td>0.0</td>\n",
       "    </tr>\n",
       "    <tr>\n",
       "      <th>5</th>\n",
       "      <td>3</td>\n",
       "      <td>0.0</td>\n",
       "    </tr>\n",
       "    <tr>\n",
       "      <th>6</th>\n",
       "      <td>4</td>\n",
       "      <td>0.0</td>\n",
       "    </tr>\n",
       "    <tr>\n",
       "      <th>7</th>\n",
       "      <td>7</td>\n",
       "      <td>0.0</td>\n",
       "    </tr>\n",
       "  </tbody>\n",
       "</table>\n",
       "</div>"
      ],
      "text/plain": [
       "   index  fitness\n",
       "0      1   1866.0\n",
       "1      6   1771.0\n",
       "2      5   1219.0\n",
       "3      0    767.0\n",
       "4      2      0.0\n",
       "5      3      0.0\n",
       "6      4      0.0\n",
       "7      7      0.0"
      ]
     },
     "execution_count": 44,
     "metadata": {},
     "output_type": "execute_result"
    }
   ],
   "source": [
    "fitness_df.sort_values('fitness', ascending=False).reset_index()"
   ]
  },
  {
   "cell_type": "markdown",
   "metadata": {},
   "source": [
    "Finally, only the fittest survive and the other elements of the initial population are discarded. "
   ]
  },
  {
   "cell_type": "markdown",
   "metadata": {},
   "source": [
    "# Selection"
   ]
  },
  {
   "cell_type": "markdown",
   "metadata": {},
   "source": [
    "From the $N_{keep}$ chromosomes new offsprins are constructed. Pairing takes place unitl $N_{pop}-N_{keep}$ offsprings are born to replace the discarded chromosomes.\n",
    "\n",
    "Pairing chromosomes in a GA can be as interesting and varied as pairing in an animal species. Different selection methods are:\n",
    "\n",
    "* Pairing from top to bottom\n",
    "* Random pairing\n",
    "* Weighted random pairing\n",
    "* Cost weighting: The probability of selection is calculated from the cost of the chromosome rather than its rank in the population. \n",
    "* Tournament selection"
   ]
  },
  {
   "cell_type": "code",
   "execution_count": 45,
   "metadata": {
    "ExecuteTime": {
     "end_time": "2021-07-19T10:08:30.475969Z",
     "start_time": "2021-07-19T10:08:30.471968Z"
    }
   },
   "outputs": [],
   "source": [
    "def selection(fitness_df, population, num_parents):\n",
    "    \n",
    "    parents_df = fitness_df.sort_values('fitness', ascending=False).reset_index()[:num_parents]\n",
    "    parents    = population[parents_df['index']]\n",
    "    return(parents)"
   ]
  },
  {
   "cell_type": "markdown",
   "metadata": {},
   "source": [
    "We use 50% of our initial population for constructing offsprings:"
   ]
  },
  {
   "cell_type": "code",
   "execution_count": 46,
   "metadata": {
    "ExecuteTime": {
     "end_time": "2021-07-19T10:08:32.017712Z",
     "start_time": "2021-07-19T10:08:32.011710Z"
    }
   },
   "outputs": [],
   "source": [
    "selection_df = selection(fitness_df, initial_population, int(pop_size[0]/2))"
   ]
  },
  {
   "cell_type": "code",
   "execution_count": 47,
   "metadata": {
    "ExecuteTime": {
     "end_time": "2021-07-19T10:08:33.122071Z",
     "start_time": "2021-07-19T10:08:33.117035Z"
    }
   },
   "outputs": [
    {
     "data": {
      "text/plain": [
       "array([[0, 0, 0, 0, 1, 0, 1, 1, 1, 0],\n",
       "       [0, 0, 0, 0, 0, 1, 1, 0, 1, 1],\n",
       "       [0, 1, 0, 1, 0, 1, 1, 0, 0, 0],\n",
       "       [0, 1, 0, 0, 0, 1, 0, 0, 0, 1]])"
      ]
     },
     "execution_count": 47,
     "metadata": {},
     "output_type": "execute_result"
    }
   ],
   "source": [
    "selection_df"
   ]
  },
  {
   "cell_type": "code",
   "execution_count": 104,
   "metadata": {
    "ExecuteTime": {
     "end_time": "2021-07-19T10:10:50.720422Z",
     "start_time": "2021-07-19T10:10:50.714423Z"
    }
   },
   "outputs": [
    {
     "data": {
      "text/plain": [
       "1"
      ]
     },
     "execution_count": 104,
     "metadata": {},
     "output_type": "execute_result"
    }
   ],
   "source": [
    "np.random.randint(0,len(parents))"
   ]
  },
  {
   "cell_type": "code",
   "execution_count": 106,
   "metadata": {
    "ExecuteTime": {
     "end_time": "2021-07-19T10:11:22.533161Z",
     "start_time": "2021-07-19T10:11:22.524196Z"
    }
   },
   "outputs": [
    {
     "name": "stdout",
     "output_type": "stream",
     "text": [
      "4\n",
      "MALE   :  [0, 1, 0, 1, 0, 1, 1, 0, 0, 0]\n",
      "FEMALE :  [0, 1, 0, 0, 0, 1, 0, 0, 0, 1]\n",
      "CHILD  :  [0, 1, 0, 1, 0, 1, 0, 0, 0, 1]\n",
      "=====================\n",
      "MALE   :  [0, 0, 0, 0, 1, 0, 1, 1, 1, 0]\n",
      "FEMALE :  [0, 1, 0, 1, 0, 1, 1, 0, 0, 0]\n",
      "CHILD  :  [0, 0, 0, 0, 1, 1, 1, 0, 0, 0]\n",
      "=====================\n",
      "MALE   :  [0, 1, 0, 1, 0, 1, 1, 0, 0, 0]\n",
      "FEMALE :  [0, 1, 0, 0, 0, 1, 0, 0, 0, 1]\n",
      "CHILD  :  [0, 1, 0, 1, 0, 1, 0, 0, 0, 1]\n",
      "=====================\n",
      "MALE   :  [0, 0, 0, 0, 1, 0, 1, 1, 1, 0]\n",
      "FEMALE :  [0, 0, 0, 0, 1, 0, 1, 1, 1, 0]\n",
      "CHILD  :  [0, 0, 0, 0, 1, 0, 1, 1, 1, 0]\n",
      "=====================\n"
     ]
    }
   ],
   "source": [
    "# CROSS-OVER\n",
    "np.random.seed(42)\n",
    "parents = selection_df;\n",
    "\n",
    "children = [];\n",
    "#number of child chromosomes:\n",
    "desired_length = solutions_per_pop - len(parents)\n",
    "print(desired_length)\n",
    "\n",
    "while len(children) < desired_length :\n",
    "    male   = list(selection_df[np.random.randint(0,len(parents))])\n",
    "    print('MALE   : ', male)\n",
    "    female = list(selection_df[np.random.randint(0,len(parents))])\n",
    "    print('FEMALE : ', female)\n",
    "    half = int(len(male)/2)\n",
    "    child = male[:half] + female[half:]\n",
    "    print('CHILD  : ', child)\n",
    "    children.append(child)\n",
    "    print(\"=====================\")"
   ]
  },
  {
   "cell_type": "markdown",
   "metadata": {},
   "source": [
    "# Mutation"
   ]
  },
  {
   "cell_type": "markdown",
   "metadata": {},
   "source": [
    "Now we change a subet of the child chromosomes with a given probability:"
   ]
  },
  {
   "cell_type": "code",
   "execution_count": 108,
   "metadata": {
    "ExecuteTime": {
     "end_time": "2021-07-19T10:16:23.555995Z",
     "start_time": "2021-07-19T10:16:23.550008Z"
    }
   },
   "outputs": [
    {
     "name": "stdout",
     "output_type": "stream",
     "text": [
      "[0, 1, 0, 1, 0, 1, 0, 0, 0, 1]\n",
      "[0, 1, 0, 1, 0, 1, 0, 0, 0, 1]\n",
      "===================\n",
      "[0, 0, 0, 0, 1, 1, 1, 0, 0, 0]\n",
      "[0, 0, 0, 0, 1, 1, 1, 0, 0, 0]\n",
      "===================\n",
      "[0, 1, 0, 1, 0, 1, 0, 0, 0, 1]\n",
      "[0, 1, 0, 1, 0, 1, 0, 0, 0, 1]\n",
      "===================\n",
      "[0, 0, 0, 0, 1, 0, 1, 1, 1, 0]\n",
      "[0, 0, 0, 0, 1, 0, 1, 1, 1, 0]\n",
      "===================\n"
     ]
    }
   ],
   "source": [
    "np.random.seed(42)\n",
    "mutation_chance = 0.08\n",
    "\n",
    "# Mutation\n",
    "for child in children:\n",
    "    print(child)\n",
    "    if mutation_chance > np.random.random():\n",
    "        r = random.randint(0,len(child)-1)\n",
    "        if child[r] == 1:\n",
    "            child[r] = 0\n",
    "        else:\n",
    "            child[r] = 1\n",
    "    print(child)\n",
    "    print(\"===================\")"
   ]
  },
  {
   "cell_type": "markdown",
   "metadata": {},
   "source": [
    "# The Next Generation & Convergence"
   ]
  },
  {
   "cell_type": "code",
   "execution_count": 112,
   "metadata": {
    "ExecuteTime": {
     "end_time": "2021-07-19T10:19:56.930946Z",
     "start_time": "2021-07-19T10:19:56.921919Z"
    }
   },
   "outputs": [],
   "source": [
    "# CROSS-OVER\n",
    "def cross_over_mutation(solutions_per_pop, parents):\n",
    "    \n",
    "    children = [];\n",
    "    desired_length = solutions_per_pop - len(parents)\n",
    " \n",
    "    while len(children) < desired_length :\n",
    "        male   = list(parents[np.random.randint(0,len(parents)-1)])\n",
    "        female = list(parents[np.random.randint(0,len(parents)-1)])\n",
    "        half = int(len(male)/2)\n",
    "        child = male[:half] + female[half:]\n",
    "        children.append(child)\n",
    "        \n",
    "    mutation_chance = 0.08\n",
    "\n",
    "    # Mutation\n",
    "    for child in children:\n",
    "        if (mutation_chance > np.random.random()):\n",
    "            r = np.random.randint(0,len(child)-1)\n",
    "            if child[r] == 1:\n",
    "                child[r] = 0\n",
    "            else:\n",
    "                child[r] = 1\n",
    " \n",
    "    population = np.concatenate([parents, children], axis = 0)\n",
    "    return(population)"
   ]
  },
  {
   "cell_type": "code",
   "execution_count": 114,
   "metadata": {
    "ExecuteTime": {
     "end_time": "2021-07-19T10:21:20.283612Z",
     "start_time": "2021-07-19T10:21:20.276612Z"
    }
   },
   "outputs": [],
   "source": [
    "def optimize(weight, value, population, num_generations, knapsack_threshold):\n",
    "        \n",
    "    pop_size = len(population[0])\n",
    "    \n",
    "    fitness_history = [];\n",
    "    for i in range(num_generations):\n",
    "        print('Generation : ', i)\n",
    "        fitness_df = cal_fitness(weight, value, population, knapsack_threshold)\n",
    "        parents_df = selection(fitness_df, population, int(len(population)/2))\n",
    "        fitness_history.append(fitness_df)      \n",
    "        population = cross_over_mutation(len(population), parents_df)\n",
    "        \n",
    "    print('Last generation: \\n{}\\n'.format(population)) \n",
    "    fitness_last_gen_df = cal_fitness(weight, value, population, knapsack_threshold)      \n",
    "    print('Fitness of the last generation: \\n{}\\n'.format(fitness_last_gen_df))\n",
    "    return(fitness_history)"
   ]
  },
  {
   "cell_type": "code",
   "execution_count": 115,
   "metadata": {
    "ExecuteTime": {
     "end_time": "2021-07-19T10:21:22.050573Z",
     "start_time": "2021-07-19T10:21:21.953381Z"
    }
   },
   "outputs": [
    {
     "name": "stdout",
     "output_type": "stream",
     "text": [
      "Generation :  0\n",
      "Generation :  1\n",
      "Generation :  2\n",
      "Generation :  3\n",
      "Generation :  4\n",
      "Generation :  5\n",
      "Generation :  6\n",
      "Generation :  7\n",
      "Generation :  8\n",
      "Generation :  9\n",
      "Generation :  10\n",
      "Generation :  11\n",
      "Generation :  12\n",
      "Generation :  13\n",
      "Generation :  14\n",
      "Generation :  15\n",
      "Generation :  16\n",
      "Generation :  17\n",
      "Generation :  18\n",
      "Generation :  19\n",
      "Generation :  20\n",
      "Generation :  21\n",
      "Generation :  22\n",
      "Generation :  23\n",
      "Generation :  24\n",
      "Generation :  25\n",
      "Generation :  26\n",
      "Generation :  27\n",
      "Generation :  28\n",
      "Generation :  29\n",
      "Generation :  30\n",
      "Generation :  31\n",
      "Generation :  32\n",
      "Generation :  33\n",
      "Generation :  34\n",
      "Generation :  35\n",
      "Generation :  36\n",
      "Generation :  37\n",
      "Generation :  38\n",
      "Generation :  39\n",
      "Generation :  40\n",
      "Generation :  41\n",
      "Generation :  42\n",
      "Generation :  43\n",
      "Generation :  44\n",
      "Generation :  45\n",
      "Generation :  46\n",
      "Generation :  47\n",
      "Generation :  48\n",
      "Generation :  49\n",
      "Last generation: \n",
      "[[0 1 1 1 1 1 1 0 1 1]\n",
      " [0 1 1 1 1 1 1 0 1 1]\n",
      " [0 1 1 1 1 1 1 0 1 1]\n",
      " [0 1 1 1 1 1 1 0 1 1]\n",
      " [0 1 1 1 1 1 1 0 1 1]\n",
      " [0 1 1 1 1 1 1 0 1 1]\n",
      " [0 1 1 1 1 1 1 0 1 1]\n",
      " [0 1 1 1 1 1 1 0 1 1]]\n",
      "\n",
      "Fitness of the last generation: \n",
      "   fitness\n",
      "0   3058.0\n",
      "1   3058.0\n",
      "2   3058.0\n",
      "3   3058.0\n",
      "4   3058.0\n",
      "5   3058.0\n",
      "6   3058.0\n",
      "7   3058.0\n",
      "\n"
     ]
    }
   ],
   "source": [
    "fitness_history = optimize(weight, value, initial_population, 50, 70)"
   ]
  },
  {
   "cell_type": "code",
   "execution_count": 120,
   "metadata": {
    "ExecuteTime": {
     "end_time": "2021-07-19T10:23:55.416426Z",
     "start_time": "2021-07-19T10:23:55.240442Z"
    }
   },
   "outputs": [
    {
     "data": {
      "image/png": "[encoded data removed]",
      "text/plain": [
       "<Figure size 1080x576 with 1 Axes>"
      ]
     },
     "metadata": {
      "needs_background": "light"
     },
     "output_type": "display_data"
    }
   ],
   "source": [
    "num_generations = 50; \n",
    "\n",
    "fig, axs = plt.subplots(figsize=(15, 8),nrows=1, ncols=1)\n",
    "plt.style.use('seaborn-pastel')\n",
    "\n",
    "fitness_history_mean = [np.mean(fitness) for fitness in fitness_history]\n",
    "fitness_history_max  = [np.max(fitness) for fitness in fitness_history]\n",
    "plt.plot(list(range(num_generations)), fitness_history_mean, label = 'Mean Fitness')\n",
    "plt.plot(list(range(num_generations)), fitness_history_max, label = 'Max Fitness')\n",
    "plt.legend()\n",
    "plt.title('Fitness through the generations')\n",
    "plt.xlabel('Generations')\n",
    "plt.ylabel('Fitness')\n",
    "plt.show()"
   ]
  },
  {
   "cell_type": "markdown",
   "metadata": {},
   "source": [
    "# Example 2: Traveling Salesman"
   ]
  },
  {
   "cell_type": "markdown",
   "metadata": {},
   "source": [
    "*Given a list of cities and the distances between each pair of cities, what is the shortest possible route that visits each city and returns to the original city?*"
   ]
  },
  {
   "cell_type": "markdown",
   "metadata": {},
   "source": [
    "https://towardsdatascience.com/evolution-of-a-salesman-a-complete-genetic-algorithm-tutorial-for-python-6fe5d2b3ca35"
   ]
  },
  {
   "cell_type": "markdown",
   "metadata": {},
   "source": [
    "Given this, there are two important rules to keep in mind:\n",
    "\n",
    "*    Each city needs to be visited exactly one time\n",
    "*    We must return to the starting city, so our total distance needs to be calculated accordingly"
   ]
  },
  {
   "cell_type": "code",
   "execution_count": 135,
   "metadata": {
    "ExecuteTime": {
     "end_time": "2021-07-19T10:39:32.942477Z",
     "start_time": "2021-07-19T10:39:32.936442Z"
    }
   },
   "outputs": [],
   "source": [
    "import numpy as np, random, operator, pandas as pd, matplotlib.pyplot as plt"
   ]
  },
  {
   "cell_type": "code",
   "execution_count": 121,
   "metadata": {
    "ExecuteTime": {
     "end_time": "2021-07-19T10:33:27.102333Z",
     "start_time": "2021-07-19T10:33:27.097331Z"
    }
   },
   "outputs": [],
   "source": [
    "class City:\n",
    "    def __init__(self, x, y):\n",
    "        self.x = x\n",
    "        self.y = y\n",
    "    \n",
    "    def distance(self, city):\n",
    "        xDis = abs(self.x - city.x)\n",
    "        yDis = abs(self.y - city.y)\n",
    "        distance = np.sqrt((xDis ** 2) + (yDis ** 2))\n",
    "        return distance\n",
    "    \n",
    "    def __repr__(self):\n",
    "        return \"(\" + str(self.x) + \",\" + str(self.y) + \")\""
   ]
  },
  {
   "cell_type": "code",
   "execution_count": 122,
   "metadata": {
    "ExecuteTime": {
     "end_time": "2021-07-19T10:35:04.338311Z",
     "start_time": "2021-07-19T10:35:04.330314Z"
    }
   },
   "outputs": [],
   "source": [
    "class Fitness:\n",
    "    def __init__(self, route):\n",
    "        self.route = route\n",
    "        self.distance = 0\n",
    "        self.fitness= 0.0\n",
    "    \n",
    "    def routeDistance(self):\n",
    "        if self.distance ==0:\n",
    "            pathDistance = 0\n",
    "            for i in range(0, len(self.route)):\n",
    "                fromCity = self.route[i]\n",
    "                toCity = None\n",
    "                if i + 1 < len(self.route):\n",
    "                    toCity = self.route[i + 1]\n",
    "                else:\n",
    "                    toCity = self.route[0]\n",
    "                pathDistance += fromCity.distance(toCity)\n",
    "            self.distance = pathDistance\n",
    "        return self.distance\n",
    "    \n",
    "    def routeFitness(self):\n",
    "        if self.fitness == 0:\n",
    "            self.fitness = 1 / float(self.routeDistance())\n",
    "        return self.fitness"
   ]
  },
  {
   "cell_type": "code",
   "execution_count": 123,
   "metadata": {
    "ExecuteTime": {
     "end_time": "2021-07-19T10:39:02.624489Z",
     "start_time": "2021-07-19T10:39:02.619487Z"
    }
   },
   "outputs": [],
   "source": [
    "def createRoute(cityList):\n",
    "    route = random.sample(cityList, len(cityList))\n",
    "    return route"
   ]
  },
  {
   "cell_type": "code",
   "execution_count": 124,
   "metadata": {
    "ExecuteTime": {
     "end_time": "2021-07-19T10:39:03.575227Z",
     "start_time": "2021-07-19T10:39:03.571225Z"
    }
   },
   "outputs": [],
   "source": [
    "def initialPopulation(popSize, cityList):\n",
    "    population = []\n",
    "\n",
    "    for i in range(0, popSize):\n",
    "        population.append(createRoute(cityList))\n",
    "    return population"
   ]
  },
  {
   "cell_type": "code",
   "execution_count": 138,
   "metadata": {
    "ExecuteTime": {
     "end_time": "2021-07-19T10:40:28.715706Z",
     "start_time": "2021-07-19T10:40:28.708746Z"
    }
   },
   "outputs": [],
   "source": [
    "def rankRoutes(population):\n",
    "    fitnessResults = {}\n",
    "    for i in range(0,len(population)):\n",
    "        fitnessResults[i] = Fitness(population[i]).routeFitness()\n",
    "    return sorted(fitnessResults.items(), key = operator.itemgetter(1), reverse = True)"
   ]
  },
  {
   "cell_type": "code",
   "execution_count": 126,
   "metadata": {
    "ExecuteTime": {
     "end_time": "2021-07-19T10:39:05.479612Z",
     "start_time": "2021-07-19T10:39:05.467651Z"
    }
   },
   "outputs": [],
   "source": [
    "def selection(popRanked, eliteSize):\n",
    "    selectionResults = []\n",
    "    df = pd.DataFrame(np.array(popRanked), columns=[\"Index\",\"Fitness\"])\n",
    "    df['cum_sum'] = df.Fitness.cumsum()\n",
    "    df['cum_perc'] = 100*df.cum_sum/df.Fitness.sum()\n",
    "    \n",
    "    for i in range(0, eliteSize):\n",
    "        selectionResults.append(popRanked[i][0])\n",
    "    for i in range(0, len(popRanked) - eliteSize):\n",
    "        pick = 100*random.random()\n",
    "        for i in range(0, len(popRanked)):\n",
    "            if pick <= df.iat[i,3]:\n",
    "                selectionResults.append(popRanked[i][0])\n",
    "                break\n",
    "    return selectionResults"
   ]
  },
  {
   "cell_type": "code",
   "execution_count": 127,
   "metadata": {
    "ExecuteTime": {
     "end_time": "2021-07-19T10:39:06.403526Z",
     "start_time": "2021-07-19T10:39:06.399512Z"
    }
   },
   "outputs": [],
   "source": [
    "def matingPool(population, selectionResults):\n",
    "    matingpool = []\n",
    "    for i in range(0, len(selectionResults)):\n",
    "        index = selectionResults[i]\n",
    "        matingpool.append(population[index])\n",
    "    return matingpool"
   ]
  },
  {
   "cell_type": "code",
   "execution_count": 128,
   "metadata": {
    "ExecuteTime": {
     "end_time": "2021-07-19T10:39:07.335629Z",
     "start_time": "2021-07-19T10:39:07.326626Z"
    }
   },
   "outputs": [],
   "source": [
    "def breed(parent1, parent2):\n",
    "    child = []\n",
    "    childP1 = []\n",
    "    childP2 = []\n",
    "    \n",
    "    geneA = int(random.random() * len(parent1))\n",
    "    geneB = int(random.random() * len(parent1))\n",
    "    \n",
    "    startGene = min(geneA, geneB)\n",
    "    endGene = max(geneA, geneB)\n",
    "\n",
    "    for i in range(startGene, endGene):\n",
    "        childP1.append(parent1[i])\n",
    "        \n",
    "    childP2 = [item for item in parent2 if item not in childP1]\n",
    "\n",
    "    child = childP1 + childP2\n",
    "    return child"
   ]
  },
  {
   "cell_type": "code",
   "execution_count": 129,
   "metadata": {
    "ExecuteTime": {
     "end_time": "2021-07-19T10:39:08.174149Z",
     "start_time": "2021-07-19T10:39:08.166118Z"
    }
   },
   "outputs": [],
   "source": [
    "def breedPopulation(matingpool, eliteSize):\n",
    "    children = []\n",
    "    length = len(matingpool) - eliteSize\n",
    "    pool = random.sample(matingpool, len(matingpool))\n",
    "\n",
    "    for i in range(0,eliteSize):\n",
    "        children.append(matingpool[i])\n",
    "    \n",
    "    for i in range(0, length):\n",
    "        child = breed(pool[i], pool[len(matingpool)-i-1])\n",
    "        children.append(child)\n",
    "    return children"
   ]
  },
  {
   "cell_type": "code",
   "execution_count": 130,
   "metadata": {
    "ExecuteTime": {
     "end_time": "2021-07-19T10:39:09.148999Z",
     "start_time": "2021-07-19T10:39:09.141031Z"
    }
   },
   "outputs": [],
   "source": [
    "def mutate(individual, mutationRate):\n",
    "    for swapped in range(len(individual)):\n",
    "        if(random.random() < mutationRate):\n",
    "            swapWith = int(random.random() * len(individual))\n",
    "            \n",
    "            city1 = individual[swapped]\n",
    "            city2 = individual[swapWith]\n",
    "            \n",
    "            individual[swapped] = city2\n",
    "            individual[swapWith] = city1\n",
    "    return individual"
   ]
  },
  {
   "cell_type": "code",
   "execution_count": 131,
   "metadata": {
    "ExecuteTime": {
     "end_time": "2021-07-19T10:39:10.051884Z",
     "start_time": "2021-07-19T10:39:10.047884Z"
    }
   },
   "outputs": [],
   "source": [
    "def mutatePopulation(population, mutationRate):\n",
    "    mutatedPop = []\n",
    "    \n",
    "    for ind in range(0, len(population)):\n",
    "        mutatedInd = mutate(population[ind], mutationRate)\n",
    "        mutatedPop.append(mutatedInd)\n",
    "    return mutatedPop"
   ]
  },
  {
   "cell_type": "code",
   "execution_count": 132,
   "metadata": {
    "ExecuteTime": {
     "end_time": "2021-07-19T10:39:11.483396Z",
     "start_time": "2021-07-19T10:39:11.478399Z"
    }
   },
   "outputs": [],
   "source": [
    "def nextGeneration(currentGen, eliteSize, mutationRate):\n",
    "    popRanked = rankRoutes(currentGen)\n",
    "    selectionResults = selection(popRanked, eliteSize)\n",
    "    matingpool = matingPool(currentGen, selectionResults)\n",
    "    children = breedPopulation(matingpool, eliteSize)\n",
    "    nextGeneration = mutatePopulation(children, mutationRate)\n",
    "    return nextGeneration"
   ]
  },
  {
   "cell_type": "code",
   "execution_count": 133,
   "metadata": {
    "ExecuteTime": {
     "end_time": "2021-07-19T10:39:12.412504Z",
     "start_time": "2021-07-19T10:39:12.403542Z"
    }
   },
   "outputs": [],
   "source": [
    "def geneticAlgorithm(population, popSize, eliteSize, mutationRate, generations):\n",
    "    pop = initialPopulation(popSize, population)\n",
    "    print(\"Initial distance: \" + str(1 / rankRoutes(pop)[0][1]))\n",
    "    \n",
    "    for i in range(0, generations):\n",
    "        pop = nextGeneration(pop, eliteSize, mutationRate)\n",
    "    \n",
    "    print(\"Final distance: \" + str(1 / rankRoutes(pop)[0][1]))\n",
    "    bestRouteIndex = rankRoutes(pop)[0][0]\n",
    "    bestRoute = pop[bestRouteIndex]\n",
    "    return bestRoute"
   ]
  },
  {
   "cell_type": "code",
   "execution_count": 136,
   "metadata": {
    "ExecuteTime": {
     "end_time": "2021-07-19T10:39:36.769821Z",
     "start_time": "2021-07-19T10:39:36.765818Z"
    }
   },
   "outputs": [],
   "source": [
    "cityList = []\n",
    "\n",
    "for i in range(0,25):\n",
    "    cityList.append(City(x=int(random.random() * 200), y=int(random.random() * 200)))"
   ]
  },
  {
   "cell_type": "code",
   "execution_count": 139,
   "metadata": {
    "ExecuteTime": {
     "end_time": "2021-07-19T10:41:09.655944Z",
     "start_time": "2021-07-19T10:40:32.597918Z"
    }
   },
   "outputs": [
    {
     "name": "stdout",
     "output_type": "stream",
     "text": [
      "Initial distance: 1850.8940224711603\n",
      "Final distance: 919.9887839375099\n"
     ]
    },
    {
     "data": {
      "text/plain": [
       "[(13,65),\n",
       " (23,68),\n",
       " (24,87),\n",
       " (50,92),\n",
       " (79,138),\n",
       " (159,192),\n",
       " (87,186),\n",
       " (71,187),\n",
       " (35,188),\n",
       " (0,187),\n",
       " (33,119),\n",
       " (45,110),\n",
       " (54,99),\n",
       " (73,77),\n",
       " (87,104),\n",
       " (100,120),\n",
       " (125,98),\n",
       " (126,93),\n",
       " (175,79),\n",
       " (152,98),\n",
       " (94,2),\n",
       " (66,31),\n",
       " (54,31),\n",
       " (49,29),\n",
       " (20,17)]"
      ]
     },
     "execution_count": 139,
     "metadata": {},
     "output_type": "execute_result"
    }
   ],
   "source": [
    "geneticAlgorithm(population=cityList, popSize=100, eliteSize=20, mutationRate=0.01, generations=500)"
   ]
  },
  {
   "cell_type": "code",
   "execution_count": 140,
   "metadata": {
    "ExecuteTime": {
     "end_time": "2021-07-19T10:41:17.389259Z",
     "start_time": "2021-07-19T10:41:17.383216Z"
    }
   },
   "outputs": [],
   "source": [
    "def geneticAlgorithmPlot(population, popSize, eliteSize, mutationRate, generations):\n",
    "    pop = initialPopulation(popSize, population)\n",
    "    progress = []\n",
    "    progress.append(1 / rankRoutes(pop)[0][1])\n",
    "    \n",
    "    for i in range(0, generations):\n",
    "        pop = nextGeneration(pop, eliteSize, mutationRate)\n",
    "        progress.append(1 / rankRoutes(pop)[0][1])\n",
    "    \n",
    "    plt.plot(progress)\n",
    "    plt.ylabel('Distance')\n",
    "    plt.xlabel('Generation')\n",
    "    plt.show()"
   ]
  },
  {
   "cell_type": "code",
   "execution_count": 141,
   "metadata": {
    "ExecuteTime": {
     "end_time": "2021-07-19T10:42:04.192387Z",
     "start_time": "2021-07-19T10:41:23.166342Z"
    }
   },
   "outputs": [
    {
     "data": {
      "image/png": "[encoded data removed]",
      "text/plain": [
       "<Figure size 432x288 with 1 Axes>"
      ]
     },
     "metadata": {
      "needs_background": "light"
     },
     "output_type": "display_data"
    }
   ],
   "source": [
    "geneticAlgorithmPlot(population=cityList, popSize=100, eliteSize=20, mutationRate=0.01, generations=500)"
   ]
  }
 ],
 "metadata": {
  "hide_input": false,
  "kernelspec": {
   "display_name": "Python 3",
   "language": "python",
   "name": "python3"
  },
  "language_info": {
   "codemirror_mode": {
    "name": "ipython",
    "version": 3
   },
   "file_extension": ".py",
   "mimetype": "text/x-python",
   "name": "python",
   "nbconvert_exporter": "python",
   "pygments_lexer": "ipython3",
   "version": "3.7.1"
  },
  "toc": {
   "base_numbering": 1,
   "nav_menu": {},
   "number_sections": true,
   "sideBar": true,
   "skip_h1_title": false,
   "title_cell": "Table of Contents",
   "title_sidebar": "Contents",
   "toc_cell": false,
   "toc_position": {},
   "toc_section_display": true,
   "toc_window_display": true
  }
 },
 "nbformat": 4,
 "nbformat_minor": 4
}
