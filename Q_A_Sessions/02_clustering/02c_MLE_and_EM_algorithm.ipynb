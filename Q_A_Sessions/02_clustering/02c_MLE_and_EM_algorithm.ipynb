{
 "cells": [
  {
   "cell_type": "markdown",
   "metadata": {},
   "source": [
    "# The Expectation-Maximization Algorithm"
   ]
  },
  {
   "cell_type": "code",
   "execution_count": 1,
   "metadata": {
    "ExecuteTime": {
     "end_time": "2021-10-19T14:07:42.379895Z",
     "start_time": "2021-10-19T14:07:41.047889Z"
    }
   },
   "outputs": [],
   "source": [
    "# Common imports\n",
    "import numpy as np # numpy is THE toolbox for scientific computing with python\n",
    "import pandas as pd # pandas provides THE data structure and data analysis tools for data scientists \n",
    "import pickle # we have to import a pickle file\n",
    "import os \n",
    "\n",
    "# maximum number of columns\n",
    "pd.set_option(\"display.max_rows\", 101)\n",
    "pd.set_option(\"display.max_columns\", 101)\n",
    "\n",
    "# To plot pretty figures\n",
    "%matplotlib inline\n",
    "import matplotlib as mpl\n",
    "import matplotlib.pyplot as plt\n",
    "mpl.rc('axes', labelsize=14)\n",
    "mpl.rc('xtick', labelsize=12)\n",
    "mpl.rc('ytick', labelsize=12)"
   ]
  },
  {
   "cell_type": "code",
   "execution_count": 3,
   "metadata": {
    "ExecuteTime": {
     "end_time": "2021-10-19T14:10:47.210402Z",
     "start_time": "2021-10-19T14:10:47.205395Z"
    }
   },
   "outputs": [],
   "source": [
    "def plot_clusters(X, y=None):\n",
    "    plt.scatter(X[:, 0], X[:, 1], s=2)\n",
    "    plt.xlabel(\"$x_1$\", fontsize=14)\n",
    "    plt.ylabel(\"$x_2$\", fontsize=14, rotation=0)\n",
    "    plt.title('Artificial dataset created with make_blobs')"
   ]
  },
  {
   "cell_type": "code",
   "execution_count": 22,
   "metadata": {
    "ExecuteTime": {
     "end_time": "2021-10-19T14:18:57.642260Z",
     "start_time": "2021-10-19T14:18:57.478259Z"
    }
   },
   "outputs": [
    {
     "data": {
      "image/png": "[encoded data removed]",
      "text/plain": [
       "<Figure size 576x288 with 1 Axes>"
      ]
     },
     "metadata": {
      "needs_background": "light"
     },
     "output_type": "display_data"
    }
   ],
   "source": [
    "from sklearn.datasets import make_blobs\n",
    "from sklearn.preprocessing import StandardScaler\n",
    "\n",
    "blob_centers = np.array(\n",
    "    [[ 0.5,  2.3],\n",
    "     [-1.5 ,  2.3],\n",
    "     [-2.8,  1.8],\n",
    "     [-2.8,  2.8],\n",
    "     [-2.8,  1.3]])\n",
    "\n",
    "# standard deviation of the blobs\n",
    "blob_std = np.array([0.4, 0.3, 0.1, 0.1, 0.1])\n",
    "\n",
    "# make a feature matrix (X) and the labels (y)\n",
    "X, y = make_blobs(n_samples=700, centers=blob_centers,\n",
    "                  cluster_std=blob_std, random_state=7)\n",
    "\n",
    "# centers = [[1, 1], [-1, -1], [1, -1], [-1,1]]\n",
    "# X, labels_true = make_blobs(n_samples=750, centers=centers, cluster_std=0.4, random_state=0)\n",
    "# Scale and standardize the dataset\n",
    "# X = StandardScaler().fit_transform(X)\n",
    "plt.figure(figsize=(8, 4))\n",
    "plot_clusters(X)\n",
    "plt.show()"
   ]
  },
  {
   "cell_type": "code",
   "execution_count": 23,
   "metadata": {
    "ExecuteTime": {
     "end_time": "2021-10-19T14:19:01.182258Z",
     "start_time": "2021-10-19T14:19:01.089253Z"
    }
   },
   "outputs": [
    {
     "name": "stdout",
     "output_type": "stream",
     "text": [
      "[0.19945854 0.20162245 0.19772791 0.19998091 0.2012102 ]\n",
      "\n",
      "[[-2.79176515  1.79155566]\n",
      " [ 0.47453787  2.30305601]\n",
      " [-1.51406695  2.21880732]\n",
      " [-2.78620413  2.79912702]\n",
      " [-2.79852448  1.29259591]]\n",
      "\n",
      "[[[ 0.0077195   0.0007523 ]\n",
      "  [ 0.0007523   0.00969727]]\n",
      "\n",
      " [[ 0.15136812 -0.0078347 ]\n",
      "  [-0.0078347   0.14790242]]\n",
      "\n",
      " [[ 0.08739468 -0.01108655]\n",
      "  [-0.01108655  0.08131186]]\n",
      "\n",
      " [[ 0.00956819  0.00104863]\n",
      "  [ 0.00104863  0.00984551]]\n",
      "\n",
      " [[ 0.00812158 -0.00083944]\n",
      "  [-0.00083944  0.01115809]]]\n"
     ]
    }
   ],
   "source": [
    "from sklearn.mixture import GaussianMixture\n",
    "\n",
    "gm = GaussianMixture(n_components = 5, n_init = 10)\n",
    "gm.fit(X)\n",
    "\n",
    "print(gm.weights_)\n",
    "print()\n",
    "print(gm.means_)\n",
    "print()\n",
    "print(gm.covariances_)"
   ]
  },
  {
   "cell_type": "markdown",
   "metadata": {},
   "source": [
    "**Aim:** Understand the algorithm, which assigns the unknown parameters $\\mu_j, \\Sigma_j$ and $q_j$ as well as clusters $j$."
   ]
  },
  {
   "cell_type": "markdown",
   "metadata": {},
   "source": [
    "# The Log-Likelihood Function"
   ]
  },
  {
   "cell_type": "markdown",
   "metadata": {
    "ExecuteTime": {
     "end_time": "2021-10-18T03:42:30.146829Z",
     "start_time": "2021-10-18T03:42:30.083888Z"
    }
   },
   "source": [
    "![](plots/likelihood_explained.png)"
   ]
  },
  {
   "cell_type": "markdown",
   "metadata": {},
   "source": [
    "### The likelihood function:\n",
    "\n",
    "$$ \\mathcal{L} = \\mathcal{L}(\\vec{\\theta}) = \\mathcal{L}(\\vec{\\theta}| \\vec{x}) $$\n",
    "\n",
    "The likelihood function $\\mathcal{L}$ describes how plausible a particular set of parameter values $\\vec{θ}$ are, after the outcome $\\vec{x}$ is known.\n",
    "\n",
    "### Upper left plot:\n",
    "Consider a one-dimensional mixture model of two Gaussian distributions centered at –4 and +1.For simplicity, this toy model has a single parameter θ that controls the standard deviations\n",
    "of both distributions. The top-left **contour plot** shows the entire\n",
    "model $f(x; \\theta) = \\mathcal{L}(\\theta| x)$  as a function of both $x$ and $\\theta$. \n",
    "\n",
    "### Lower left plot (probability distribution):\n",
    "To estimate the probability distribution (PDF) of\n",
    "a future outcome $x$, you need to set the model parameter $\\theta$. (This can be done via **maximum likelihood estimation (MLE)**: $\\text{argmax}_{\\theta} f(x; \\theta)$. In linear regression the maximum likelihood estimation for $\\vec{\\omega}$ is the one, that minimizes the residual sum of squares.) \n",
    "\n",
    "For example, if you set $\\theta$ to 1.3 (the horizontal black line in the upper left plot), you get the probability density function $f(x; \\theta=1.3)$ shown\n",
    "in the lower-left plot. Say you want to estimate the probability that $x$ will fall between\n",
    "–2 and +2. You must calculate the integral of the PDF on this range (i.e., the area of\n",
    "the shaded region). \n",
    "\n",
    "### Upper right plot\n",
    "\n",
    "But what if you don’t know $\\theta$, and instead if you have observed a\n",
    "single instance x=2.5 (the vertical blue line in the upper-left plot)? In this case, you get the\n",
    "likelihood function $\\mathcal{L}(\\theta|x=2.5)=f(x=2.5; \\theta)$, represented in the upper-right plot.\n",
    "\n",
    "In short, the PDF is a function of $x$ (with $\\theta$ fixed), while the likelihood function is a\n",
    "function of $\\theta$ (with $x$ fixed). It is important to understand that the likelihood function\n",
    "is not a probability distribution: if you integrate a probability distribution over all\n",
    "possible values of $x$, you always get 1; but if you integrate the likelihood function over\n",
    "all possible values of $\\theta$, the result can be any positive value.\n",
    "\n",
    "Given a dataset $X$, a common task is to try to estimate the most likely values for the\n",
    "model parameters. To do this, you must find the values that maximize the likelihood\n",
    "function, given $X$. In this example, if you have observed a single instance $x=2.5$, the\n",
    "maximum likelihood estimate (MLE) of $\\theta$ is $\\theta=1.5$. \n",
    "\n",
    "If a **prior probability distribution** $g$\n",
    "over $\\theta$ exists, it is possible to take it into account by maximizing $\\mathcal{L}(\\theta|x) g(\\theta)$ rather\n",
    "than just maximizing $\\mathcal{L}(\\theta|x)$. This is called **maximum a-posteriori (MAP) estimation**.Since MAP constrains the parameter values, you can think of it as a regularized version of MLE.\n",
    "\n",
    "### Lower right plot:\n",
    "\n",
    "Notice that maximizing the likelihood function is equivalent to maximizing its logarithm\n",
    "Indeed the logarithm\n",
    "is a strictly increasing function, so if $\\theta$ maximizes the log likelihood, it also maximizes\n",
    "the likelihood. **It turns out that it is generally easier to maximize the log likelihood.**\n",
    "For example, if you observed several independent instances $x(1)$ to $x(m)$, you would\n",
    "need to find the value of $\\theta$ that maximizes the product of the individual likelihood\n",
    "functions. But it is equivalent, and much simpler, to maximize the sum (not the product)\n",
    "of the log likelihood functions, thanks to the magic of the logarithm which converts\n",
    "products into sums: $log(ab)=log(a)+log(b)$."
   ]
  },
  {
   "cell_type": "markdown",
   "metadata": {},
   "source": [
    "# Example of maximum log-likelihood: Binary outcome"
   ]
  },
  {
   "cell_type": "markdown",
   "metadata": {},
   "source": [
    "$$ \\mathcal{L}(\\theta) = \\theta^{n_1} \\cdot \\left[ 1 - \\theta \\right]^{n_2}  $$\n",
    "\n",
    "Calculate $$\\frac{\\partial}{\\partial \\theta} \\text{log} \\mathcal{l}(\\theta)$$"
   ]
  },
  {
   "cell_type": "markdown",
   "metadata": {},
   "source": [
    "# Example of maximum log-likelihood: Linear Regression and RSS/MSE"
   ]
  },
  {
   "cell_type": "markdown",
   "metadata": {
    "ExecuteTime": {
     "end_time": "2021-10-19T14:41:33.989925Z",
     "start_time": "2021-10-19T14:41:33.983918Z"
    }
   },
   "source": [
    "One-dimensional:\n",
    "$$p(y|x;\\mu, \\sigma) = \\mathcal{N}(y|\\mu(x), \\sigma) \\; , \\text{with} \\, \\mu(x) = \\omega_0 + \\omega_1 \\cdot x$$"
   ]
  },
  {
   "cell_type": "markdown",
   "metadata": {},
   "source": [
    "Calculate $$\\frac{\\partial}{\\partial \\theta} \\text{log} \\mathcal{l}(\\theta)$$\n",
    "gives $$ \\hat{\\omega} = \\left(X^{T} X\\right)^{-1} X^{T} y  $$"
   ]
  },
  {
   "cell_type": "markdown",
   "metadata": {},
   "source": [
    "# Gaussian Mixture Models"
   ]
  },
  {
   "cell_type": "markdown",
   "metadata": {
    "ExecuteTime": {
     "end_time": "2021-10-18T04:39:00.450589Z",
     "start_time": "2021-10-18T04:39:00.436570Z"
    }
   },
   "source": [
    "In this model, each base distribution in the mixture is a multivariate\n",
    "Gaussian with mean $\\mu_k$ and covariance matrix $\\Sigma_k$. Thus the model has the form\n",
    "$$p(x_i|\\theta) = \\sum_{k = 1}^{K} q_k  \\mathcal{N}(x_i|μ_k,\\Sigma_k)$$"
   ]
  },
  {
   "cell_type": "markdown",
   "metadata": {},
   "source": [
    "### Using a Mixture Model for Clustering\n",
    "\n",
    "We first fit the mixture\n",
    "model, and then compute $p(z_i = k|x_i,\\theta)$, which represents the posterior probability that point\n",
    "$i$ belongs to cluster $k$. This is known as the **responsibility** of cluster k for point i, $r_{ik}$ and can be\n",
    "computed using Bayes rule."
   ]
  },
  {
   "cell_type": "markdown",
   "metadata": {},
   "source": [
    "## Parameter Estimation in Mixture Models"
   ]
  },
  {
   "cell_type": "markdown",
   "metadata": {},
   "source": [
    "One approach to compute the MLE or MAP is to use a generic **gradient-based optimizer** to find a minimum of the\n",
    "negative log likelihood or NLL.\n",
    "\n",
    "However, we often have to enforce constraints, such as the fact that covariance matrices must be\n",
    "positive definite, mixing weights must sum to one, etc., which can be tricky. If we have missing data and/or latent (hidden) variables, then computing of the MLE/MAP becomes hard. \n",
    "\n",
    "In\n",
    "such cases, it is often much simpler (but not always faster) to use an algorithm called **expectation maximization**, or **EM** for short. This is a simple iterative algorithm, often with closed-form updates at each step. Furthermore, the algorithm automatically enforce the required constraints."
   ]
  },
  {
   "cell_type": "markdown",
   "metadata": {},
   "source": [
    "### Similarity to K-Means Algorithm:\n",
    "\n",
    "It has many similarities with the K-Means algorithm:\n",
    "it also initializes the cluster parameters randomly, then it repeats two steps\n",
    "until convergence, first assigning instances to clusters (this is called the **expectation\n",
    "step**) and then updating the clusters (this is called the **maximization step**). \n",
    "\n",
    "In the context of clustering, you can think of EM as a generalization of\n",
    "K-Means that not only finds the cluster centers ($\\mu(1) to \\mu(k)$), but also their size, shape,\n",
    "and orientation ($\\Sigma(1) to \\Sigma(k)$), as well as their relative weights ($q(1) to q(k)$). \n",
    "\n",
    "Unlike KMeans,\n",
    "though, EM uses soft cluster assignments, not hard assignments. For each\n",
    "instance, during the expectation step, the algorithm estimates the probability that it\n",
    "belongs to each cluster (based on the current cluster parameters). Then, during the\n",
    "maximization step, each cluster is updated using all the instances in the dataset, with\n",
    "each instance weighted by the estimated probability that it belongs to that cluster.\n",
    "These probabilities are called the responsibilities of the clusters for the instances."
   ]
  },
  {
   "cell_type": "markdown",
   "metadata": {},
   "source": [
    "![](./plots/E_M_plot.png)"
   ]
  },
  {
   "cell_type": "markdown",
   "metadata": {},
   "source": [
    "## Basic Idea"
   ]
  },
  {
   "cell_type": "markdown",
   "metadata": {},
   "source": [
    "Let $x_i$ be the observed variables in case i, and let $z_i$ be the hidden \n",
    "variables. The goal is to maximize the log likelihood of the observed data:\n",
    "$$p(\\theta) =\n",
    "\\sum_{i=1} \\text{log} p(x_i|\\theta) =\n",
    "\\sum_{i=1} \\text{log} \\sum_{z_i} p(x_i, z_i|\\theta) $$\n",
    "\n",
    "Unfortunately this is hard to optimize, since the log cannot be pushed inside the sum.\n",
    "\n",
    "EM gets around this problem as follows. Define the complete data log likelihood to be\n",
    "$$l_c(\\theta) =\n",
    "\\sum_{i=1} \\text{log} p(x_i, z_i|\\theta)$$\n",
    "This cannot be computed, since $z_i$ is unknown. So let us define the expected complete data\n",
    "log likelihood as follows:\n",
    "$$Q(\\theta, \\theta^{t−1}) = \\mathbb{E} \\left[l_c(\\theta) | D, \\theta^{t−1} \\right]$$ \n",
    "where $t$ is the current iteration number. $Q$ is called the auxiliary function. The expectation\n",
    "is taken wrt the old parameters, $\\theta_t−1$, and the observed data $\\mathcal{D}$. The goal of the E step is to\n",
    "compute $Q(\\theta, \\theta_t−1)$, or rather, the terms inside of it which the MLE depends on; these are\n",
    "known as the expected sufficient statistics or ESS. \n",
    "\n",
    "In the M step, we optimize the Q function\n",
    "w.r.t. $\\theta$: $$\\theta^t = argmax_{\\theta} Q(\\theta, \\theta^{t−1})$$"
   ]
  },
  {
   "cell_type": "markdown",
   "metadata": {},
   "source": [
    "## EM for Gaussian Mixture Models"
   ]
  },
  {
   "cell_type": "markdown",
   "metadata": {},
   "source": [
    "The formulas can be found at: https://github.com/iubh/DLMDSML01/blob/main/Q_A_Sessions/02_clustering/EM_algorithm_explanation.pdf"
   ]
  }
 ],
 "metadata": {
  "hide_input": false,
  "kernelspec": {
   "display_name": "Python 3",
   "language": "python",
   "name": "python3"
  },
  "language_info": {
   "codemirror_mode": {
    "name": "ipython",
    "version": 3
   },
   "file_extension": ".py",
   "mimetype": "text/x-python",
   "name": "python",
   "nbconvert_exporter": "python",
   "pygments_lexer": "ipython3",
   "version": "3.7.1"
  },
  "toc": {
   "base_numbering": 1,
   "nav_menu": {},
   "number_sections": true,
   "sideBar": true,
   "skip_h1_title": false,
   "title_cell": "Table of Contents",
   "title_sidebar": "Contents",
   "toc_cell": false,
   "toc_position": {
    "height": "calc(100% - 180px)",
    "left": "10px",
    "top": "150px",
    "width": "235.8px"
   },
   "toc_section_display": true,
   "toc_window_display": true
  }
 },
 "nbformat": 4,
 "nbformat_minor": 4
}
