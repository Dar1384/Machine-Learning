{
 "cells": [
  {
   "cell_type": "markdown",
   "metadata": {},
   "source": [
    "# Machine-Learning and Parallel Computing"
   ]
  },
  {
   "cell_type": "markdown",
   "metadata": {},
   "source": [
    "It is a very important technique when building up machine-learning models: If we\n",
    "have a single computation-intensive task, it will only run on one core, even if our\n",
    "computer has multiple cores. If nothing is done explicitly, we will waste a lot of\n",
    "computation power!\n",
    "\n",
    "In machine-learning one task which can be distributed to many cores is **hyperparameter testing**. This will siginificantly reduce the amount of computation time used to evaluate the hyperparameter space."
   ]
  },
  {
   "cell_type": "markdown",
   "metadata": {},
   "source": [
    "## Distributed Computing"
   ]
  },
  {
   "cell_type": "markdown",
   "metadata": {},
   "source": [
    "Parallelization can also be performed by means of **distributed computing**. \n",
    "\n",
    "In distributed computing, a large number of discrete\n",
    "computers, named nodes, distributed across a network (e.g., the Internet) devote\n",
    "some or all of their computation time to solving a common problem; each node\n",
    "receives and completes many small tasks, reporting the results to a central server\n",
    "which integrates the results into the overall solution. Each of the nodes has its own\n",
    "local memory and thus tasks that run on different computers do not need to coordinate\n",
    "access to it. However, since information is exchanged through the network, care must\n",
    "be taken in order to select the amount of information that is passed so as to optimize\n",
    "the computational performance."
   ]
  },
  {
   "cell_type": "markdown",
   "metadata": {},
   "source": [
    "# Parallelization for Hyperparameter Testing"
   ]
  },
  {
   "cell_type": "markdown",
   "metadata": {},
   "source": [
    "## Manual Parallelization"
   ]
  },
  {
   "cell_type": "markdown",
   "metadata": {},
   "source": [
    "Step 1: Put all your hyperparameters in a list:"
   ]
  },
  {
   "cell_type": "code",
   "execution_count": null,
   "metadata": {},
   "outputs": [],
   "source": [
    "# Get Parameter Configurations.\n",
    "configurations = []\n",
    "for a in param_test['learning_rate']:\n",
    "    for b in param_test['n_estimators']:\n",
    "        for c in param_test['max_depth']:\n",
    "            for d in param_test['min_child_weight']:\n",
    "                for e in param_test['gamma']:\n",
    "                    for f in param_test['subsample']:\n",
    "                        for g in param_test['colsample_bytree']:\n",
    "                            for h in param_test['nthread']:\n",
    "                                for i in param_test['scale_pos_weight']:\n",
    "                                    for j in param_test['seed']:\n",
    "                                        param = {'learning_rate'    : a,\n",
    "                                                 'n_estimators'     : b,\n",
    "                                                 'max_depth'        : c,\n",
    "                                                 'min_child_weight' : d,\n",
    "                                                 'gamma'            : e,\n",
    "                                                 'subsample'        : f,\n",
    "                                                 'colsample_bytree' : g,\n",
    "                                                 'nthread'          : h,\n",
    "                                                 'scale_pos_weight' : i,\n",
    "                                                 'seed'             : j,\n",
    "                                                 'objective'        : 'reg:squarederror'} \n",
    "                                        configurations.append(param)"
   ]
  },
  {
   "cell_type": "markdown",
   "metadata": {},
   "source": [
    "Step 2: Use the joblib library to parallelize the code:"
   ]
  },
  {
   "cell_type": "code",
   "execution_count": null,
   "metadata": {},
   "outputs": [],
   "source": [
    "from joblib import Parallel, delayed\n",
    "#with parallel_backend('multiprocessing'): #threading\n",
    "models, params, selections, val_errors, trn_errors = zip(*Parallel(\n",
    "                                                                n_jobs=-1,\n",
    "                                                                verbose=50,\n",
    "                                                                backend=\"multiprocessing\"\n",
    "                                                            )(\n",
    "                                                                map(delayed(XGB_fit), \n",
    "                                                                [train]*len(configurations), \n",
    "                                                                [val]*len(configurations), \n",
    "                                                                configurations, \n",
    "                                                                np.repeat(model_type, len(configurations)))\n",
    "                                                            )\n",
    "                                                        )"
   ]
  },
  {
   "cell_type": "markdown",
   "metadata": {},
   "source": [
    "Joblib user manual: https://joblib.readthedocs.io/en/latest/parallel.html#thread-based-parallelism-vs-process-based-parallelism"
   ]
  },
  {
   "cell_type": "code",
   "execution_count": null,
   "metadata": {},
   "outputs": [],
   "source": [
    "from multiprocessing import Pool"
   ]
  },
  {
   "cell_type": "markdown",
   "metadata": {},
   "source": [
    "## Built-In Parallelization"
   ]
  },
  {
   "cell_type": "markdown",
   "metadata": {},
   "source": [
    "When the underlying implementation uses joblib, the number of workers (threads or processes) that are spawned in parallel can be controlled via the n_jobs parameter"
   ]
  },
  {
   "cell_type": "code",
   "execution_count": null,
   "metadata": {},
   "outputs": [],
   "source": []
  },
  {
   "cell_type": "code",
   "execution_count": null,
   "metadata": {},
   "outputs": [],
   "source": [
    "model_cv = GridSearchCV(lrg, param_grid, scoring=scoring, n_jobs=3, cv=cross_val, verbose=10, return_train_score=True)"
   ]
  }
 ],
 "metadata": {
  "hide_input": false,
  "kernelspec": {
   "display_name": "Python 3",
   "language": "python",
   "name": "python3"
  },
  "language_info": {
   "codemirror_mode": {
    "name": "ipython",
    "version": 3
   },
   "file_extension": ".py",
   "mimetype": "text/x-python",
   "name": "python",
   "nbconvert_exporter": "python",
   "pygments_lexer": "ipython3",
   "version": "3.7.1"
  },
  "toc": {
   "base_numbering": 1,
   "nav_menu": {},
   "number_sections": true,
   "sideBar": true,
   "skip_h1_title": false,
   "title_cell": "Table of Contents",
   "title_sidebar": "Contents",
   "toc_cell": false,
   "toc_position": {},
   "toc_section_display": true,
   "toc_window_display": false
  }
 },
 "nbformat": 4,
 "nbformat_minor": 4
}
