{
 "cells": [
  {
   "cell_type": "markdown",
   "metadata": {},
   "source": [
    "# Open Questions"
   ]
  },
  {
   "cell_type": "markdown",
   "metadata": {},
   "source": [
    "# Preamble"
   ]
  },
  {
   "cell_type": "code",
   "execution_count": 1,
   "metadata": {
    "ExecuteTime": {
     "end_time": "2021-05-18T16:50:49.865875Z",
     "start_time": "2021-05-18T16:50:49.223746Z"
    }
   },
   "outputs": [],
   "source": [
    "# Common imports\n",
    "import numpy as np # numpy is THE toolbox for scientific computing with python\n",
    "import pandas as pd # pandas provides THE data structure and data analysis tools for data scientists \n",
    "\n",
    "# maximum number of columns\n",
    "pd.set_option(\"display.max_rows\", 101)\n",
    "pd.set_option(\"display.max_columns\", 101)\n",
    "\n",
    "# To plot pretty figures\n",
    "%matplotlib inline\n",
    "import matplotlib as mpl\n",
    "import matplotlib.pyplot as plt\n",
    "mpl.rc('axes', labelsize=14)\n",
    "mpl.rc('xtick', labelsize=12)\n",
    "mpl.rc('ytick', labelsize=12)\n",
    "\n",
    "from warnings import filterwarnings\n",
    "filterwarnings('ignore')"
   ]
  },
  {
   "cell_type": "markdown",
   "metadata": {},
   "source": [
    "# Clustering Algorithms"
   ]
  },
  {
   "cell_type": "markdown",
   "metadata": {
    "heading_collapsed": true
   },
   "source": [
    "# Support Vector Machines"
   ]
  },
  {
   "cell_type": "markdown",
   "metadata": {
    "hidden": true
   },
   "source": [
    "Question: The optimization problem of SVCs is to minimize the objective function $J(\\omega) = \\frac{1}{2} ||\\omega||^2$ subject to the constraint $y_i \\left(\\omega_i^T x + b \\right) \\geq 1$. How is the SVM optimization problem written in its dual form?"
   ]
  },
  {
   "cell_type": "markdown",
   "metadata": {
    "hidden": true
   },
   "source": [
    "Question: Describe the difference between hard-margin and soft-margin classification. How does the slack variable $\\xi$ enter the objective function? How does the regularization parameter $C$ enter the objective function?"
   ]
  },
  {
   "cell_type": "markdown",
   "metadata": {
    "ExecuteTime": {
     "end_time": "2021-06-08T05:02:25.714710Z",
     "start_time": "2021-06-08T05:02:25.707707Z"
    },
    "hidden": true
   },
   "source": [
    "Question: Look at the following plot:\n",
    "    \n",
    "<div>\n",
    "<img src=\"efficient_learning_machines_SVM_C.png\" width=\"300\"/>\n",
    "</div>\n",
    "\n",
    "Describe how the regularization parameter $C$ changes the separating hyperplane in this dataset."
   ]
  },
  {
   "cell_type": "markdown",
   "metadata": {
    "hidden": true
   },
   "source": [
    "Question: Say you trained an SVM classifier with an RBF kernel. It seems to underfit the training set: should you increase or decrease $\\gamma$? What about $C$?"
   ]
  },
  {
   "cell_type": "markdown",
   "metadata": {
    "ExecuteTime": {
     "end_time": "2021-06-08T04:47:59.458484Z",
     "start_time": "2021-06-08T04:47:59.453484Z"
    },
    "hidden": true
   },
   "source": [
    "Question: Let us consider a polynomial kernel $K(\\vec{x}, \\vec{x}') = \\left( \\vec{x} \\cdot \\vec{x}' + 1 \\right)^d$. The kernel trick assumes that $K(\\vec{x}, \\vec{x}') = \\phi^T(\\vec{x}) \\cdot \\phi(\\vec{x}')$. Calculate $\\phi$ for a polynomial kernel with $d=2$ and two features $x_1$ and $x_2$."
   ]
  },
  {
   "cell_type": "markdown",
   "metadata": {
    "hidden": true
   },
   "source": [
    "Question: Why should we use the kernel trick for adding polynomials to a SVM instead of just adding the polynomials to the feature space?"
   ]
  },
  {
   "cell_type": "markdown",
   "metadata": {
    "hidden": true
   },
   "source": [
    "Question: Describe the main strengths and weaknesses of using SVMs for classification tasks."
   ]
  },
  {
   "cell_type": "markdown",
   "metadata": {
    "ExecuteTime": {
     "end_time": "2021-06-08T06:25:55.365496Z",
     "start_time": "2021-06-08T06:25:55.354496Z"
    },
    "hidden": true
   },
   "source": [
    "Question: How does a Support Vector Regression change with increasing $\\epsilon$-parameter?"
   ]
  },
  {
   "cell_type": "markdown",
   "metadata": {
    "hidden": true
   },
   "source": [
    "Question: Let us use a degree two polynomial kernel with regularization C and $\\epsilon = 0.1$ Which of the two fits uses higher C-value? \n",
    "\n",
    "<div>\n",
    "<img src=\"support_vector_regression_C.png\" width=\"800\"/>\n",
    "</div>"
   ]
  },
  {
   "cell_type": "markdown",
   "metadata": {
    "heading_collapsed": true
   },
   "source": [
    "# Decision Trees"
   ]
  },
  {
   "cell_type": "markdown",
   "metadata": {
    "hidden": true
   },
   "source": [
    "Question: List the main benefits and main disadvantages of using decision trees?"
   ]
  },
  {
   "cell_type": "markdown",
   "metadata": {
    "ExecuteTime": {
     "end_time": "2021-06-22T13:59:16.373612Z",
     "start_time": "2021-06-22T13:59:16.360615Z"
    },
    "hidden": true
   },
   "source": [
    "Question: Look at the following decision tree of splitting the Iris dataset with features petal length (0) and petal width (1). Calculate the entropy for all depth-1 nodes.\n",
    "\n",
    "<div>\n",
    "<img src=\"decision_tree.png\" width=\"400\"/>\n",
    "</div>"
   ]
  },
  {
   "cell_type": "markdown",
   "metadata": {
    "hidden": true
   },
   "source": [
    "Question: Look at the following data set:\n",
    "\n",
    "<div>\n",
    "<img src=\"data_set_decision_tree.png\" width=\"400\"/>\n",
    "</div>\n",
    "\n",
    "*    Compute the Gini index for the **Customer ID** and the **Gender** column.\n",
    "*    Which attribute - **Gender**, **Car Type**, **Shirt Size** - is better suited for splitting?"
   ]
  },
  {
   "cell_type": "markdown",
   "metadata": {
    "ExecuteTime": {
     "end_time": "2021-06-22T14:14:41.584989Z",
     "start_time": "2021-06-22T14:14:41.575994Z"
    },
    "hidden": true
   },
   "source": [
    "Question: Look at the following data set:\n",
    "\n",
    "<div>\n",
    "<img src=\"data_set_2_decision_tree.png\" width=\"400\"/>\n",
    "</div>\n",
    "\n",
    "Which is the best split according to information gain?"
   ]
  },
  {
   "cell_type": "markdown",
   "metadata": {
    "hidden": true
   },
   "source": [
    "Question: Describe the ID3 algorithm."
   ]
  },
  {
   "cell_type": "markdown",
   "metadata": {
    "hidden": true
   },
   "source": [
    "Question: How is the bias-variance tradeoff related to the maximum depth of a decision tree."
   ]
  },
  {
   "cell_type": "markdown",
   "metadata": {
    "hidden": true
   },
   "source": [
    "Question: Describe how pruning works."
   ]
  },
  {
   "cell_type": "markdown",
   "metadata": {
    "hidden": true
   },
   "source": [
    "Question: Describe the cost function and optimization of a decision tree regression algorithm."
   ]
  },
  {
   "cell_type": "markdown",
   "metadata": {},
   "source": [
    "# Ensemble Methods & Random Forests"
   ]
  },
  {
   "cell_type": "markdown",
   "metadata": {},
   "source": [
    "Question: Compare the bias variance trade-off for decision trees and random forests."
   ]
  },
  {
   "cell_type": "markdown",
   "metadata": {},
   "source": [
    "Question: What is meant by Bagging?"
   ]
  },
  {
   "cell_type": "markdown",
   "metadata": {},
   "source": [
    "Question: Which is the difference between a Bagging and a Pasting Classifier?"
   ]
  },
  {
   "cell_type": "markdown",
   "metadata": {
    "solution": "hidden",
    "solution2": "hidden",
    "solution2_first": true,
    "solution_first": true
   },
   "source": [
    "Question: Which are the most important parameters of random forests?"
   ]
  },
  {
   "cell_type": "markdown",
   "metadata": {
    "solution2": "hidden"
   },
   "source": [
    "The important parameters to adjust are n_estimators, max_features, and possibly\n",
    "pre-pruning options like max_depth. For n_estimators, larger is always better. Averaging\n",
    "more trees will yield a more robust ensemble by reducing overfitting. However,\n",
    "there are diminishing returns, and more trees need more memory and more time to\n",
    "train. A common rule of thumb is to build “as many as you have time/memory for.”\n",
    "As described earlier, max_features determines how random each tree is, and a\n",
    "smaller max_features reduces overfitting. In general, it’s a good rule of thumb to use\n",
    "the default values: max_features=sqrt(n_features) for classification and max_fea\n",
    "tures=n_features for regression. Adding max_features or max_leaf_nodes might\n",
    "sometimes improve performance. It can also drastically reduce space and time\n",
    "requirements for training and prediction."
   ]
  },
  {
   "cell_type": "markdown",
   "metadata": {
    "ExecuteTime": {
     "end_time": "2021-06-29T12:41:54.097585Z",
     "start_time": "2021-06-29T12:41:54.087576Z"
    },
    "solution2": "hidden",
    "solution2_first": true
   },
   "source": [
    "Question: Looking at the following plot\n",
    "    \n",
    "<div>\n",
    "<img src=\"decision_tree_vs_bagging.png\" width=\"800\"/>\n",
    "</div>\n",
    "\n",
    "which is most probable the decision tree model and which the random forest model."
   ]
  },
  {
   "cell_type": "markdown",
   "metadata": {
    "solution2": "hidden"
   },
   "source": [
    "The second plot is most probable the random forest model."
   ]
  },
  {
   "cell_type": "markdown",
   "metadata": {
    "ExecuteTime": {
     "end_time": "2021-06-29T13:02:28.853115Z",
     "start_time": "2021-06-29T13:02:28.843115Z"
    },
    "solution2": "hidden",
    "solution2_first": true
   },
   "source": [
    "Question: Describe the difference between hard and soft voting in ensemble methods?"
   ]
  },
  {
   "cell_type": "markdown",
   "metadata": {
    "solution2": "hidden",
    "solution2_first": true
   },
   "source": [
    "Question: Why should a model combined different other models be more accurate than the individual models."
   ]
  },
  {
   "cell_type": "code",
   "execution_count": null,
   "metadata": {
    "solution2": "hidden"
   },
   "outputs": [],
   "source": [
    "Soft voting refers to voting with respect to probabilities..."
   ]
  },
  {
   "cell_type": "markdown",
   "metadata": {},
   "source": [
    "# Genetic Algorithm"
   ]
  }
 ],
 "metadata": {
  "hide_input": false,
  "kernelspec": {
   "display_name": "Python 3",
   "language": "python",
   "name": "python3"
  },
  "language_info": {
   "codemirror_mode": {
    "name": "ipython",
    "version": 3
   },
   "file_extension": ".py",
   "mimetype": "text/x-python",
   "name": "python",
   "nbconvert_exporter": "python",
   "pygments_lexer": "ipython3",
   "version": "3.7.1"
  },
  "toc": {
   "base_numbering": 1,
   "nav_menu": {},
   "number_sections": true,
   "sideBar": true,
   "skip_h1_title": false,
   "title_cell": "Table of Contents",
   "title_sidebar": "Contents",
   "toc_cell": false,
   "toc_position": {},
   "toc_section_display": true,
   "toc_window_display": true
  }
 },
 "nbformat": 4,
 "nbformat_minor": 4
}
