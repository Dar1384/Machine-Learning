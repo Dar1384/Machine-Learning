{
 "cells": [
  {
   "cell_type": "markdown",
   "metadata": {},
   "source": [
    "# Open Questions"
   ]
  },
  {
   "cell_type": "markdown",
   "metadata": {},
   "source": [
    "# Preamble"
   ]
  },
  {
   "cell_type": "code",
   "execution_count": 1,
   "metadata": {
    "ExecuteTime": {
     "end_time": "2021-05-18T16:50:49.865875Z",
     "start_time": "2021-05-18T16:50:49.223746Z"
    }
   },
   "outputs": [],
   "source": [
    "# Common imports\n",
    "import numpy as np # numpy is THE toolbox for scientific computing with python\n",
    "import pandas as pd # pandas provides THE data structure and data analysis tools for data scientists \n",
    "\n",
    "# maximum number of columns\n",
    "pd.set_option(\"display.max_rows\", 101)\n",
    "pd.set_option(\"display.max_columns\", 101)\n",
    "\n",
    "# To plot pretty figures\n",
    "%matplotlib inline\n",
    "import matplotlib as mpl\n",
    "import matplotlib.pyplot as plt\n",
    "mpl.rc('axes', labelsize=14)\n",
    "mpl.rc('xtick', labelsize=12)\n",
    "mpl.rc('ytick', labelsize=12)\n",
    "\n",
    "from warnings import filterwarnings\n",
    "filterwarnings('ignore')"
   ]
  },
  {
   "cell_type": "markdown",
   "metadata": {},
   "source": [
    "# Support Vector Machines"
   ]
  },
  {
   "cell_type": "markdown",
   "metadata": {},
   "source": [
    "Question: The optimization problem of SVCs is to minimize the objective function $J(\\omega) = \\frac{1}{2} ||\\omega||^2$ subject to the constraint $y_i \\left(\\omega_i^T x + b \\right) \\geq 1$. How is the SVM optimization problem written in its dual form?"
   ]
  },
  {
   "cell_type": "markdown",
   "metadata": {},
   "source": [
    "Question: Describe the difference between hard-margin and soft-margin classification. How does the slack variable $\\xi$ enter the objective function? How does the regularization parameter $C$ enter the objective function?"
   ]
  },
  {
   "cell_type": "markdown",
   "metadata": {
    "ExecuteTime": {
     "end_time": "2021-06-08T05:02:25.714710Z",
     "start_time": "2021-06-08T05:02:25.707707Z"
    }
   },
   "source": [
    "Question: Look at the following plot:\n",
    "    \n",
    "<div>\n",
    "<img src=\"efficient_learning_machines_SVM_C.png\" width=\"300\"/>\n",
    "</div>\n",
    "\n",
    "Describe how the regularization parameter $C$ changes the separating hyperplane in this dataset."
   ]
  },
  {
   "cell_type": "markdown",
   "metadata": {},
   "source": [
    "Question: Say you trained an SVM classifier with an RBF kernel. It seems to underfit the training set: should you increase or decrease $\\gamma$? What about $C$?"
   ]
  },
  {
   "cell_type": "markdown",
   "metadata": {
    "ExecuteTime": {
     "end_time": "2021-06-08T04:47:59.458484Z",
     "start_time": "2021-06-08T04:47:59.453484Z"
    }
   },
   "source": [
    "Question: Let us consider a polynomial kernel $K(\\vec{x}, \\vec{x}') = \\left( \\vec{x} \\cdot \\vec{x}' + 1 \\right)^d$. The kernel trick assumes that $K(\\vec{x}, \\vec{x}') = \\phi^T(\\vec{x}) \\cdot \\phi(\\vec{x}')$. Calculate $\\phi$ for a polynomial kernel with $d=2$ and two features $x_1$ and $x_2$."
   ]
  },
  {
   "cell_type": "markdown",
   "metadata": {},
   "source": [
    "Question: Why should we use the kernel trick for adding polynomials to a SVM instead of just adding the polynomials to the feature space?"
   ]
  },
  {
   "cell_type": "markdown",
   "metadata": {},
   "source": [
    "Question: Describe the main strengths and weaknesses of using SVMs for classification tasks."
   ]
  },
  {
   "cell_type": "markdown",
   "metadata": {
    "ExecuteTime": {
     "end_time": "2021-06-08T06:25:55.365496Z",
     "start_time": "2021-06-08T06:25:55.354496Z"
    }
   },
   "source": [
    "Question: How does a Support Vector Regression change with increasing $\\epsilon$-parameter?"
   ]
  },
  {
   "cell_type": "markdown",
   "metadata": {},
   "source": [
    "Question: Let us use a degree two polynomial kernel with regularization C and $\\epsilon = 0.1$ Which of the two fits uses higher C-value? \n",
    "\n",
    "<div>\n",
    "<img src=\"support_vector_regression_C.png\" width=\"800\"/>\n",
    "</div>\n"
   ]
  },
  {
   "cell_type": "markdown",
   "metadata": {},
   "source": [
    "# Decision Trees"
   ]
  }
 ],
 "metadata": {
  "hide_input": false,
  "kernelspec": {
   "display_name": "Python 3",
   "language": "python",
   "name": "python3"
  },
  "language_info": {
   "codemirror_mode": {
    "name": "ipython",
    "version": 3
   },
   "file_extension": ".py",
   "mimetype": "text/x-python",
   "name": "python",
   "nbconvert_exporter": "python",
   "pygments_lexer": "ipython3",
   "version": "3.7.1"
  },
  "toc": {
   "base_numbering": 1,
   "nav_menu": {},
   "number_sections": true,
   "sideBar": true,
   "skip_h1_title": false,
   "title_cell": "Table of Contents",
   "title_sidebar": "Contents",
   "toc_cell": false,
   "toc_position": {},
   "toc_section_display": true,
   "toc_window_display": false
  }
 },
 "nbformat": 4,
 "nbformat_minor": 4
}
